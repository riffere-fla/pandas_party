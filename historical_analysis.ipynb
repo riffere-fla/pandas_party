{
 "cells": [
  {
   "cell_type": "markdown",
   "metadata": {},
   "source": [
    "Florida Panthers Hockey Club Historical Review (2017/18-2023/24)\n",
    "\n",
    "YoY Metrics to Track:\n",
    "\n",
    "~ Tickets\n",
    "    ~ How have our biggest games improved? Smallest Games? Season Averages? Post-Season?\n",
    "    ~ KPIs : Gross Revenue, Paid Tickets, ATP, Comp Ticket Conversion Rate\n",
    "~ Attendance \n",
    "    ~ Once people buy do they show up? Single game show-rate? Plan show-rate? \n",
    "    ~ KPIs : Show Rate (by game/by tier/by ticket type)\n",
    "~ Parking \n",
    "    ~ How do game factors influence parking numbers?\n",
    "    ~ KPIs: Prepaid (difference with Seatgeek) v On-Site, People per Car, Per Cap, # of Cars\n",
    "~ F&B \n",
    "    ~ How do game factors influence F&B numbers? Change by location? Parnerships?\n",
    "    ~ KPIs: Gross Revenue, Per Cap, Avg Item Price\n",
    "~ Merch\n",
    "    ~ How do game factors influence merch numbers? Change by location?\n",
    "    ~ KPIs: Gross Revenue, Per Cap, Avg Item Price\n",
    "~ All-In Total\n",
    "    ~ How much does it cost for someone to attend a Panthers game?\n",
    "\n",
    "Other Factors to Consider:\n",
    "\n",
    "~ COVID-19\n",
    "~ On-ice performance\n",
    "~ Growth of STM base\n",
    "\n",
    "Data Sources Used:\n",
    "\n",
    "~ cth_historical_all_1718_2223\n",
    "~ cth_v_ticket_2324\n",
    "\n",
    "Models Created: \n",
    "\n",
    "~ \n",
    "\n",
    "Future Considerations:\n",
    "\n",
    "~ "
   ]
  },
  {
   "cell_type": "code",
   "execution_count": 4,
   "metadata": {},
   "outputs": [],
   "source": [
    "import pandas as pd\n",
    "import numpy as np\n",
    "from catnip.fla_redshift import FLA_Redshift\n",
    "from sqlalchemy import null\n",
    "from datetime import datetime\n",
    "\n",
    "from prefect.blocks.system import Secret\n",
    "from typing import Dict\n",
    "from concurrent.futures import ThreadPoolExecutor"
   ]
  },
  {
   "cell_type": "code",
   "execution_count": 5,
   "metadata": {},
   "outputs": [],
   "source": [
    "def get_redshift_credentials() -> Dict:\n",
    "\n",
    "    cred_dict = {\n",
    "        \"dbname\": Secret.load(\"stellar-redshift-db-name\").get(),\n",
    "        \"host\": Secret.load(\"stellar-redshift-host\").get(),\n",
    "        \"port\": 5439,\n",
    "        \"user\": Secret.load(\"stellar-redshift-user-name\").get(),\n",
    "        \"password\": Secret.load(\"stellar-redshift-password\").get(),\n",
    "\n",
    "        \"aws_access_key_id\": Secret.load(\"fla-s3-aws-access-key-id-east-1\").get(),\n",
    "        \"aws_secret_access_key\": Secret.load(\"fla-s3-aws-secret-access-key-east-1\").get(),\n",
    "        \"bucket\": Secret.load(\"fla-s3-bucket-name-east-1\").get(),\n",
    "        \"subdirectory\": \"us-east-1\",\n",
    "\n",
    "        \"verbose\": False,\n",
    "    }\n",
    "\n",
    "    return cred_dict\n",
    "\n",
    "with ThreadPoolExecutor(1) as pool:\n",
    "    rs_creds = pool.submit(lambda: get_redshift_credentials()).result()"
   ]
  },
  {
   "cell_type": "markdown",
   "metadata": {},
   "source": [
    "Part I ~ Tickets"
   ]
  },
  {
   "cell_type": "code",
   "execution_count": null,
   "metadata": {},
   "outputs": [],
   "source": [
    "# all regular season games since 2017-18 (excluding covid season) paid seats, comp seats, gross revenue, ATP\n",
    "    # quick pivot by tier, opponent, ticket type\n",
    "    # growth of STMs\n",
    "    # bowl analysis\n",
    "    # num of each tier of games by season, points % of team each season (first half? if they made the playoffs?)\n",
    "    # YoY Growth by each metric - model for equation that shows growth to predict into future on current trajectory?"
   ]
  },
  {
   "cell_type": "code",
   "execution_count": 33,
   "metadata": {},
   "outputs": [],
   "source": [
    "# import data\n",
    "\n",
    "q = \"\"\"\n",
    "WITH all_games AS\n",
    "    (SELECT season, date(event_date) as event_date, ticket_type,\n",
    "        CASE\n",
    "            when pc_one in ('A', 'B', 'C', 'D', 'E', 'F', 'G', 'H', 'I', 'J', '1', '2', '3', '4', '5', '6', '7', '8') then 'Lowers'\n",
    "            when pc_one in ('K', 'L', 'M') then 'Clubs'\n",
    "            when pc_one in ('N', 'O', 'P', 'Q', 'R', 'S', 'T', 'Y') then 'Uppers'\n",
    "            when pc_one in ('U', 'V', 'W') then 'Suites'\n",
    "            when pc_one in ('X', 'Z') then 'Premium'\n",
    "        end as arena_level_internal,\n",
    "        sum(gross_revenue) as gross_revenue,\n",
    "        sum(paid_seats) as paid_seats, sum(comp_seats) as comp_seats\n",
    "    FROM custom.cth_historical_all_1718_2223\n",
    "    WHERE season != '2020-21'\n",
    "    GROUP BY season, event_date, ticket_type, arena_level_internal\n",
    "    UNION ALL\n",
    "    SELECT '2023-24' as season, date(event_datetime) as event_date, ticket_type, arena_level_internal, sum(gross_revenue) as gross_revenue,\n",
    "       sum(paid_seats) as paid_seats, sum(comp_seats) as comp_seats\n",
    "    FROM custom.cth_v_ticket_2324\n",
    "    GROUP BY season, event_date, ticket_type, arena_level_internal)\n",
    "SELECT all_games.*, tier, abbreviation\n",
    "FROM all_games\n",
    "LEFT JOIN custom.cth_game_descriptions\n",
    "    on all_games.event_date = cth_game_descriptions.event_date\n",
    "\"\"\"\n",
    "\n",
    "df = FLA_Redshift(**rs_creds).query_warehouse(sql_string = q)"
   ]
  },
  {
   "cell_type": "code",
   "execution_count": 35,
   "metadata": {},
   "outputs": [
    {
     "data": {
      "text/plain": [
       "pandas.core.frame.DataFrame"
      ]
     },
     "execution_count": 35,
     "metadata": {},
     "output_type": "execute_result"
    }
   ],
   "source": [
    "df_pivot = df.groupby(by = ['season', 'event_date'], axis = 0)[['gross_revenue','paid_seats','comp_seats']].sum()\n",
    "pd.concat()"
   ]
  },
  {
   "cell_type": "code",
   "execution_count": 32,
   "metadata": {},
   "outputs": [
    {
     "data": {
      "text/html": [
       "<div>\n",
       "<style scoped>\n",
       "    .dataframe tbody tr th:only-of-type {\n",
       "        vertical-align: middle;\n",
       "    }\n",
       "\n",
       "    .dataframe tbody tr th {\n",
       "        vertical-align: top;\n",
       "    }\n",
       "\n",
       "    .dataframe thead th {\n",
       "        text-align: right;\n",
       "    }\n",
       "</style>\n",
       "<table border=\"1\" class=\"dataframe\">\n",
       "  <thead>\n",
       "    <tr style=\"text-align: right;\">\n",
       "      <th></th>\n",
       "      <th></th>\n",
       "      <th>gross_revenue</th>\n",
       "      <th>paid_seats</th>\n",
       "      <th>comp_seats</th>\n",
       "    </tr>\n",
       "    <tr>\n",
       "      <th>abbreviation</th>\n",
       "      <th>season</th>\n",
       "      <th></th>\n",
       "      <th></th>\n",
       "      <th></th>\n",
       "    </tr>\n",
       "  </thead>\n",
       "  <tbody>\n",
       "    <tr>\n",
       "      <th rowspan=\"5\" valign=\"top\">ANA</th>\n",
       "      <th>2017-18</th>\n",
       "      <td>485819.030</td>\n",
       "      <td>9759.0</td>\n",
       "      <td>1099.0</td>\n",
       "    </tr>\n",
       "    <tr>\n",
       "      <th>2018-19</th>\n",
       "      <td>500259.030</td>\n",
       "      <td>8703.0</td>\n",
       "      <td>733.0</td>\n",
       "    </tr>\n",
       "    <tr>\n",
       "      <th>2019-20</th>\n",
       "      <td>473683.400</td>\n",
       "      <td>9433.0</td>\n",
       "      <td>2703.0</td>\n",
       "    </tr>\n",
       "    <tr>\n",
       "      <th>2021-22</th>\n",
       "      <td>679660.730</td>\n",
       "      <td>13880.0</td>\n",
       "      <td>2324.0</td>\n",
       "    </tr>\n",
       "    <tr>\n",
       "      <th>2022-23</th>\n",
       "      <td>736829.120</td>\n",
       "      <td>14543.0</td>\n",
       "      <td>1952.0</td>\n",
       "    </tr>\n",
       "    <tr>\n",
       "      <th>...</th>\n",
       "      <th>...</th>\n",
       "      <td>...</td>\n",
       "      <td>...</td>\n",
       "      <td>...</td>\n",
       "    </tr>\n",
       "    <tr>\n",
       "      <th rowspan=\"5\" valign=\"top\">WSH</th>\n",
       "      <th>2018-19</th>\n",
       "      <td>723644.220</td>\n",
       "      <td>12978.0</td>\n",
       "      <td>1907.0</td>\n",
       "    </tr>\n",
       "    <tr>\n",
       "      <th>2019-20</th>\n",
       "      <td>707647.500</td>\n",
       "      <td>12290.0</td>\n",
       "      <td>2266.0</td>\n",
       "    </tr>\n",
       "    <tr>\n",
       "      <th>2021-22</th>\n",
       "      <td>1166180.092</td>\n",
       "      <td>15854.4</td>\n",
       "      <td>704.8</td>\n",
       "    </tr>\n",
       "    <tr>\n",
       "      <th>2022-23</th>\n",
       "      <td>693485.390</td>\n",
       "      <td>12851.0</td>\n",
       "      <td>965.0</td>\n",
       "    </tr>\n",
       "    <tr>\n",
       "      <th>2023-24</th>\n",
       "      <td>1327419.655</td>\n",
       "      <td>17817.0</td>\n",
       "      <td>954.5</td>\n",
       "    </tr>\n",
       "  </tbody>\n",
       "</table>\n",
       "<p>180 rows × 3 columns</p>\n",
       "</div>"
      ],
      "text/plain": [
       "                      gross_revenue  paid_seats  comp_seats\n",
       "abbreviation season                                        \n",
       "ANA          2017-18     485819.030      9759.0      1099.0\n",
       "             2018-19     500259.030      8703.0       733.0\n",
       "             2019-20     473683.400      9433.0      2703.0\n",
       "             2021-22     679660.730     13880.0      2324.0\n",
       "             2022-23     736829.120     14543.0      1952.0\n",
       "...                             ...         ...         ...\n",
       "WSH          2018-19     723644.220     12978.0      1907.0\n",
       "             2019-20     707647.500     12290.0      2266.0\n",
       "             2021-22    1166180.092     15854.4       704.8\n",
       "             2022-23     693485.390     12851.0       965.0\n",
       "             2023-24    1327419.655     17817.0       954.5\n",
       "\n",
       "[180 rows x 3 columns]"
      ]
     },
     "execution_count": 32,
     "metadata": {},
     "output_type": "execute_result"
    }
   ],
   "source": [
    "df_tier = df.groupby(by = ['tier', 'season'], axis = 0)[['gross_revenue','paid_seats','comp_seats']].mean()\n",
    "df_abbr = df.groupby(by = ['abbreviation', 'season'], axis = 0)[['gross_revenue','paid_seats','comp_seats']].mean()\n",
    "df_abbr"
   ]
  },
  {
   "cell_type": "markdown",
   "metadata": {},
   "source": [
    "Part II ~ Attendance"
   ]
  },
  {
   "cell_type": "code",
   "execution_count": null,
   "metadata": {},
   "outputs": [],
   "source": [
    "# all regular season games since 2017-18 (excluding covid season?) paid attendance, comp attendance, paid show rate, comp show rate\n",
    "    # quick pivot by tier, ticket type\n",
    "    # num of plan tickets sold/scanned by another account\n",
    "    # bowl analysis\n",
    "    # num of each tier of games by season, points % of team each season (first half? if they made the playoffs?)\n",
    "    # YoY Growth by each metric - model for equation that shows growth to predict into future on current trajectory?"
   ]
  },
  {
   "cell_type": "markdown",
   "metadata": {},
   "source": [
    "Part III ~ Parking"
   ]
  },
  {
   "cell_type": "code",
   "execution_count": null,
   "metadata": {},
   "outputs": [],
   "source": [
    "# all regular season games since 2017-18 (excluding covid season?) # cars, prepaid v onsite breakdown, gross revenue\n",
    "    # quick pivot by tier, day of week/start time\n",
    "    # prepaid v onsite analysis/growth by season\n",
    "    # num of each tier of games by season, points % of team each season (first half? if they made the playoffs?)\n",
    "    # YoY Growth by each metric - model for equation that shows growth to predict into future on current trajectory?"
   ]
  },
  {
   "cell_type": "markdown",
   "metadata": {},
   "source": [
    "Part IV ~ F&B "
   ]
  },
  {
   "cell_type": "code",
   "execution_count": null,
   "metadata": {},
   "outputs": [],
   "source": [
    "# all regular season games since 2017-18 (excluding covid season?) gross revenue, # items, location in arena\n",
    "    # quick pivot by tier, day of week/start time\n",
    "    # by location/bowl level growth\n",
    "    # parnership growth\n",
    "    # num of each tier of games by season, points % of team each season (first half? if they made the playoffs?)\n",
    "    # YoY Growth by each metric - model for equation that shows growth to predict into future on current trajectory?"
   ]
  },
  {
   "cell_type": "markdown",
   "metadata": {},
   "source": [
    "Part V ~ Merch"
   ]
  },
  {
   "cell_type": "code",
   "execution_count": null,
   "metadata": {},
   "outputs": [],
   "source": [
    "# all regular season games since 2017-18 (excluding covid season?) gross revenue, # items, location in arena\n",
    "    # quick pivot by tier, trimester?\n",
    "    # num of each tier of games by season, points % of team each season (first half? if they made the playoffs?)\n",
    "    # YoY Growth by each metric - model for equation that shows growth to predict into future on current trajectory?"
   ]
  },
  {
   "cell_type": "markdown",
   "metadata": {},
   "source": [
    "Part VI ~ All-In Total"
   ]
  },
  {
   "cell_type": "code",
   "execution_count": null,
   "metadata": {},
   "outputs": [],
   "source": [
    "# aggregate all previous sections\n",
    "    # how much additional revenue have we generated in total?"
   ]
  }
 ],
 "metadata": {
  "kernelspec": {
   "display_name": "venv",
   "language": "python",
   "name": "python3"
  },
  "language_info": {
   "codemirror_mode": {
    "name": "ipython",
    "version": 3
   },
   "file_extension": ".py",
   "mimetype": "text/x-python",
   "name": "python",
   "nbconvert_exporter": "python",
   "pygments_lexer": "ipython3",
   "version": "3.11.4"
  }
 },
 "nbformat": 4,
 "nbformat_minor": 2
}
