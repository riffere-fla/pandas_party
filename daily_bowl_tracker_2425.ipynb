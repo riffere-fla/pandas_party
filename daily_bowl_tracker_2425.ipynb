{
 "cells": [
  {
   "cell_type": "code",
   "execution_count": 7,
   "metadata": {},
   "outputs": [],
   "source": [
    "import pandas as pd\n",
    "import numpy as np\n",
    "from datetime import datetime, date\n",
    "from prefect.blocks.system import Secret\n",
    "from catnip.fla_redshift import FLA_Redshift\n",
    "from typing import Dict\n",
    "from concurrent.futures import ThreadPoolExecutor\n",
    "from itertools import product"
   ]
  },
  {
   "cell_type": "code",
   "execution_count": 2,
   "metadata": {},
   "outputs": [],
   "source": [
    "def get_redshift_credentials() -> Dict:\n",
    "\n",
    "    cred_dict = {\n",
    "        \"dbname\": Secret.load(\"stellar-redshift-db-name\").get(),\n",
    "        \"host\": Secret.load(\"stellar-redshift-host\").get(),\n",
    "        \"port\": 5439,\n",
    "        \"user\": Secret.load(\"stellar-redshift-user-name\").get(),\n",
    "        \"password\": Secret.load(\"stellar-redshift-password\").get(),\n",
    "\n",
    "        \"aws_access_key_id\": Secret.load(\"fla-s3-aws-access-key-id-east-1\").get(),\n",
    "        \"aws_secret_access_key\": Secret.load(\"fla-s3-aws-secret-access-key-east-1\").get(),\n",
    "        \"bucket\": Secret.load(\"fla-s3-bucket-name-east-1\").get(),\n",
    "        \"subdirectory\": \"us-east-1\",\n",
    "\n",
    "        \"verbose\": False,\n",
    "    }\n",
    "\n",
    "    return cred_dict\n",
    "\n",
    "with ThreadPoolExecutor(1) as pool:\n",
    "    rs_creds = pool.submit(lambda: get_redshift_credentials()).result()"
   ]
  },
  {
   "cell_type": "code",
   "execution_count": 30,
   "metadata": {},
   "outputs": [],
   "source": [
    "my_dates = pd.date_range(start = \"2024-03-10\", end = date.today()).to_pydatetime().tolist()\n",
    "my_ticket_types = [\"Full\",\"Premier\"]\n",
    "my_arena_levels = [\"Clubs\", \"Uppers\", \"Lowers\", \"Premium\"]\n",
    "\n",
    "df = pd.DataFrame(list(product(my_dates, my_ticket_types, my_arena_levels)), columns = [\"sale_date\", \"ticket_type\", \"arena_level_internal\"])\n",
    "\n",
    "df['day_in_sales_cycle'] =[abs((datetime(2024, 3, 10) - x).days) for x in df['sale_date']]"
   ]
  },
  {
   "cell_type": "code",
   "execution_count": 29,
   "metadata": {},
   "outputs": [],
   "source": [
    "q = \"\"\"\n",
    "SELECT\n",
    "    greatest(datediff(day, '2024-03-10', date(transaction_date)), 0) AS \"day_in_sales_cycle\",\n",
    "    ticket_type,\n",
    "    arena_level_internal,\n",
    "    count(*) AS \"num_seats_2425\",\n",
    "    sum(gross_revenue) AS \"gross_revenue_2425\"\n",
    "FROM\n",
    "    custom.cth_v_ticket_subscription_2425\n",
    "WHERE\n",
    "    is_renewal = FALSE\n",
    "GROUP BY\n",
    "    \"day_in_sales_cycle\", ticket_type, arena_level_internal\n",
    "ORDER BY\n",
    "    \"day_in_sales_cycle\", ticket_type, arena_level_internal\"\"\"\n",
    "\n",
    "df2 = FLA_Redshift(**rs_creds).query_warehouse(sql_string=q)"
   ]
  },
  {
   "cell_type": "code",
   "execution_count": 31,
   "metadata": {},
   "outputs": [],
   "source": [
    "df3 = pd.merge(left = df, right = df2, how = 'left', on = [\"day_in_sales_cycle\", \"ticket_type\", \"arena_level_internal\"])\n",
    "df3 = df3.fillna(0)"
   ]
  },
  {
   "cell_type": "code",
   "execution_count": 28,
   "metadata": {},
   "outputs": [],
   "source": [
    "FLA_Redshift(**rs_creds).write_to_warehouse(df = df3, table_name= \"cth_daily_bowl_tracker_2425\")"
   ]
  }
 ],
 "metadata": {
  "kernelspec": {
   "display_name": "venv",
   "language": "python",
   "name": "python3"
  },
  "language_info": {
   "codemirror_mode": {
    "name": "ipython",
    "version": 3
   },
   "file_extension": ".py",
   "mimetype": "text/x-python",
   "name": "python",
   "nbconvert_exporter": "python",
   "pygments_lexer": "ipython3",
   "version": "3.11.4"
  }
 },
 "nbformat": 4,
 "nbformat_minor": 2
}
