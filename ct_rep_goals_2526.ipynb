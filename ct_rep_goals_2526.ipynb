{
 "cells": [
  {
   "cell_type": "code",
   "execution_count": 1,
   "id": "98fa0e18",
   "metadata": {},
   "outputs": [],
   "source": [
    "import pandas as pd\n",
    "import numpy as np\n",
    "from catnip.fla_redshift import FLA_Redshift\n",
    "from sqlalchemy import null\n",
    "from datetime import datetime\n",
    "\n",
    "from prefect.blocks.system import Secret\n",
    "from typing import Dict\n",
    "from concurrent.futures import ThreadPoolExecutor"
   ]
  },
  {
   "cell_type": "code",
   "execution_count": 2,
   "id": "58b9a295",
   "metadata": {},
   "outputs": [],
   "source": [
    "def get_redshift_credentials() -> Dict:\n",
    "\n",
    "    cred_dict = {\n",
    "        \"dbname\": Secret.load(\"stellar-redshift-db-name\").get(),\n",
    "        \"host\": Secret.load(\"stellar-redshift-host\").get(),\n",
    "        \"port\": 5439,\n",
    "        \"user\": Secret.load(\"stellar-redshift-user-name\").get(),\n",
    "        \"password\": Secret.load(\"stellar-redshift-password\").get(),\n",
    "\n",
    "        \"aws_access_key_id\": Secret.load(\"fla-s3-aws-access-key-id-east-1\").get(),\n",
    "        \"aws_secret_access_key\": Secret.load(\"fla-s3-aws-secret-access-key-east-1\").get(),\n",
    "        \"bucket\": Secret.load(\"fla-s3-bucket-name-east-1\").get(),\n",
    "        \"subdirectory\": \"us-east-1\",\n",
    "\n",
    "        \"verbose\": False,\n",
    "    }\n",
    "\n",
    "    return cred_dict\n",
    "\n",
    "with ThreadPoolExecutor(1) as pool:\n",
    "    rs_creds = pool.submit(lambda: get_redshift_credentials()).result()"
   ]
  },
  {
   "cell_type": "code",
   "execution_count": 3,
   "id": "f61c13b3",
   "metadata": {},
   "outputs": [],
   "source": [
    "cth_rep_goals_2526 = pd.read_csv(\"C:\\\\Users\\\\riffere\\\\Desktop\\\\cth_rep_goals_2526.csv\")\n",
    "FLA_Redshift(**rs_creds).write_to_warehouse(df = cth_rep_goals_2526, table_name= \"cth_rep_goals_2526\")\n",
    "\n",
    "# cte_rep_goals_2526 = pd.read_csv(\"C:\\\\Users\\\\riffere\\\\Desktop\\\\cte_rep_goals_2526.csv\")\n",
    "# FLA_Redshift(**rs_creds).write_to_warehouse(df = cte_rep_goals_2526, table_name= \"cte_rep_goals_2526\")\n",
    "\n",
    "# ctwm_rep_goals_2526 = pd.read_csv(\"C:\\\\Users\\\\riffere\\\\Desktop\\\\ctwm_rep_goals_2526.csv\")\n",
    "# FLA_Redshift(**rs_creds).write_to_warehouse(df = ctwm_rep_goals_2526, table_name= \"ctwm_rep_goals_2526\")"
   ]
  }
 ],
 "metadata": {
  "kernelspec": {
   "display_name": "venv",
   "language": "python",
   "name": "python3"
  },
  "language_info": {
   "codemirror_mode": {
    "name": "ipython",
    "version": 3
   },
   "file_extension": ".py",
   "mimetype": "text/x-python",
   "name": "python",
   "nbconvert_exporter": "python",
   "pygments_lexer": "ipython3",
   "version": "3.11.9"
  }
 },
 "nbformat": 4,
 "nbformat_minor": 5
}
