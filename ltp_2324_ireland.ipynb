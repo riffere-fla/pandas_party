{
 "cells": [
  {
   "cell_type": "code",
   "execution_count": 2,
   "metadata": {},
   "outputs": [],
   "source": [
    "import pandas as pd\n",
    "import numpy as np\n",
    "from sqlalchemy import null\n",
    "from datetime import datetime\n",
    "from typing import Dict"
   ]
  },
  {
   "cell_type": "code",
   "execution_count": null,
   "metadata": {},
   "outputs": [],
   "source": [
    "df = pd.read_csv(\"\")\n",
    "df"
   ]
  },
  {
   "cell_type": "code",
   "execution_count": null,
   "metadata": {},
   "outputs": [],
   "source": [
    "df['add_date'].fillna(datetime.strptime('2030-01-01', \"%Y-%m-%d\"), inplace = True)\n",
    "df['add_date'] = pd.to_datetime(df['add_date']).dt.date"
   ]
  },
  {
   "cell_type": "code",
   "execution_count": null,
   "metadata": {},
   "outputs": [],
   "source": [
    "df['pre_altp_email'] = df.apply(lambda row: 0 if row['transaction_date'] == '' else (1 if row['add_date'] < row['transaction_date'] else 0), axis = 1)\n",
    "df['post_altp_email'] = df.apply(lambda row: 0 if row['transaction_date'] == '' else (1 if row['add_date'] >= row['transaction_date'] else 0), axis = 1)"
   ]
  },
  {
   "cell_type": "code",
   "execution_count": null,
   "metadata": {},
   "outputs": [],
   "source": [
    "season_dict = {\n",
    "    \"2015-16\" : 0,\n",
    "    \"2016-17\" : 0,\n",
    "    \"2017-18\" : 0,\n",
    "    \"2018-19\" : 1,\n",
    "    \"2019-20\" : 2,\n",
    "    \"2020-21\" : 3,\n",
    "    \"2021-22\" : 4,\n",
    "    \"2022-23\" : 5,\n",
    "    \"2023-24\" : 6\n",
    "}\n",
    "\n",
    "# sum season tickets before/after\n",
    "for key, value in season_dict.items():\n",
    "    col_list = list(df.columns[4:(4+value)])\n",
    "    # print(col_list)\n",
    "    df.loc[(df['season'] == key), 'pre_ltp_ticktets'] =  df[col_list].sum(axis = 1)\n",
    "\n",
    "for key, value in season_dict.items():\n",
    "    col_list = list(df.columns[(4 + value):11])\n",
    "    # print(col_list)\n",
    "    df.loc[(df['season'] == key), 'post_ltp_tickets'] =  df[col_list].sum(axis = 1)\n",
    "\n",
    "# sum revenue before/after\n",
    "for key, value in season_dict.items():\n",
    "    col_list = list(df.columns[12:(12+value)])\n",
    "    # print(col_list)\n",
    "    df.loc[(df['season'] == key), 'pre_ltp_revenue'] =  df[col_list].sum(axis = 1)\n",
    "\n",
    "\n",
    "for key, value in season_dict.items():\n",
    "    col_list = list(df.columns[(13 + value):20])\n",
    "    # print(col_list)\n",
    "    df.loc[(df['season'] == key), 'post_ltp_revenue'] =  df[col_list].sum(axis = 1)"
   ]
  }
 ],
 "metadata": {
  "kernelspec": {
   "display_name": "venv",
   "language": "python",
   "name": "python3"
  },
  "language_info": {
   "codemirror_mode": {
    "name": "ipython",
    "version": 3
   },
   "file_extension": ".py",
   "mimetype": "text/x-python",
   "name": "python",
   "nbconvert_exporter": "python",
   "pygments_lexer": "ipython3",
   "version": "3.11.4"
  }
 },
 "nbformat": 4,
 "nbformat_minor": 2
}
