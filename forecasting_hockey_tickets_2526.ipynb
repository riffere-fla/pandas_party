{
 "cells": [
  {
   "cell_type": "markdown",
   "metadata": {
    "cell_id": "0b8a60b586964ac19381b1a414caa4cb",
    "deepnote_cell_type": "text-cell-h1",
    "formattedRanges": [
     {
      "fromCodePoint": 0,
      "marks": {
       "bold": true,
       "color": "fg.neutral.primary",
       "underline": true
      },
      "toCodePoint": 23,
      "type": "marks"
     }
    ]
   },
   "source": [
    "# Ticket Prediction 25/26"
   ]
  },
  {
   "cell_type": "markdown",
   "metadata": {
    "cell_id": "b42ef68782134b0dae67772b1a9ecdfa",
    "deepnote_cell_type": "text-cell-h2",
    "formattedRanges": [
     {
      "fromCodePoint": 0,
      "marks": {
       "bold": true
      },
      "toCodePoint": 3,
      "type": "marks"
     }
    ]
   },
   "source": [
    "## 0. Import libraries (& Redshift credentials if in VSCode)"
   ]
  },
  {
   "cell_type": "code",
   "execution_count": 1,
   "metadata": {
    "cell_id": "09315e2d72a849b69325b07113d2fd57",
    "deepnote_cell_type": "code",
    "execution_context_id": "b11ce288-2722-457a-a513-a1be65d244f4",
    "execution_millis": 1889,
    "execution_start": 1755093071175,
    "source_hash": "dd36fc1f"
   },
   "outputs": [],
   "source": [
    "import pandas as pd\n",
    "import numpy as np\n",
    "from sqlalchemy import null\n",
    "from datetime import datetime\n",
    "\n",
    "from typing import Dict\n",
    "from concurrent.futures import ThreadPoolExecutor\n",
    "\n",
    "import missingno as msno\n",
    "import matplotlib.pyplot as plt\n",
    "from sklearn.linear_model import LogisticRegression\n",
    "from sklearn.model_selection import GridSearchCV\n",
    "from sklearn.preprocessing import StandardScaler\n",
    "from sklearn.metrics import classification_report\n",
    "from sklearn.feature_selection import RFECV\n",
    "import random\n",
    "\n",
    "from sklearn.metrics import roc_auc_score\n",
    "from sklearn.metrics import confusion_matrix\n",
    "from sklearn.metrics import ConfusionMatrixDisplay\n",
    "from sklearn.inspection import permutation_importance\n",
    "from imblearn.over_sampling import SMOTE \n",
    "from sklearn.preprocessing import OneHotEncoder\n",
    "from sklearn.neural_network import MLPRegressor"
   ]
  },
  {
   "cell_type": "markdown",
   "metadata": {
    "cell_id": "d6ec45e6af644780b93aca761f5f1d49",
    "deepnote_cell_type": "text-cell-h2",
    "formattedRanges": [
     {
      "fromCodePoint": 0,
      "marks": {
       "bold": true
      },
      "toCodePoint": 2,
      "type": "marks"
     }
    ]
   },
   "source": [
    "## 1. Missing Data Evaluation"
   ]
  },
  {
   "cell_type": "markdown",
   "metadata": {
    "cell_id": "e701a4bc5c5a44619548e4088dc67f88",
    "deepnote_cell_type": "text-cell-h3",
    "formattedRanges": [
     {
      "fromCodePoint": 0,
      "marks": {
       "bold": true
      },
      "toCodePoint": 3,
      "type": "marks"
     }
    ]
   },
   "source": [
    "### 1.1 Import data"
   ]
  },
  {
   "cell_type": "markdown",
   "metadata": {
    "cell_id": "431653f9c7d54b31ae08f76f4551e5c1",
    "deepnote_cell_type": "text-cell-p",
    "formattedRanges": []
   },
   "source": [
    "For large data sets grab from the warehouse once and then download as a CSV to pull from after. "
   ]
  },
  {
   "cell_type": "code",
   "execution_count": 2,
   "metadata": {
    "cell_id": "07f0c54324a143c2b02d768e354928cf",
    "deepnote_cell_type": "code",
    "execution_context_id": "b11ce288-2722-457a-a513-a1be65d244f4",
    "execution_millis": 10082,
    "execution_start": 1755093073115,
    "source_hash": "edd94e68"
   },
   "outputs": [],
   "source": [
    "df = pd.read_csv(\"C:\\\\Users\\\\riffere\\\\Florida Panthers\\\\SP-BS - Documents\\\\Data Science\\\\Resources\\\\Files\\\\emily_query_data_2025-07-17.csv\")\n",
    "\n",
    "df_2526 = pd.read_csv(\"C:\\\\Users\\\\riffere\\\\Desktop\\\\ticket_data_2526.csv\")\n",
    "\n",
    "df_regular_season = df[df['game_type'] == 1]"
   ]
  },
  {
   "cell_type": "code",
   "execution_count": 54,
   "metadata": {
    "cell_id": "4858008a722e4aa1a7baac701ff335cb",
    "deepnote_cell_type": "code",
    "execution_context_id": "b11ce288-2722-457a-a513-a1be65d244f4",
    "execution_millis": 1432,
    "execution_start": 1755093083265,
    "source_hash": "5fc57ee"
   },
   "outputs": [],
   "source": [
    "df_2425 = (\n",
    "    df_regular_season\n",
    "    .groupby([\n",
    "        'season', 'event_datetime', 'tier', 'abbreviation', 'div', 'is_conf',\n",
    "        'start_time', 'day_of_week', 'is_premier', 'trimester', 'original_six_plus_extra',\n",
    "        'days_out_from_event'\n",
    "        #, 'ticket_type', 'price_level', 'arena_level_internal'\n",
    "    ])\n",
    "    .agg(\n",
    "        gross_revenue_sum=('gross_revenue', 'sum'),\n",
    "        row_count=('gross_revenue', 'size')\n",
    "    )\n",
    "    .reset_index().rename(columns = {'row_count':'paid_seats'})\n",
    ")"
   ]
  },
  {
   "cell_type": "code",
   "execution_count": 55,
   "metadata": {},
   "outputs": [
    {
     "data": {
      "application/vnd.microsoft.datawrangler.viewer.v0+json": {
       "columns": [
        {
         "name": "index",
         "rawType": "int64",
         "type": "integer"
        },
        {
         "name": "season",
         "rawType": "object",
         "type": "string"
        },
        {
         "name": "event_datetime",
         "rawType": "object",
         "type": "string"
        },
        {
         "name": "tier",
         "rawType": "object",
         "type": "string"
        },
        {
         "name": "abbreviation",
         "rawType": "object",
         "type": "string"
        },
        {
         "name": "div",
         "rawType": "int64",
         "type": "integer"
        },
        {
         "name": "is_conf",
         "rawType": "int64",
         "type": "integer"
        },
        {
         "name": "start_time",
         "rawType": "object",
         "type": "string"
        },
        {
         "name": "day_of_week",
         "rawType": "object",
         "type": "string"
        },
        {
         "name": "is_premier",
         "rawType": "bool",
         "type": "boolean"
        },
        {
         "name": "trimester",
         "rawType": "int64",
         "type": "integer"
        },
        {
         "name": "original_six_plus_extra",
         "rawType": "float64",
         "type": "float"
        },
        {
         "name": "days_out_from_event",
         "rawType": "int64",
         "type": "integer"
        },
        {
         "name": "gross_revenue_sum",
         "rawType": "float64",
         "type": "float"
        },
        {
         "name": "paid_seats",
         "rawType": "int64",
         "type": "integer"
        }
       ],
       "ref": "b7712f6e-8d67-4f82-a76d-54727200cdec",
       "rows": [
        [
         "0",
         "2021-22",
         "2021-10-14 19:00:00",
         "B",
         "PIT",
         "2",
         "1",
         "7:00 PM",
         "Thu",
         "True",
         "1",
         "0.75",
         "0",
         "144959.55",
         "1762"
        ],
        [
         "1",
         "2021-22",
         "2021-10-14 19:00:00",
         "B",
         "PIT",
         "2",
         "1",
         "7:00 PM",
         "Thu",
         "True",
         "1",
         "0.75",
         "1",
         "182499.36",
         "3948"
        ],
        [
         "2",
         "2021-22",
         "2021-10-14 19:00:00",
         "B",
         "PIT",
         "2",
         "1",
         "7:00 PM",
         "Thu",
         "True",
         "1",
         "0.75",
         "2",
         "25606.04",
         "405"
        ],
        [
         "3",
         "2021-22",
         "2021-10-14 19:00:00",
         "B",
         "PIT",
         "2",
         "1",
         "7:00 PM",
         "Thu",
         "True",
         "1",
         "0.75",
         "3",
         "23751.33",
         "3165"
        ],
        [
         "4",
         "2021-22",
         "2021-10-14 19:00:00",
         "B",
         "PIT",
         "2",
         "1",
         "7:00 PM",
         "Thu",
         "True",
         "1",
         "0.75",
         "4",
         "12445.65",
         "169"
        ],
        [
         "5",
         "2021-22",
         "2021-10-14 19:00:00",
         "B",
         "PIT",
         "2",
         "1",
         "7:00 PM",
         "Thu",
         "True",
         "1",
         "0.75",
         "5",
         "7123.6",
         "93"
        ],
        [
         "6",
         "2021-22",
         "2021-10-14 19:00:00",
         "B",
         "PIT",
         "2",
         "1",
         "7:00 PM",
         "Thu",
         "True",
         "1",
         "0.75",
         "6",
         "7912.03",
         "130"
        ],
        [
         "7",
         "2021-22",
         "2021-10-14 19:00:00",
         "B",
         "PIT",
         "2",
         "1",
         "7:00 PM",
         "Thu",
         "True",
         "1",
         "0.75",
         "7",
         "12344.15",
         "147"
        ],
        [
         "8",
         "2021-22",
         "2021-10-14 19:00:00",
         "B",
         "PIT",
         "2",
         "1",
         "7:00 PM",
         "Thu",
         "True",
         "1",
         "0.75",
         "8",
         "4681.55",
         "53"
        ],
        [
         "9",
         "2021-22",
         "2021-10-14 19:00:00",
         "B",
         "PIT",
         "2",
         "1",
         "7:00 PM",
         "Thu",
         "True",
         "1",
         "0.75",
         "9",
         "2374.96",
         "28"
        ],
        [
         "10",
         "2021-22",
         "2021-10-14 19:00:00",
         "B",
         "PIT",
         "2",
         "1",
         "7:00 PM",
         "Thu",
         "True",
         "1",
         "0.75",
         "10",
         "8981.07",
         "96"
        ],
        [
         "11",
         "2021-22",
         "2021-10-14 19:00:00",
         "B",
         "PIT",
         "2",
         "1",
         "7:00 PM",
         "Thu",
         "True",
         "1",
         "0.75",
         "11",
         "1953.0",
         "25"
        ],
        [
         "12",
         "2021-22",
         "2021-10-14 19:00:00",
         "B",
         "PIT",
         "2",
         "1",
         "7:00 PM",
         "Thu",
         "True",
         "1",
         "0.75",
         "12",
         "3855.25",
         "50"
        ],
        [
         "13",
         "2021-22",
         "2021-10-14 19:00:00",
         "B",
         "PIT",
         "2",
         "1",
         "7:00 PM",
         "Thu",
         "True",
         "1",
         "0.75",
         "13",
         "2364.7",
         "37"
        ],
        [
         "14",
         "2021-22",
         "2021-10-14 19:00:00",
         "B",
         "PIT",
         "2",
         "1",
         "7:00 PM",
         "Thu",
         "True",
         "1",
         "0.75",
         "14",
         "3712.46",
         "45"
        ],
        [
         "15",
         "2021-22",
         "2021-10-14 19:00:00",
         "B",
         "PIT",
         "2",
         "1",
         "7:00 PM",
         "Thu",
         "True",
         "1",
         "0.75",
         "15",
         "3316.99",
         "48"
        ],
        [
         "16",
         "2021-22",
         "2021-10-14 19:00:00",
         "B",
         "PIT",
         "2",
         "1",
         "7:00 PM",
         "Thu",
         "True",
         "1",
         "0.75",
         "16",
         "2106.96",
         "27"
        ],
        [
         "17",
         "2021-22",
         "2021-10-14 19:00:00",
         "B",
         "PIT",
         "2",
         "1",
         "7:00 PM",
         "Thu",
         "True",
         "1",
         "0.75",
         "17",
         "2824.51",
         "33"
        ],
        [
         "18",
         "2021-22",
         "2021-10-14 19:00:00",
         "B",
         "PIT",
         "2",
         "1",
         "7:00 PM",
         "Thu",
         "True",
         "1",
         "0.75",
         "18",
         "1395.67",
         "42"
        ],
        [
         "19",
         "2021-22",
         "2021-10-14 19:00:00",
         "B",
         "PIT",
         "2",
         "1",
         "7:00 PM",
         "Thu",
         "True",
         "1",
         "0.75",
         "19",
         "195.0",
         "3"
        ],
        [
         "20",
         "2021-22",
         "2021-10-14 19:00:00",
         "B",
         "PIT",
         "2",
         "1",
         "7:00 PM",
         "Thu",
         "True",
         "1",
         "0.75",
         "20",
         "6524.34",
         "40"
        ],
        [
         "21",
         "2021-22",
         "2021-10-14 19:00:00",
         "B",
         "PIT",
         "2",
         "1",
         "7:00 PM",
         "Thu",
         "True",
         "1",
         "0.75",
         "21",
         "9507.34",
         "61"
        ],
        [
         "22",
         "2021-22",
         "2021-10-14 19:00:00",
         "B",
         "PIT",
         "2",
         "1",
         "7:00 PM",
         "Thu",
         "True",
         "1",
         "0.75",
         "22",
         "3671.64",
         "28"
        ],
        [
         "23",
         "2021-22",
         "2021-10-14 19:00:00",
         "B",
         "PIT",
         "2",
         "1",
         "7:00 PM",
         "Thu",
         "True",
         "1",
         "0.75",
         "23",
         "1798.18",
         "33"
        ],
        [
         "24",
         "2021-22",
         "2021-10-14 19:00:00",
         "B",
         "PIT",
         "2",
         "1",
         "7:00 PM",
         "Thu",
         "True",
         "1",
         "0.75",
         "24",
         "2201.25",
         "14"
        ],
        [
         "25",
         "2021-22",
         "2021-10-14 19:00:00",
         "B",
         "PIT",
         "2",
         "1",
         "7:00 PM",
         "Thu",
         "True",
         "1",
         "0.75",
         "25",
         "520.0",
         "6"
        ],
        [
         "26",
         "2021-22",
         "2021-10-14 19:00:00",
         "B",
         "PIT",
         "2",
         "1",
         "7:00 PM",
         "Thu",
         "True",
         "1",
         "0.75",
         "27",
         "2093.62",
         "16"
        ],
        [
         "27",
         "2021-22",
         "2021-10-14 19:00:00",
         "B",
         "PIT",
         "2",
         "1",
         "7:00 PM",
         "Thu",
         "True",
         "1",
         "0.75",
         "28",
         "2974.1",
         "14"
        ],
        [
         "28",
         "2021-22",
         "2021-10-14 19:00:00",
         "B",
         "PIT",
         "2",
         "1",
         "7:00 PM",
         "Thu",
         "True",
         "1",
         "0.75",
         "29",
         "5125.09",
         "55"
        ],
        [
         "29",
         "2021-22",
         "2021-10-14 19:00:00",
         "B",
         "PIT",
         "2",
         "1",
         "7:00 PM",
         "Thu",
         "True",
         "1",
         "0.75",
         "30",
         "3095.21",
         "20"
        ],
        [
         "30",
         "2021-22",
         "2021-10-14 19:00:00",
         "B",
         "PIT",
         "2",
         "1",
         "7:00 PM",
         "Thu",
         "True",
         "1",
         "0.75",
         "31",
         "2672.8399999999997",
         "19"
        ],
        [
         "31",
         "2021-22",
         "2021-10-14 19:00:00",
         "B",
         "PIT",
         "2",
         "1",
         "7:00 PM",
         "Thu",
         "True",
         "1",
         "0.75",
         "33",
         "398.0",
         "2"
        ],
        [
         "32",
         "2021-22",
         "2021-10-14 19:00:00",
         "B",
         "PIT",
         "2",
         "1",
         "7:00 PM",
         "Thu",
         "True",
         "1",
         "0.75",
         "34",
         "2001.49",
         "47"
        ],
        [
         "33",
         "2021-22",
         "2021-10-14 19:00:00",
         "B",
         "PIT",
         "2",
         "1",
         "7:00 PM",
         "Thu",
         "True",
         "1",
         "0.75",
         "35",
         "1277.66",
         "17"
        ],
        [
         "34",
         "2021-22",
         "2021-10-14 19:00:00",
         "B",
         "PIT",
         "2",
         "1",
         "7:00 PM",
         "Thu",
         "True",
         "1",
         "0.75",
         "36",
         "800.42",
         "9"
        ],
        [
         "35",
         "2021-22",
         "2021-10-14 19:00:00",
         "B",
         "PIT",
         "2",
         "1",
         "7:00 PM",
         "Thu",
         "True",
         "1",
         "0.75",
         "37",
         "888.3399999999999",
         "9"
        ],
        [
         "36",
         "2021-22",
         "2021-10-14 19:00:00",
         "B",
         "PIT",
         "2",
         "1",
         "7:00 PM",
         "Thu",
         "True",
         "1",
         "0.75",
         "39",
         "1118.0",
         "10"
        ],
        [
         "37",
         "2021-22",
         "2021-10-14 19:00:00",
         "B",
         "PIT",
         "2",
         "1",
         "7:00 PM",
         "Thu",
         "True",
         "1",
         "0.75",
         "41",
         "231.0",
         "3"
        ],
        [
         "38",
         "2021-22",
         "2021-10-14 19:00:00",
         "B",
         "PIT",
         "2",
         "1",
         "7:00 PM",
         "Thu",
         "True",
         "1",
         "0.75",
         "42",
         "1186.8",
         "10"
        ],
        [
         "39",
         "2021-22",
         "2021-10-14 19:00:00",
         "B",
         "PIT",
         "2",
         "1",
         "7:00 PM",
         "Thu",
         "True",
         "1",
         "0.75",
         "43",
         "578.0",
         "6"
        ],
        [
         "40",
         "2021-22",
         "2021-10-14 19:00:00",
         "B",
         "PIT",
         "2",
         "1",
         "7:00 PM",
         "Thu",
         "True",
         "1",
         "0.75",
         "44",
         "1472.04",
         "10"
        ],
        [
         "41",
         "2021-22",
         "2021-10-14 19:00:00",
         "B",
         "PIT",
         "2",
         "1",
         "7:00 PM",
         "Thu",
         "True",
         "1",
         "0.75",
         "45",
         "4048.37",
         "32"
        ],
        [
         "42",
         "2021-22",
         "2021-10-14 19:00:00",
         "B",
         "PIT",
         "2",
         "1",
         "7:00 PM",
         "Thu",
         "True",
         "1",
         "0.75",
         "46",
         "836.0",
         "4"
        ],
        [
         "43",
         "2021-22",
         "2021-10-14 19:00:00",
         "B",
         "PIT",
         "2",
         "1",
         "7:00 PM",
         "Thu",
         "True",
         "1",
         "0.75",
         "47",
         "812.0",
         "2"
        ],
        [
         "44",
         "2021-22",
         "2021-10-14 19:00:00",
         "B",
         "PIT",
         "2",
         "1",
         "7:00 PM",
         "Thu",
         "True",
         "1",
         "0.75",
         "48",
         "2833.18",
         "22"
        ],
        [
         "45",
         "2021-22",
         "2021-10-14 19:00:00",
         "B",
         "PIT",
         "2",
         "1",
         "7:00 PM",
         "Thu",
         "True",
         "1",
         "0.75",
         "49",
         "2042.23",
         "27"
        ],
        [
         "46",
         "2021-22",
         "2021-10-14 19:00:00",
         "B",
         "PIT",
         "2",
         "1",
         "7:00 PM",
         "Thu",
         "True",
         "1",
         "0.75",
         "50",
         "1812.48",
         "24"
        ],
        [
         "47",
         "2021-22",
         "2021-10-14 19:00:00",
         "B",
         "PIT",
         "2",
         "1",
         "7:00 PM",
         "Thu",
         "True",
         "1",
         "0.75",
         "51",
         "1653.5",
         "10"
        ],
        [
         "48",
         "2021-22",
         "2021-10-14 19:00:00",
         "B",
         "PIT",
         "2",
         "1",
         "7:00 PM",
         "Thu",
         "True",
         "1",
         "0.75",
         "52",
         "5918.45",
         "40"
        ],
        [
         "49",
         "2021-22",
         "2021-10-14 19:00:00",
         "B",
         "PIT",
         "2",
         "1",
         "7:00 PM",
         "Thu",
         "True",
         "1",
         "0.75",
         "53",
         "380.12",
         "7"
        ]
       ],
       "shape": {
        "columns": 14,
        "rows": 36275
       }
      },
      "text/html": [
       "<div>\n",
       "<style scoped>\n",
       "    .dataframe tbody tr th:only-of-type {\n",
       "        vertical-align: middle;\n",
       "    }\n",
       "\n",
       "    .dataframe tbody tr th {\n",
       "        vertical-align: top;\n",
       "    }\n",
       "\n",
       "    .dataframe thead th {\n",
       "        text-align: right;\n",
       "    }\n",
       "</style>\n",
       "<table border=\"1\" class=\"dataframe\">\n",
       "  <thead>\n",
       "    <tr style=\"text-align: right;\">\n",
       "      <th></th>\n",
       "      <th>season</th>\n",
       "      <th>event_datetime</th>\n",
       "      <th>tier</th>\n",
       "      <th>abbreviation</th>\n",
       "      <th>div</th>\n",
       "      <th>is_conf</th>\n",
       "      <th>start_time</th>\n",
       "      <th>day_of_week</th>\n",
       "      <th>is_premier</th>\n",
       "      <th>trimester</th>\n",
       "      <th>original_six_plus_extra</th>\n",
       "      <th>days_out_from_event</th>\n",
       "      <th>gross_revenue_sum</th>\n",
       "      <th>paid_seats</th>\n",
       "    </tr>\n",
       "  </thead>\n",
       "  <tbody>\n",
       "    <tr>\n",
       "      <th>0</th>\n",
       "      <td>2021-22</td>\n",
       "      <td>2021-10-14 19:00:00</td>\n",
       "      <td>B</td>\n",
       "      <td>PIT</td>\n",
       "      <td>2</td>\n",
       "      <td>1</td>\n",
       "      <td>7:00 PM</td>\n",
       "      <td>Thu</td>\n",
       "      <td>True</td>\n",
       "      <td>1</td>\n",
       "      <td>0.75</td>\n",
       "      <td>0</td>\n",
       "      <td>144959.55</td>\n",
       "      <td>1762</td>\n",
       "    </tr>\n",
       "    <tr>\n",
       "      <th>1</th>\n",
       "      <td>2021-22</td>\n",
       "      <td>2021-10-14 19:00:00</td>\n",
       "      <td>B</td>\n",
       "      <td>PIT</td>\n",
       "      <td>2</td>\n",
       "      <td>1</td>\n",
       "      <td>7:00 PM</td>\n",
       "      <td>Thu</td>\n",
       "      <td>True</td>\n",
       "      <td>1</td>\n",
       "      <td>0.75</td>\n",
       "      <td>1</td>\n",
       "      <td>182499.36</td>\n",
       "      <td>3948</td>\n",
       "    </tr>\n",
       "    <tr>\n",
       "      <th>2</th>\n",
       "      <td>2021-22</td>\n",
       "      <td>2021-10-14 19:00:00</td>\n",
       "      <td>B</td>\n",
       "      <td>PIT</td>\n",
       "      <td>2</td>\n",
       "      <td>1</td>\n",
       "      <td>7:00 PM</td>\n",
       "      <td>Thu</td>\n",
       "      <td>True</td>\n",
       "      <td>1</td>\n",
       "      <td>0.75</td>\n",
       "      <td>2</td>\n",
       "      <td>25606.04</td>\n",
       "      <td>405</td>\n",
       "    </tr>\n",
       "    <tr>\n",
       "      <th>3</th>\n",
       "      <td>2021-22</td>\n",
       "      <td>2021-10-14 19:00:00</td>\n",
       "      <td>B</td>\n",
       "      <td>PIT</td>\n",
       "      <td>2</td>\n",
       "      <td>1</td>\n",
       "      <td>7:00 PM</td>\n",
       "      <td>Thu</td>\n",
       "      <td>True</td>\n",
       "      <td>1</td>\n",
       "      <td>0.75</td>\n",
       "      <td>3</td>\n",
       "      <td>23751.33</td>\n",
       "      <td>3165</td>\n",
       "    </tr>\n",
       "    <tr>\n",
       "      <th>4</th>\n",
       "      <td>2021-22</td>\n",
       "      <td>2021-10-14 19:00:00</td>\n",
       "      <td>B</td>\n",
       "      <td>PIT</td>\n",
       "      <td>2</td>\n",
       "      <td>1</td>\n",
       "      <td>7:00 PM</td>\n",
       "      <td>Thu</td>\n",
       "      <td>True</td>\n",
       "      <td>1</td>\n",
       "      <td>0.75</td>\n",
       "      <td>4</td>\n",
       "      <td>12445.65</td>\n",
       "      <td>169</td>\n",
       "    </tr>\n",
       "    <tr>\n",
       "      <th>...</th>\n",
       "      <td>...</td>\n",
       "      <td>...</td>\n",
       "      <td>...</td>\n",
       "      <td>...</td>\n",
       "      <td>...</td>\n",
       "      <td>...</td>\n",
       "      <td>...</td>\n",
       "      <td>...</td>\n",
       "      <td>...</td>\n",
       "      <td>...</td>\n",
       "      <td>...</td>\n",
       "      <td>...</td>\n",
       "      <td>...</td>\n",
       "      <td>...</td>\n",
       "    </tr>\n",
       "    <tr>\n",
       "      <th>36270</th>\n",
       "      <td>2024-25</td>\n",
       "      <td>2025-04-14 19:00:00</td>\n",
       "      <td>B</td>\n",
       "      <td>NYR</td>\n",
       "      <td>2</td>\n",
       "      <td>1</td>\n",
       "      <td>7:00 PM</td>\n",
       "      <td>Mon</td>\n",
       "      <td>True</td>\n",
       "      <td>3</td>\n",
       "      <td>1.50</td>\n",
       "      <td>279</td>\n",
       "      <td>2970.78</td>\n",
       "      <td>67</td>\n",
       "    </tr>\n",
       "    <tr>\n",
       "      <th>36271</th>\n",
       "      <td>2024-25</td>\n",
       "      <td>2025-04-14 19:00:00</td>\n",
       "      <td>B</td>\n",
       "      <td>NYR</td>\n",
       "      <td>2</td>\n",
       "      <td>1</td>\n",
       "      <td>7:00 PM</td>\n",
       "      <td>Mon</td>\n",
       "      <td>True</td>\n",
       "      <td>3</td>\n",
       "      <td>1.50</td>\n",
       "      <td>280</td>\n",
       "      <td>1609.26</td>\n",
       "      <td>43</td>\n",
       "    </tr>\n",
       "    <tr>\n",
       "      <th>36272</th>\n",
       "      <td>2024-25</td>\n",
       "      <td>2025-04-14 19:00:00</td>\n",
       "      <td>B</td>\n",
       "      <td>NYR</td>\n",
       "      <td>2</td>\n",
       "      <td>1</td>\n",
       "      <td>7:00 PM</td>\n",
       "      <td>Mon</td>\n",
       "      <td>True</td>\n",
       "      <td>3</td>\n",
       "      <td>1.50</td>\n",
       "      <td>283</td>\n",
       "      <td>913.04</td>\n",
       "      <td>8</td>\n",
       "    </tr>\n",
       "    <tr>\n",
       "      <th>36273</th>\n",
       "      <td>2024-25</td>\n",
       "      <td>2025-04-14 19:00:00</td>\n",
       "      <td>B</td>\n",
       "      <td>NYR</td>\n",
       "      <td>2</td>\n",
       "      <td>1</td>\n",
       "      <td>7:00 PM</td>\n",
       "      <td>Mon</td>\n",
       "      <td>True</td>\n",
       "      <td>3</td>\n",
       "      <td>1.50</td>\n",
       "      <td>284</td>\n",
       "      <td>707764.95</td>\n",
       "      <td>6976</td>\n",
       "    </tr>\n",
       "    <tr>\n",
       "      <th>36274</th>\n",
       "      <td>2024-25</td>\n",
       "      <td>2025-04-14 19:00:00</td>\n",
       "      <td>B</td>\n",
       "      <td>NYR</td>\n",
       "      <td>2</td>\n",
       "      <td>1</td>\n",
       "      <td>7:00 PM</td>\n",
       "      <td>Mon</td>\n",
       "      <td>True</td>\n",
       "      <td>3</td>\n",
       "      <td>1.50</td>\n",
       "      <td>285</td>\n",
       "      <td>954120.20</td>\n",
       "      <td>8137</td>\n",
       "    </tr>\n",
       "  </tbody>\n",
       "</table>\n",
       "<p>36275 rows × 14 columns</p>\n",
       "</div>"
      ],
      "text/plain": [
       "        season       event_datetime tier abbreviation  div  is_conf  \\\n",
       "0      2021-22  2021-10-14 19:00:00    B          PIT    2        1   \n",
       "1      2021-22  2021-10-14 19:00:00    B          PIT    2        1   \n",
       "2      2021-22  2021-10-14 19:00:00    B          PIT    2        1   \n",
       "3      2021-22  2021-10-14 19:00:00    B          PIT    2        1   \n",
       "4      2021-22  2021-10-14 19:00:00    B          PIT    2        1   \n",
       "...        ...                  ...  ...          ...  ...      ...   \n",
       "36270  2024-25  2025-04-14 19:00:00    B          NYR    2        1   \n",
       "36271  2024-25  2025-04-14 19:00:00    B          NYR    2        1   \n",
       "36272  2024-25  2025-04-14 19:00:00    B          NYR    2        1   \n",
       "36273  2024-25  2025-04-14 19:00:00    B          NYR    2        1   \n",
       "36274  2024-25  2025-04-14 19:00:00    B          NYR    2        1   \n",
       "\n",
       "      start_time day_of_week  is_premier  trimester  original_six_plus_extra  \\\n",
       "0        7:00 PM         Thu        True          1                     0.75   \n",
       "1        7:00 PM         Thu        True          1                     0.75   \n",
       "2        7:00 PM         Thu        True          1                     0.75   \n",
       "3        7:00 PM         Thu        True          1                     0.75   \n",
       "4        7:00 PM         Thu        True          1                     0.75   \n",
       "...          ...         ...         ...        ...                      ...   \n",
       "36270    7:00 PM         Mon        True          3                     1.50   \n",
       "36271    7:00 PM         Mon        True          3                     1.50   \n",
       "36272    7:00 PM         Mon        True          3                     1.50   \n",
       "36273    7:00 PM         Mon        True          3                     1.50   \n",
       "36274    7:00 PM         Mon        True          3                     1.50   \n",
       "\n",
       "       days_out_from_event  gross_revenue_sum  paid_seats  \n",
       "0                        0          144959.55        1762  \n",
       "1                        1          182499.36        3948  \n",
       "2                        2           25606.04         405  \n",
       "3                        3           23751.33        3165  \n",
       "4                        4           12445.65         169  \n",
       "...                    ...                ...         ...  \n",
       "36270                  279            2970.78          67  \n",
       "36271                  280            1609.26          43  \n",
       "36272                  283             913.04           8  \n",
       "36273                  284          707764.95        6976  \n",
       "36274                  285          954120.20        8137  \n",
       "\n",
       "[36275 rows x 14 columns]"
      ]
     },
     "execution_count": 55,
     "metadata": {},
     "output_type": "execute_result"
    }
   ],
   "source": [
    "df_2425"
   ]
  },
  {
   "cell_type": "code",
   "execution_count": 64,
   "metadata": {
    "cell_id": "25bed2ebae484774b7311b0327a748ce",
    "deepnote_cell_type": "code",
    "execution_context_id": "b11ce288-2722-457a-a513-a1be65d244f4",
    "execution_millis": 103,
    "execution_start": 1755093084745,
    "source_hash": "c1c262bf"
   },
   "outputs": [],
   "source": [
    "time_group_map = {\n",
    "    '12:30 PM': 'early',\n",
    "    '1:00 PM': 'early',\n",
    "    '2:00 PM': 'early',\n",
    "    '3:00 PM': 'early',\n",
    "    '4:00 PM': 'afternoon',\n",
    "    '5:00 PM': 'afternoon',\n",
    "    '6:00 PM': 'afternoon',\n",
    "    '6:30 PM': 'afternoon',\n",
    "    '7:00 PM': 'evening',\n",
    "    '7:30 PM': 'evening',\n",
    "    '7:45 PM': 'evening',\n",
    "    '8:00 PM': 'evening'\n",
    "}\n",
    "\n",
    "df_2425['time_group'] = df_2425['start_time'].map(time_group_map)\n",
    "df_2526['time_group'] = df_2526['start_time'].map(time_group_map)\n",
    "\n",
    "day_map = {\n",
    "    'Sat': 'is_saturday',\n",
    "    'Fri': 'is_friday_or_sunday',\n",
    "    'Sun': 'is_friday_or_sunday',\n",
    "    'Mon': 'is_weekday',\n",
    "    'Tue': 'is_weekday',\n",
    "    'Wed': 'is_weekday',\n",
    "    'Thu': 'is_weekday',\n",
    "}\n",
    "\n",
    "df_2425['day_of_week_group'] = df_2425['day_of_week'].map(day_map)\n",
    "df_2526['day_of_week_group'] = df_2526['day_of_week'].map(day_map)\n",
    "\n",
    "df_2425['is_premier'] = df_2425['is_premier'].astype(int)\n",
    "df_2526['is_premier'] = df_2526['is_premier'].astype(int)\n",
    "\n",
    "df_encoded_2425 = pd.get_dummies(df_2425, columns=['tier','day_of_week_group', 'time_group'], prefix = '', prefix_sep = '')\n",
    "df_encoded_2526 = pd.get_dummies(df_2526, columns=['tier','day_of_week_group', 'time_group'], prefix = '', prefix_sep = '')\n",
    "\n",
    "# capacity, price, velocity"
   ]
  },
  {
   "cell_type": "markdown",
   "metadata": {
    "cell_id": "736bc8dd6a274d229027dcefa4bffdbc",
    "deepnote_cell_type": "text-cell-h2",
    "formattedRanges": [
     {
      "fromCodePoint": 0,
      "marks": {
       "bold": true
      },
      "toCodePoint": 3,
      "type": "marks"
     }
    ]
   },
   "source": [
    "## 3. Train & Run Model"
   ]
  },
  {
   "cell_type": "markdown",
   "metadata": {
    "cell_id": "482801003f804f7284fdc139ca1a3d90",
    "deepnote_cell_type": "text-cell-h3",
    "formattedRanges": [
     {
      "fromCodePoint": 0,
      "marks": {
       "bold": true
      },
      "toCodePoint": 4,
      "type": "marks"
     }
    ]
   },
   "source": [
    "### 3.1 Spit data into train & test tables"
   ]
  },
  {
   "cell_type": "markdown",
   "metadata": {
    "cell_id": "471d60f9122f4af3b72f2e287ffbf570",
    "deepnote_cell_type": "text-cell-p",
    "formattedRanges": []
   },
   "source": [
    "Sometimes the split will be on season, other times train_test_split from sklearn can be used."
   ]
  },
  {
   "cell_type": "markdown",
   "metadata": {
    "cell_id": "c64c1b939959448e9b95bec26ffa459c",
    "deepnote_cell_type": "text-cell-p",
    "formattedRanges": []
   },
   "source": [
    "train_test_split info: https://scikit-learn.org/stable/modules/generated/sklearn.model_selection.train_test_split.html"
   ]
  },
  {
   "cell_type": "code",
   "execution_count": 65,
   "metadata": {
    "cell_id": "2c8b6a01f0d642039af41500561d22c6",
    "deepnote_cell_type": "code",
    "execution_context_id": "b11ce288-2722-457a-a513-a1be65d244f4",
    "execution_millis": 0,
    "execution_start": 1755094098545,
    "source_hash": "2dfbde9b"
   },
   "outputs": [],
   "source": [
    "x_train = df_encoded_2425[['is_premier', 'trimester', 'original_six_plus_extra',\n",
    "        'days_out_from_event', 'early','afternoon','evening','is_weekday',\n",
    "        'is_friday_or_sunday','is_saturday', 'A','B','C','D','E']].astype(int)\n",
    "\n",
    "x_test = df_encoded_2526[['is_premier', 'trimester', 'original_six_plus_extra',\n",
    "        'days_out', 'early','afternoon','evening','is_weekday',\n",
    "        'is_friday_or_sunday','is_saturday', 'A','B','C','D','E']].astype(int)\n",
    "\n",
    "y = df_encoded_2425['paid_seats']"
   ]
  },
  {
   "cell_type": "code",
   "execution_count": 66,
   "metadata": {},
   "outputs": [
    {
     "data": {
      "application/vnd.microsoft.datawrangler.viewer.v0+json": {
       "columns": [
        {
         "name": "index",
         "rawType": "int64",
         "type": "integer"
        },
        {
         "name": "is_premier",
         "rawType": "int32",
         "type": "integer"
        },
        {
         "name": "trimester",
         "rawType": "int32",
         "type": "integer"
        },
        {
         "name": "original_six_plus_extra",
         "rawType": "int32",
         "type": "integer"
        },
        {
         "name": "days_out_from_event",
         "rawType": "int32",
         "type": "integer"
        },
        {
         "name": "early",
         "rawType": "int32",
         "type": "integer"
        },
        {
         "name": "afternoon",
         "rawType": "int32",
         "type": "integer"
        },
        {
         "name": "evening",
         "rawType": "int32",
         "type": "integer"
        },
        {
         "name": "is_weekday",
         "rawType": "int32",
         "type": "integer"
        },
        {
         "name": "is_friday_or_sunday",
         "rawType": "int32",
         "type": "integer"
        },
        {
         "name": "is_saturday",
         "rawType": "int32",
         "type": "integer"
        },
        {
         "name": "A",
         "rawType": "int32",
         "type": "integer"
        },
        {
         "name": "B",
         "rawType": "int32",
         "type": "integer"
        },
        {
         "name": "C",
         "rawType": "int32",
         "type": "integer"
        },
        {
         "name": "D",
         "rawType": "int32",
         "type": "integer"
        },
        {
         "name": "E",
         "rawType": "int32",
         "type": "integer"
        }
       ],
       "ref": "b393c520-5640-4336-8e14-5bdf7e798fc1",
       "rows": [
        [
         "0",
         "1",
         "1",
         "0",
         "0",
         "0",
         "0",
         "1",
         "1",
         "0",
         "0",
         "0",
         "1",
         "0",
         "0",
         "0"
        ],
        [
         "1",
         "1",
         "1",
         "0",
         "1",
         "0",
         "0",
         "1",
         "1",
         "0",
         "0",
         "0",
         "1",
         "0",
         "0",
         "0"
        ],
        [
         "2",
         "1",
         "1",
         "0",
         "2",
         "0",
         "0",
         "1",
         "1",
         "0",
         "0",
         "0",
         "1",
         "0",
         "0",
         "0"
        ],
        [
         "3",
         "1",
         "1",
         "0",
         "3",
         "0",
         "0",
         "1",
         "1",
         "0",
         "0",
         "0",
         "1",
         "0",
         "0",
         "0"
        ],
        [
         "4",
         "1",
         "1",
         "0",
         "4",
         "0",
         "0",
         "1",
         "1",
         "0",
         "0",
         "0",
         "1",
         "0",
         "0",
         "0"
        ],
        [
         "5",
         "1",
         "1",
         "0",
         "5",
         "0",
         "0",
         "1",
         "1",
         "0",
         "0",
         "0",
         "1",
         "0",
         "0",
         "0"
        ],
        [
         "6",
         "1",
         "1",
         "0",
         "6",
         "0",
         "0",
         "1",
         "1",
         "0",
         "0",
         "0",
         "1",
         "0",
         "0",
         "0"
        ],
        [
         "7",
         "1",
         "1",
         "0",
         "7",
         "0",
         "0",
         "1",
         "1",
         "0",
         "0",
         "0",
         "1",
         "0",
         "0",
         "0"
        ],
        [
         "8",
         "1",
         "1",
         "0",
         "8",
         "0",
         "0",
         "1",
         "1",
         "0",
         "0",
         "0",
         "1",
         "0",
         "0",
         "0"
        ],
        [
         "9",
         "1",
         "1",
         "0",
         "9",
         "0",
         "0",
         "1",
         "1",
         "0",
         "0",
         "0",
         "1",
         "0",
         "0",
         "0"
        ],
        [
         "10",
         "1",
         "1",
         "0",
         "10",
         "0",
         "0",
         "1",
         "1",
         "0",
         "0",
         "0",
         "1",
         "0",
         "0",
         "0"
        ],
        [
         "11",
         "1",
         "1",
         "0",
         "11",
         "0",
         "0",
         "1",
         "1",
         "0",
         "0",
         "0",
         "1",
         "0",
         "0",
         "0"
        ],
        [
         "12",
         "1",
         "1",
         "0",
         "12",
         "0",
         "0",
         "1",
         "1",
         "0",
         "0",
         "0",
         "1",
         "0",
         "0",
         "0"
        ],
        [
         "13",
         "1",
         "1",
         "0",
         "13",
         "0",
         "0",
         "1",
         "1",
         "0",
         "0",
         "0",
         "1",
         "0",
         "0",
         "0"
        ],
        [
         "14",
         "1",
         "1",
         "0",
         "14",
         "0",
         "0",
         "1",
         "1",
         "0",
         "0",
         "0",
         "1",
         "0",
         "0",
         "0"
        ],
        [
         "15",
         "1",
         "1",
         "0",
         "15",
         "0",
         "0",
         "1",
         "1",
         "0",
         "0",
         "0",
         "1",
         "0",
         "0",
         "0"
        ],
        [
         "16",
         "1",
         "1",
         "0",
         "16",
         "0",
         "0",
         "1",
         "1",
         "0",
         "0",
         "0",
         "1",
         "0",
         "0",
         "0"
        ],
        [
         "17",
         "1",
         "1",
         "0",
         "17",
         "0",
         "0",
         "1",
         "1",
         "0",
         "0",
         "0",
         "1",
         "0",
         "0",
         "0"
        ],
        [
         "18",
         "1",
         "1",
         "0",
         "18",
         "0",
         "0",
         "1",
         "1",
         "0",
         "0",
         "0",
         "1",
         "0",
         "0",
         "0"
        ],
        [
         "19",
         "1",
         "1",
         "0",
         "19",
         "0",
         "0",
         "1",
         "1",
         "0",
         "0",
         "0",
         "1",
         "0",
         "0",
         "0"
        ],
        [
         "20",
         "1",
         "1",
         "0",
         "20",
         "0",
         "0",
         "1",
         "1",
         "0",
         "0",
         "0",
         "1",
         "0",
         "0",
         "0"
        ],
        [
         "21",
         "1",
         "1",
         "0",
         "21",
         "0",
         "0",
         "1",
         "1",
         "0",
         "0",
         "0",
         "1",
         "0",
         "0",
         "0"
        ],
        [
         "22",
         "1",
         "1",
         "0",
         "22",
         "0",
         "0",
         "1",
         "1",
         "0",
         "0",
         "0",
         "1",
         "0",
         "0",
         "0"
        ],
        [
         "23",
         "1",
         "1",
         "0",
         "23",
         "0",
         "0",
         "1",
         "1",
         "0",
         "0",
         "0",
         "1",
         "0",
         "0",
         "0"
        ],
        [
         "24",
         "1",
         "1",
         "0",
         "24",
         "0",
         "0",
         "1",
         "1",
         "0",
         "0",
         "0",
         "1",
         "0",
         "0",
         "0"
        ],
        [
         "25",
         "1",
         "1",
         "0",
         "25",
         "0",
         "0",
         "1",
         "1",
         "0",
         "0",
         "0",
         "1",
         "0",
         "0",
         "0"
        ],
        [
         "26",
         "1",
         "1",
         "0",
         "27",
         "0",
         "0",
         "1",
         "1",
         "0",
         "0",
         "0",
         "1",
         "0",
         "0",
         "0"
        ],
        [
         "27",
         "1",
         "1",
         "0",
         "28",
         "0",
         "0",
         "1",
         "1",
         "0",
         "0",
         "0",
         "1",
         "0",
         "0",
         "0"
        ],
        [
         "28",
         "1",
         "1",
         "0",
         "29",
         "0",
         "0",
         "1",
         "1",
         "0",
         "0",
         "0",
         "1",
         "0",
         "0",
         "0"
        ],
        [
         "29",
         "1",
         "1",
         "0",
         "30",
         "0",
         "0",
         "1",
         "1",
         "0",
         "0",
         "0",
         "1",
         "0",
         "0",
         "0"
        ],
        [
         "30",
         "1",
         "1",
         "0",
         "31",
         "0",
         "0",
         "1",
         "1",
         "0",
         "0",
         "0",
         "1",
         "0",
         "0",
         "0"
        ],
        [
         "31",
         "1",
         "1",
         "0",
         "33",
         "0",
         "0",
         "1",
         "1",
         "0",
         "0",
         "0",
         "1",
         "0",
         "0",
         "0"
        ],
        [
         "32",
         "1",
         "1",
         "0",
         "34",
         "0",
         "0",
         "1",
         "1",
         "0",
         "0",
         "0",
         "1",
         "0",
         "0",
         "0"
        ],
        [
         "33",
         "1",
         "1",
         "0",
         "35",
         "0",
         "0",
         "1",
         "1",
         "0",
         "0",
         "0",
         "1",
         "0",
         "0",
         "0"
        ],
        [
         "34",
         "1",
         "1",
         "0",
         "36",
         "0",
         "0",
         "1",
         "1",
         "0",
         "0",
         "0",
         "1",
         "0",
         "0",
         "0"
        ],
        [
         "35",
         "1",
         "1",
         "0",
         "37",
         "0",
         "0",
         "1",
         "1",
         "0",
         "0",
         "0",
         "1",
         "0",
         "0",
         "0"
        ],
        [
         "36",
         "1",
         "1",
         "0",
         "39",
         "0",
         "0",
         "1",
         "1",
         "0",
         "0",
         "0",
         "1",
         "0",
         "0",
         "0"
        ],
        [
         "37",
         "1",
         "1",
         "0",
         "41",
         "0",
         "0",
         "1",
         "1",
         "0",
         "0",
         "0",
         "1",
         "0",
         "0",
         "0"
        ],
        [
         "38",
         "1",
         "1",
         "0",
         "42",
         "0",
         "0",
         "1",
         "1",
         "0",
         "0",
         "0",
         "1",
         "0",
         "0",
         "0"
        ],
        [
         "39",
         "1",
         "1",
         "0",
         "43",
         "0",
         "0",
         "1",
         "1",
         "0",
         "0",
         "0",
         "1",
         "0",
         "0",
         "0"
        ],
        [
         "40",
         "1",
         "1",
         "0",
         "44",
         "0",
         "0",
         "1",
         "1",
         "0",
         "0",
         "0",
         "1",
         "0",
         "0",
         "0"
        ],
        [
         "41",
         "1",
         "1",
         "0",
         "45",
         "0",
         "0",
         "1",
         "1",
         "0",
         "0",
         "0",
         "1",
         "0",
         "0",
         "0"
        ],
        [
         "42",
         "1",
         "1",
         "0",
         "46",
         "0",
         "0",
         "1",
         "1",
         "0",
         "0",
         "0",
         "1",
         "0",
         "0",
         "0"
        ],
        [
         "43",
         "1",
         "1",
         "0",
         "47",
         "0",
         "0",
         "1",
         "1",
         "0",
         "0",
         "0",
         "1",
         "0",
         "0",
         "0"
        ],
        [
         "44",
         "1",
         "1",
         "0",
         "48",
         "0",
         "0",
         "1",
         "1",
         "0",
         "0",
         "0",
         "1",
         "0",
         "0",
         "0"
        ],
        [
         "45",
         "1",
         "1",
         "0",
         "49",
         "0",
         "0",
         "1",
         "1",
         "0",
         "0",
         "0",
         "1",
         "0",
         "0",
         "0"
        ],
        [
         "46",
         "1",
         "1",
         "0",
         "50",
         "0",
         "0",
         "1",
         "1",
         "0",
         "0",
         "0",
         "1",
         "0",
         "0",
         "0"
        ],
        [
         "47",
         "1",
         "1",
         "0",
         "51",
         "0",
         "0",
         "1",
         "1",
         "0",
         "0",
         "0",
         "1",
         "0",
         "0",
         "0"
        ],
        [
         "48",
         "1",
         "1",
         "0",
         "52",
         "0",
         "0",
         "1",
         "1",
         "0",
         "0",
         "0",
         "1",
         "0",
         "0",
         "0"
        ],
        [
         "49",
         "1",
         "1",
         "0",
         "53",
         "0",
         "0",
         "1",
         "1",
         "0",
         "0",
         "0",
         "1",
         "0",
         "0",
         "0"
        ]
       ],
       "shape": {
        "columns": 15,
        "rows": 36275
       }
      },
      "text/html": [
       "<div>\n",
       "<style scoped>\n",
       "    .dataframe tbody tr th:only-of-type {\n",
       "        vertical-align: middle;\n",
       "    }\n",
       "\n",
       "    .dataframe tbody tr th {\n",
       "        vertical-align: top;\n",
       "    }\n",
       "\n",
       "    .dataframe thead th {\n",
       "        text-align: right;\n",
       "    }\n",
       "</style>\n",
       "<table border=\"1\" class=\"dataframe\">\n",
       "  <thead>\n",
       "    <tr style=\"text-align: right;\">\n",
       "      <th></th>\n",
       "      <th>is_premier</th>\n",
       "      <th>trimester</th>\n",
       "      <th>original_six_plus_extra</th>\n",
       "      <th>days_out_from_event</th>\n",
       "      <th>early</th>\n",
       "      <th>afternoon</th>\n",
       "      <th>evening</th>\n",
       "      <th>is_weekday</th>\n",
       "      <th>is_friday_or_sunday</th>\n",
       "      <th>is_saturday</th>\n",
       "      <th>A</th>\n",
       "      <th>B</th>\n",
       "      <th>C</th>\n",
       "      <th>D</th>\n",
       "      <th>E</th>\n",
       "    </tr>\n",
       "  </thead>\n",
       "  <tbody>\n",
       "    <tr>\n",
       "      <th>0</th>\n",
       "      <td>1</td>\n",
       "      <td>1</td>\n",
       "      <td>0</td>\n",
       "      <td>0</td>\n",
       "      <td>0</td>\n",
       "      <td>0</td>\n",
       "      <td>1</td>\n",
       "      <td>1</td>\n",
       "      <td>0</td>\n",
       "      <td>0</td>\n",
       "      <td>0</td>\n",
       "      <td>1</td>\n",
       "      <td>0</td>\n",
       "      <td>0</td>\n",
       "      <td>0</td>\n",
       "    </tr>\n",
       "    <tr>\n",
       "      <th>1</th>\n",
       "      <td>1</td>\n",
       "      <td>1</td>\n",
       "      <td>0</td>\n",
       "      <td>1</td>\n",
       "      <td>0</td>\n",
       "      <td>0</td>\n",
       "      <td>1</td>\n",
       "      <td>1</td>\n",
       "      <td>0</td>\n",
       "      <td>0</td>\n",
       "      <td>0</td>\n",
       "      <td>1</td>\n",
       "      <td>0</td>\n",
       "      <td>0</td>\n",
       "      <td>0</td>\n",
       "    </tr>\n",
       "    <tr>\n",
       "      <th>2</th>\n",
       "      <td>1</td>\n",
       "      <td>1</td>\n",
       "      <td>0</td>\n",
       "      <td>2</td>\n",
       "      <td>0</td>\n",
       "      <td>0</td>\n",
       "      <td>1</td>\n",
       "      <td>1</td>\n",
       "      <td>0</td>\n",
       "      <td>0</td>\n",
       "      <td>0</td>\n",
       "      <td>1</td>\n",
       "      <td>0</td>\n",
       "      <td>0</td>\n",
       "      <td>0</td>\n",
       "    </tr>\n",
       "    <tr>\n",
       "      <th>3</th>\n",
       "      <td>1</td>\n",
       "      <td>1</td>\n",
       "      <td>0</td>\n",
       "      <td>3</td>\n",
       "      <td>0</td>\n",
       "      <td>0</td>\n",
       "      <td>1</td>\n",
       "      <td>1</td>\n",
       "      <td>0</td>\n",
       "      <td>0</td>\n",
       "      <td>0</td>\n",
       "      <td>1</td>\n",
       "      <td>0</td>\n",
       "      <td>0</td>\n",
       "      <td>0</td>\n",
       "    </tr>\n",
       "    <tr>\n",
       "      <th>4</th>\n",
       "      <td>1</td>\n",
       "      <td>1</td>\n",
       "      <td>0</td>\n",
       "      <td>4</td>\n",
       "      <td>0</td>\n",
       "      <td>0</td>\n",
       "      <td>1</td>\n",
       "      <td>1</td>\n",
       "      <td>0</td>\n",
       "      <td>0</td>\n",
       "      <td>0</td>\n",
       "      <td>1</td>\n",
       "      <td>0</td>\n",
       "      <td>0</td>\n",
       "      <td>0</td>\n",
       "    </tr>\n",
       "    <tr>\n",
       "      <th>...</th>\n",
       "      <td>...</td>\n",
       "      <td>...</td>\n",
       "      <td>...</td>\n",
       "      <td>...</td>\n",
       "      <td>...</td>\n",
       "      <td>...</td>\n",
       "      <td>...</td>\n",
       "      <td>...</td>\n",
       "      <td>...</td>\n",
       "      <td>...</td>\n",
       "      <td>...</td>\n",
       "      <td>...</td>\n",
       "      <td>...</td>\n",
       "      <td>...</td>\n",
       "      <td>...</td>\n",
       "    </tr>\n",
       "    <tr>\n",
       "      <th>36270</th>\n",
       "      <td>1</td>\n",
       "      <td>3</td>\n",
       "      <td>1</td>\n",
       "      <td>279</td>\n",
       "      <td>0</td>\n",
       "      <td>0</td>\n",
       "      <td>1</td>\n",
       "      <td>1</td>\n",
       "      <td>0</td>\n",
       "      <td>0</td>\n",
       "      <td>0</td>\n",
       "      <td>1</td>\n",
       "      <td>0</td>\n",
       "      <td>0</td>\n",
       "      <td>0</td>\n",
       "    </tr>\n",
       "    <tr>\n",
       "      <th>36271</th>\n",
       "      <td>1</td>\n",
       "      <td>3</td>\n",
       "      <td>1</td>\n",
       "      <td>280</td>\n",
       "      <td>0</td>\n",
       "      <td>0</td>\n",
       "      <td>1</td>\n",
       "      <td>1</td>\n",
       "      <td>0</td>\n",
       "      <td>0</td>\n",
       "      <td>0</td>\n",
       "      <td>1</td>\n",
       "      <td>0</td>\n",
       "      <td>0</td>\n",
       "      <td>0</td>\n",
       "    </tr>\n",
       "    <tr>\n",
       "      <th>36272</th>\n",
       "      <td>1</td>\n",
       "      <td>3</td>\n",
       "      <td>1</td>\n",
       "      <td>283</td>\n",
       "      <td>0</td>\n",
       "      <td>0</td>\n",
       "      <td>1</td>\n",
       "      <td>1</td>\n",
       "      <td>0</td>\n",
       "      <td>0</td>\n",
       "      <td>0</td>\n",
       "      <td>1</td>\n",
       "      <td>0</td>\n",
       "      <td>0</td>\n",
       "      <td>0</td>\n",
       "    </tr>\n",
       "    <tr>\n",
       "      <th>36273</th>\n",
       "      <td>1</td>\n",
       "      <td>3</td>\n",
       "      <td>1</td>\n",
       "      <td>284</td>\n",
       "      <td>0</td>\n",
       "      <td>0</td>\n",
       "      <td>1</td>\n",
       "      <td>1</td>\n",
       "      <td>0</td>\n",
       "      <td>0</td>\n",
       "      <td>0</td>\n",
       "      <td>1</td>\n",
       "      <td>0</td>\n",
       "      <td>0</td>\n",
       "      <td>0</td>\n",
       "    </tr>\n",
       "    <tr>\n",
       "      <th>36274</th>\n",
       "      <td>1</td>\n",
       "      <td>3</td>\n",
       "      <td>1</td>\n",
       "      <td>285</td>\n",
       "      <td>0</td>\n",
       "      <td>0</td>\n",
       "      <td>1</td>\n",
       "      <td>1</td>\n",
       "      <td>0</td>\n",
       "      <td>0</td>\n",
       "      <td>0</td>\n",
       "      <td>1</td>\n",
       "      <td>0</td>\n",
       "      <td>0</td>\n",
       "      <td>0</td>\n",
       "    </tr>\n",
       "  </tbody>\n",
       "</table>\n",
       "<p>36275 rows × 15 columns</p>\n",
       "</div>"
      ],
      "text/plain": [
       "       is_premier  trimester  original_six_plus_extra  days_out_from_event  \\\n",
       "0               1          1                        0                    0   \n",
       "1               1          1                        0                    1   \n",
       "2               1          1                        0                    2   \n",
       "3               1          1                        0                    3   \n",
       "4               1          1                        0                    4   \n",
       "...           ...        ...                      ...                  ...   \n",
       "36270           1          3                        1                  279   \n",
       "36271           1          3                        1                  280   \n",
       "36272           1          3                        1                  283   \n",
       "36273           1          3                        1                  284   \n",
       "36274           1          3                        1                  285   \n",
       "\n",
       "       early  afternoon  evening  is_weekday  is_friday_or_sunday  \\\n",
       "0          0          0        1           1                    0   \n",
       "1          0          0        1           1                    0   \n",
       "2          0          0        1           1                    0   \n",
       "3          0          0        1           1                    0   \n",
       "4          0          0        1           1                    0   \n",
       "...      ...        ...      ...         ...                  ...   \n",
       "36270      0          0        1           1                    0   \n",
       "36271      0          0        1           1                    0   \n",
       "36272      0          0        1           1                    0   \n",
       "36273      0          0        1           1                    0   \n",
       "36274      0          0        1           1                    0   \n",
       "\n",
       "       is_saturday  A  B  C  D  E  \n",
       "0                0  0  1  0  0  0  \n",
       "1                0  0  1  0  0  0  \n",
       "2                0  0  1  0  0  0  \n",
       "3                0  0  1  0  0  0  \n",
       "4                0  0  1  0  0  0  \n",
       "...            ... .. .. .. .. ..  \n",
       "36270            0  0  1  0  0  0  \n",
       "36271            0  0  1  0  0  0  \n",
       "36272            0  0  1  0  0  0  \n",
       "36273            0  0  1  0  0  0  \n",
       "36274            0  0  1  0  0  0  \n",
       "\n",
       "[36275 rows x 15 columns]"
      ]
     },
     "execution_count": 66,
     "metadata": {},
     "output_type": "execute_result"
    }
   ],
   "source": [
    "x_train"
   ]
  },
  {
   "cell_type": "code",
   "execution_count": 67,
   "metadata": {},
   "outputs": [],
   "source": [
    "scaler = StandardScaler()\n",
    "\n",
    "x_train_scale = scaler.fit_transform(x_train)\n",
    "x_test_scale = scaler.fit_transform(x_test)\n",
    "\n",
    "y_log = np.nan_to_num(np.log(np.array(y).ravel()), nan=0.0, posinf=0.0, neginf=0.0)"
   ]
  },
  {
   "cell_type": "markdown",
   "metadata": {
    "cell_id": "884e6b20aeea4e378e0ae40332c1c3e3",
    "deepnote_cell_type": "text-cell-h3",
    "formattedRanges": [
     {
      "fromCodePoint": 0,
      "marks": {
       "bold": true
      },
      "toCodePoint": 4,
      "type": "marks"
     }
    ]
   },
   "source": [
    "### 3.2 Write model"
   ]
  },
  {
   "cell_type": "markdown",
   "metadata": {
    "cell_id": "8eed95374d57448ab715649e1b354a1a",
    "deepnote_cell_type": "text-cell-p",
    "formattedRanges": []
   },
   "source": [
    "Model selection is very important, first you must figure out what your output variable you want which tells you what kind of model you want (classification, clustering, regression). Then you can look at specific model types in that model group. "
   ]
  },
  {
   "cell_type": "markdown",
   "metadata": {
    "cell_id": "0a3f47f1358e4add8009d202673e9a1e",
    "deepnote_cell_type": "text-cell-p",
    "formattedRanges": []
   },
   "source": [
    "Sometimes multiple will need to be tested before settling on the best model for your current data and situation."
   ]
  },
  {
   "cell_type": "markdown",
   "metadata": {
    "cell_id": "1a72ff8885104a379b5e9e5e70c8cc90",
    "deepnote_cell_type": "text-cell-p",
    "formattedRanges": []
   },
   "source": [
    "Model selection info: https://scikit-learn.org/stable/modules/generated/sklearn.model_selection.train_test_split.html"
   ]
  },
  {
   "cell_type": "markdown",
   "metadata": {
    "cell_id": "7c37a156ae894856ade2d7b16c2d82dc",
    "deepnote_cell_type": "text-cell-h3",
    "formattedRanges": [
     {
      "fromCodePoint": 0,
      "marks": {
       "bold": true
      },
      "toCodePoint": 3,
      "type": "marks"
     }
    ]
   },
   "source": [
    "### 3.3 Run model"
   ]
  },
  {
   "cell_type": "code",
   "execution_count": 68,
   "metadata": {
    "cell_id": "30b278ff330244439543b042cc28d4db",
    "deepnote_cell_type": "code",
    "execution_context_id": "b11ce288-2722-457a-a513-a1be65d244f4",
    "execution_millis": 277700,
    "execution_start": 1755095004245,
    "source_hash": "f1847a1c"
   },
   "outputs": [
    {
     "name": "stdout",
     "output_type": "stream",
     "text": [
      "Iteration 1, loss = 2.90764070\n",
      "Validation score: -0.286169\n",
      "Iteration 2, loss = 0.92981272\n",
      "Validation score: 0.025331\n",
      "Iteration 3, loss = 0.85197054\n",
      "Validation score: 0.056268\n",
      "Iteration 4, loss = 0.82835759\n",
      "Validation score: 0.077180\n",
      "Iteration 5, loss = 0.80914048\n",
      "Validation score: 0.099053\n",
      "Iteration 6, loss = 0.79102236\n",
      "Validation score: 0.117727\n",
      "Iteration 7, loss = 0.77391745\n",
      "Validation score: 0.139990\n",
      "Iteration 8, loss = 0.75905355\n",
      "Validation score: 0.154794\n",
      "Iteration 9, loss = 0.74740514\n",
      "Validation score: 0.167590\n",
      "Iteration 10, loss = 0.73815526\n",
      "Validation score: 0.176602\n",
      "Iteration 11, loss = 0.73120281\n",
      "Validation score: 0.185440\n",
      "Iteration 12, loss = 0.72464944\n",
      "Validation score: 0.190571\n",
      "Iteration 13, loss = 0.71957970\n",
      "Validation score: 0.196679\n",
      "Iteration 14, loss = 0.71563481\n",
      "Validation score: 0.202164\n",
      "Iteration 15, loss = 0.71195624\n",
      "Validation score: 0.207242\n",
      "Iteration 16, loss = 0.70910913\n",
      "Validation score: 0.209317\n",
      "Iteration 17, loss = 0.70572141\n",
      "Validation score: 0.212108\n",
      "Iteration 18, loss = 0.70305992\n",
      "Validation score: 0.215428\n",
      "Iteration 19, loss = 0.70046150\n",
      "Validation score: 0.218494\n",
      "Iteration 20, loss = 0.69811372\n",
      "Validation score: 0.220856\n",
      "Iteration 21, loss = 0.69551699\n",
      "Validation score: 0.221065\n",
      "Iteration 22, loss = 0.69424195\n",
      "Validation score: 0.225892\n",
      "Iteration 23, loss = 0.69168277\n",
      "Validation score: 0.227331\n",
      "Iteration 24, loss = 0.68950325\n",
      "Validation score: 0.228714\n",
      "Iteration 25, loss = 0.68811301\n",
      "Validation score: 0.231487\n",
      "Iteration 26, loss = 0.68684268\n",
      "Validation score: 0.232899\n",
      "Iteration 27, loss = 0.68441785\n",
      "Validation score: 0.234441\n",
      "Iteration 28, loss = 0.68262698\n",
      "Validation score: 0.235535\n",
      "Iteration 29, loss = 0.68128080\n",
      "Validation score: 0.237412\n",
      "Iteration 30, loss = 0.67939515\n",
      "Validation score: 0.239745\n",
      "Iteration 31, loss = 0.67833336\n",
      "Validation score: 0.240026\n",
      "Iteration 32, loss = 0.67710181\n",
      "Validation score: 0.241360\n",
      "Iteration 33, loss = 0.67564283\n",
      "Validation score: 0.243286\n",
      "Iteration 34, loss = 0.67401514\n",
      "Validation score: 0.242470\n",
      "Iteration 35, loss = 0.67383941\n",
      "Validation score: 0.247186\n",
      "Iteration 36, loss = 0.67125070\n",
      "Validation score: 0.246076\n",
      "Iteration 37, loss = 0.67020903\n",
      "Validation score: 0.250562\n",
      "Iteration 38, loss = 0.66909352\n",
      "Validation score: 0.249519\n",
      "Iteration 39, loss = 0.66814348\n",
      "Validation score: 0.251638\n",
      "Iteration 40, loss = 0.66647568\n",
      "Validation score: 0.252229\n",
      "Iteration 41, loss = 0.66531785\n",
      "Validation score: 0.251574\n",
      "Iteration 42, loss = 0.66492900\n",
      "Validation score: 0.254802\n",
      "Iteration 43, loss = 0.66431848\n",
      "Validation score: 0.256308\n",
      "Iteration 44, loss = 0.66183707\n",
      "Validation score: 0.256714\n",
      "Iteration 45, loss = 0.66295678\n",
      "Validation score: 0.255139\n",
      "Iteration 46, loss = 0.66143056\n",
      "Validation score: 0.256787\n",
      "Iteration 47, loss = 0.66019936\n",
      "Validation score: 0.259200\n",
      "Iteration 48, loss = 0.65885133\n",
      "Validation score: 0.260083\n",
      "Iteration 49, loss = 0.65850277\n",
      "Validation score: 0.259586\n",
      "Iteration 50, loss = 0.65800899\n",
      "Validation score: 0.260552\n",
      "Iteration 51, loss = 0.65664848\n",
      "Validation score: 0.259677\n",
      "Iteration 52, loss = 0.65571672\n",
      "Validation score: 0.261948\n",
      "Iteration 53, loss = 0.65545498\n",
      "Validation score: 0.263288\n",
      "Iteration 54, loss = 0.65422388\n",
      "Validation score: 0.264196\n",
      "Iteration 55, loss = 0.65373117\n",
      "Validation score: 0.265445\n",
      "Iteration 56, loss = 0.65338622\n",
      "Validation score: 0.265088\n",
      "Iteration 57, loss = 0.65288668\n",
      "Validation score: 0.263883\n",
      "Iteration 58, loss = 0.65178911\n",
      "Validation score: 0.264654\n",
      "Iteration 59, loss = 0.65202481\n",
      "Validation score: 0.264843\n",
      "Iteration 60, loss = 0.65104081\n",
      "Validation score: 0.267879\n",
      "Iteration 61, loss = 0.64987644\n",
      "Validation score: 0.269666\n",
      "Iteration 62, loss = 0.64914563\n",
      "Validation score: 0.269233\n",
      "Iteration 63, loss = 0.64856076\n",
      "Validation score: 0.267842\n",
      "Iteration 64, loss = 0.64794692\n",
      "Validation score: 0.267950\n",
      "Iteration 65, loss = 0.64666355\n",
      "Validation score: 0.267089\n",
      "Iteration 66, loss = 0.64719318\n",
      "Validation score: 0.270870\n",
      "Iteration 67, loss = 0.64685335\n",
      "Validation score: 0.271040\n",
      "Iteration 68, loss = 0.64607678\n",
      "Validation score: 0.272813\n",
      "Iteration 69, loss = 0.64567195\n",
      "Validation score: 0.269653\n",
      "Iteration 70, loss = 0.64459416\n",
      "Validation score: 0.272391\n",
      "Iteration 71, loss = 0.64483954\n",
      "Validation score: 0.268818\n",
      "Iteration 72, loss = 0.64392889\n",
      "Validation score: 0.272439\n",
      "Iteration 73, loss = 0.64374563\n",
      "Validation score: 0.273141\n",
      "Iteration 74, loss = 0.64396302\n",
      "Validation score: 0.272329\n",
      "Iteration 75, loss = 0.64260428\n",
      "Validation score: 0.273875\n",
      "Iteration 76, loss = 0.64258747\n",
      "Validation score: 0.275325\n",
      "Iteration 77, loss = 0.64155989\n",
      "Validation score: 0.276749\n",
      "Iteration 78, loss = 0.64217541\n",
      "Validation score: 0.276111\n",
      "Iteration 79, loss = 0.64183836\n",
      "Validation score: 0.276148\n",
      "Iteration 80, loss = 0.64098463\n",
      "Validation score: 0.275163\n",
      "Iteration 81, loss = 0.64112702\n",
      "Validation score: 0.278181\n",
      "Iteration 82, loss = 0.63982316\n",
      "Validation score: 0.278669\n",
      "Iteration 83, loss = 0.63971380\n",
      "Validation score: 0.279680\n",
      "Iteration 84, loss = 0.63850919\n",
      "Validation score: 0.279377\n",
      "Iteration 85, loss = 0.63891705\n",
      "Validation score: 0.278397\n",
      "Iteration 86, loss = 0.63802052\n",
      "Validation score: 0.278325\n",
      "Iteration 87, loss = 0.63791407\n",
      "Validation score: 0.279784\n",
      "Iteration 88, loss = 0.63830510\n",
      "Validation score: 0.279772\n",
      "Iteration 89, loss = 0.63783110\n",
      "Validation score: 0.280745\n",
      "Iteration 90, loss = 0.63663777\n",
      "Validation score: 0.279538\n",
      "Iteration 91, loss = 0.63615973\n",
      "Validation score: 0.279323\n",
      "Iteration 92, loss = 0.63669918\n",
      "Validation score: 0.281971\n",
      "Iteration 93, loss = 0.63586130\n",
      "Validation score: 0.279979\n",
      "Iteration 94, loss = 0.63573682\n",
      "Validation score: 0.282393\n",
      "Iteration 95, loss = 0.63500768\n",
      "Validation score: 0.282050\n",
      "Iteration 96, loss = 0.63562078\n",
      "Validation score: 0.283776\n",
      "Iteration 97, loss = 0.63428296\n",
      "Validation score: 0.284240\n",
      "Iteration 98, loss = 0.63429675\n",
      "Validation score: 0.283313\n",
      "Iteration 99, loss = 0.63359578\n",
      "Validation score: 0.282485\n",
      "Iteration 100, loss = 0.63397022\n",
      "Validation score: 0.283941\n",
      "Iteration 101, loss = 0.63290013\n",
      "Validation score: 0.283907\n",
      "Iteration 102, loss = 0.63252210\n",
      "Validation score: 0.284182\n",
      "Iteration 103, loss = 0.63294914\n",
      "Validation score: 0.285014\n",
      "Iteration 104, loss = 0.63255683\n",
      "Validation score: 0.284960\n",
      "Iteration 105, loss = 0.63200809\n",
      "Validation score: 0.282769\n",
      "Iteration 106, loss = 0.63202726\n",
      "Validation score: 0.282335\n",
      "Iteration 107, loss = 0.63088861\n",
      "Validation score: 0.288012\n",
      "Iteration 108, loss = 0.63209618\n",
      "Validation score: 0.284027\n",
      "Iteration 109, loss = 0.63073332\n",
      "Validation score: 0.284596\n",
      "Iteration 110, loss = 0.63080035\n",
      "Validation score: 0.284885\n",
      "Iteration 111, loss = 0.63188296\n",
      "Validation score: 0.286193\n",
      "Iteration 112, loss = 0.63028234\n",
      "Validation score: 0.284636\n",
      "Iteration 113, loss = 0.63034620\n",
      "Validation score: 0.288156\n",
      "Iteration 114, loss = 0.62985197\n",
      "Validation score: 0.286970\n",
      "Iteration 115, loss = 0.62892792\n",
      "Validation score: 0.282353\n",
      "Iteration 116, loss = 0.62885879\n",
      "Validation score: 0.287947\n",
      "Iteration 117, loss = 0.62821599\n",
      "Validation score: 0.285357\n",
      "Iteration 118, loss = 0.62883911\n",
      "Validation score: 0.284597\n",
      "Iteration 119, loss = 0.62812323\n",
      "Validation score: 0.291652\n",
      "Iteration 120, loss = 0.62863086\n",
      "Validation score: 0.288541\n",
      "Iteration 121, loss = 0.62852258\n",
      "Validation score: 0.290535\n",
      "Iteration 122, loss = 0.62781300\n",
      "Validation score: 0.285469\n",
      "Iteration 123, loss = 0.62778505\n",
      "Validation score: 0.288842\n",
      "Iteration 124, loss = 0.62633078\n",
      "Validation score: 0.287319\n",
      "Iteration 125, loss = 0.62793449\n",
      "Validation score: 0.288987\n",
      "Iteration 126, loss = 0.62584519\n",
      "Validation score: 0.289577\n",
      "Iteration 127, loss = 0.62606021\n",
      "Validation score: 0.285842\n",
      "Iteration 128, loss = 0.62756581\n",
      "Validation score: 0.287691\n",
      "Iteration 129, loss = 0.62697079\n",
      "Validation score: 0.291476\n",
      "Iteration 130, loss = 0.62551217\n",
      "Validation score: 0.288824\n",
      "Validation score did not improve more than tol=0.000100 for 10 consecutive epochs. Stopping.\n"
     ]
    },
    {
     "data": {
      "text/html": [
       "<style>#sk-container-id-2 {\n",
       "  /* Definition of color scheme common for light and dark mode */\n",
       "  --sklearn-color-text: black;\n",
       "  --sklearn-color-line: gray;\n",
       "  /* Definition of color scheme for unfitted estimators */\n",
       "  --sklearn-color-unfitted-level-0: #fff5e6;\n",
       "  --sklearn-color-unfitted-level-1: #f6e4d2;\n",
       "  --sklearn-color-unfitted-level-2: #ffe0b3;\n",
       "  --sklearn-color-unfitted-level-3: chocolate;\n",
       "  /* Definition of color scheme for fitted estimators */\n",
       "  --sklearn-color-fitted-level-0: #f0f8ff;\n",
       "  --sklearn-color-fitted-level-1: #d4ebff;\n",
       "  --sklearn-color-fitted-level-2: #b3dbfd;\n",
       "  --sklearn-color-fitted-level-3: cornflowerblue;\n",
       "\n",
       "  /* Specific color for light theme */\n",
       "  --sklearn-color-text-on-default-background: var(--sg-text-color, var(--theme-code-foreground, var(--jp-content-font-color1, black)));\n",
       "  --sklearn-color-background: var(--sg-background-color, var(--theme-background, var(--jp-layout-color0, white)));\n",
       "  --sklearn-color-border-box: var(--sg-text-color, var(--theme-code-foreground, var(--jp-content-font-color1, black)));\n",
       "  --sklearn-color-icon: #696969;\n",
       "\n",
       "  @media (prefers-color-scheme: dark) {\n",
       "    /* Redefinition of color scheme for dark theme */\n",
       "    --sklearn-color-text-on-default-background: var(--sg-text-color, var(--theme-code-foreground, var(--jp-content-font-color1, white)));\n",
       "    --sklearn-color-background: var(--sg-background-color, var(--theme-background, var(--jp-layout-color0, #111)));\n",
       "    --sklearn-color-border-box: var(--sg-text-color, var(--theme-code-foreground, var(--jp-content-font-color1, white)));\n",
       "    --sklearn-color-icon: #878787;\n",
       "  }\n",
       "}\n",
       "\n",
       "#sk-container-id-2 {\n",
       "  color: var(--sklearn-color-text);\n",
       "}\n",
       "\n",
       "#sk-container-id-2 pre {\n",
       "  padding: 0;\n",
       "}\n",
       "\n",
       "#sk-container-id-2 input.sk-hidden--visually {\n",
       "  border: 0;\n",
       "  clip: rect(1px 1px 1px 1px);\n",
       "  clip: rect(1px, 1px, 1px, 1px);\n",
       "  height: 1px;\n",
       "  margin: -1px;\n",
       "  overflow: hidden;\n",
       "  padding: 0;\n",
       "  position: absolute;\n",
       "  width: 1px;\n",
       "}\n",
       "\n",
       "#sk-container-id-2 div.sk-dashed-wrapped {\n",
       "  border: 1px dashed var(--sklearn-color-line);\n",
       "  margin: 0 0.4em 0.5em 0.4em;\n",
       "  box-sizing: border-box;\n",
       "  padding-bottom: 0.4em;\n",
       "  background-color: var(--sklearn-color-background);\n",
       "}\n",
       "\n",
       "#sk-container-id-2 div.sk-container {\n",
       "  /* jupyter's `normalize.less` sets `[hidden] { display: none; }`\n",
       "     but bootstrap.min.css set `[hidden] { display: none !important; }`\n",
       "     so we also need the `!important` here to be able to override the\n",
       "     default hidden behavior on the sphinx rendered scikit-learn.org.\n",
       "     See: https://github.com/scikit-learn/scikit-learn/issues/21755 */\n",
       "  display: inline-block !important;\n",
       "  position: relative;\n",
       "}\n",
       "\n",
       "#sk-container-id-2 div.sk-text-repr-fallback {\n",
       "  display: none;\n",
       "}\n",
       "\n",
       "div.sk-parallel-item,\n",
       "div.sk-serial,\n",
       "div.sk-item {\n",
       "  /* draw centered vertical line to link estimators */\n",
       "  background-image: linear-gradient(var(--sklearn-color-text-on-default-background), var(--sklearn-color-text-on-default-background));\n",
       "  background-size: 2px 100%;\n",
       "  background-repeat: no-repeat;\n",
       "  background-position: center center;\n",
       "}\n",
       "\n",
       "/* Parallel-specific style estimator block */\n",
       "\n",
       "#sk-container-id-2 div.sk-parallel-item::after {\n",
       "  content: \"\";\n",
       "  width: 100%;\n",
       "  border-bottom: 2px solid var(--sklearn-color-text-on-default-background);\n",
       "  flex-grow: 1;\n",
       "}\n",
       "\n",
       "#sk-container-id-2 div.sk-parallel {\n",
       "  display: flex;\n",
       "  align-items: stretch;\n",
       "  justify-content: center;\n",
       "  background-color: var(--sklearn-color-background);\n",
       "  position: relative;\n",
       "}\n",
       "\n",
       "#sk-container-id-2 div.sk-parallel-item {\n",
       "  display: flex;\n",
       "  flex-direction: column;\n",
       "}\n",
       "\n",
       "#sk-container-id-2 div.sk-parallel-item:first-child::after {\n",
       "  align-self: flex-end;\n",
       "  width: 50%;\n",
       "}\n",
       "\n",
       "#sk-container-id-2 div.sk-parallel-item:last-child::after {\n",
       "  align-self: flex-start;\n",
       "  width: 50%;\n",
       "}\n",
       "\n",
       "#sk-container-id-2 div.sk-parallel-item:only-child::after {\n",
       "  width: 0;\n",
       "}\n",
       "\n",
       "/* Serial-specific style estimator block */\n",
       "\n",
       "#sk-container-id-2 div.sk-serial {\n",
       "  display: flex;\n",
       "  flex-direction: column;\n",
       "  align-items: center;\n",
       "  background-color: var(--sklearn-color-background);\n",
       "  padding-right: 1em;\n",
       "  padding-left: 1em;\n",
       "}\n",
       "\n",
       "\n",
       "/* Toggleable style: style used for estimator/Pipeline/ColumnTransformer box that is\n",
       "clickable and can be expanded/collapsed.\n",
       "- Pipeline and ColumnTransformer use this feature and define the default style\n",
       "- Estimators will overwrite some part of the style using the `sk-estimator` class\n",
       "*/\n",
       "\n",
       "/* Pipeline and ColumnTransformer style (default) */\n",
       "\n",
       "#sk-container-id-2 div.sk-toggleable {\n",
       "  /* Default theme specific background. It is overwritten whether we have a\n",
       "  specific estimator or a Pipeline/ColumnTransformer */\n",
       "  background-color: var(--sklearn-color-background);\n",
       "}\n",
       "\n",
       "/* Toggleable label */\n",
       "#sk-container-id-2 label.sk-toggleable__label {\n",
       "  cursor: pointer;\n",
       "  display: block;\n",
       "  width: 100%;\n",
       "  margin-bottom: 0;\n",
       "  padding: 0.5em;\n",
       "  box-sizing: border-box;\n",
       "  text-align: center;\n",
       "}\n",
       "\n",
       "#sk-container-id-2 label.sk-toggleable__label-arrow:before {\n",
       "  /* Arrow on the left of the label */\n",
       "  content: \"▸\";\n",
       "  float: left;\n",
       "  margin-right: 0.25em;\n",
       "  color: var(--sklearn-color-icon);\n",
       "}\n",
       "\n",
       "#sk-container-id-2 label.sk-toggleable__label-arrow:hover:before {\n",
       "  color: var(--sklearn-color-text);\n",
       "}\n",
       "\n",
       "/* Toggleable content - dropdown */\n",
       "\n",
       "#sk-container-id-2 div.sk-toggleable__content {\n",
       "  max-height: 0;\n",
       "  max-width: 0;\n",
       "  overflow: hidden;\n",
       "  text-align: left;\n",
       "  /* unfitted */\n",
       "  background-color: var(--sklearn-color-unfitted-level-0);\n",
       "}\n",
       "\n",
       "#sk-container-id-2 div.sk-toggleable__content.fitted {\n",
       "  /* fitted */\n",
       "  background-color: var(--sklearn-color-fitted-level-0);\n",
       "}\n",
       "\n",
       "#sk-container-id-2 div.sk-toggleable__content pre {\n",
       "  margin: 0.2em;\n",
       "  border-radius: 0.25em;\n",
       "  color: var(--sklearn-color-text);\n",
       "  /* unfitted */\n",
       "  background-color: var(--sklearn-color-unfitted-level-0);\n",
       "}\n",
       "\n",
       "#sk-container-id-2 div.sk-toggleable__content.fitted pre {\n",
       "  /* unfitted */\n",
       "  background-color: var(--sklearn-color-fitted-level-0);\n",
       "}\n",
       "\n",
       "#sk-container-id-2 input.sk-toggleable__control:checked~div.sk-toggleable__content {\n",
       "  /* Expand drop-down */\n",
       "  max-height: 200px;\n",
       "  max-width: 100%;\n",
       "  overflow: auto;\n",
       "}\n",
       "\n",
       "#sk-container-id-2 input.sk-toggleable__control:checked~label.sk-toggleable__label-arrow:before {\n",
       "  content: \"▾\";\n",
       "}\n",
       "\n",
       "/* Pipeline/ColumnTransformer-specific style */\n",
       "\n",
       "#sk-container-id-2 div.sk-label input.sk-toggleable__control:checked~label.sk-toggleable__label {\n",
       "  color: var(--sklearn-color-text);\n",
       "  background-color: var(--sklearn-color-unfitted-level-2);\n",
       "}\n",
       "\n",
       "#sk-container-id-2 div.sk-label.fitted input.sk-toggleable__control:checked~label.sk-toggleable__label {\n",
       "  background-color: var(--sklearn-color-fitted-level-2);\n",
       "}\n",
       "\n",
       "/* Estimator-specific style */\n",
       "\n",
       "/* Colorize estimator box */\n",
       "#sk-container-id-2 div.sk-estimator input.sk-toggleable__control:checked~label.sk-toggleable__label {\n",
       "  /* unfitted */\n",
       "  background-color: var(--sklearn-color-unfitted-level-2);\n",
       "}\n",
       "\n",
       "#sk-container-id-2 div.sk-estimator.fitted input.sk-toggleable__control:checked~label.sk-toggleable__label {\n",
       "  /* fitted */\n",
       "  background-color: var(--sklearn-color-fitted-level-2);\n",
       "}\n",
       "\n",
       "#sk-container-id-2 div.sk-label label.sk-toggleable__label,\n",
       "#sk-container-id-2 div.sk-label label {\n",
       "  /* The background is the default theme color */\n",
       "  color: var(--sklearn-color-text-on-default-background);\n",
       "}\n",
       "\n",
       "/* On hover, darken the color of the background */\n",
       "#sk-container-id-2 div.sk-label:hover label.sk-toggleable__label {\n",
       "  color: var(--sklearn-color-text);\n",
       "  background-color: var(--sklearn-color-unfitted-level-2);\n",
       "}\n",
       "\n",
       "/* Label box, darken color on hover, fitted */\n",
       "#sk-container-id-2 div.sk-label.fitted:hover label.sk-toggleable__label.fitted {\n",
       "  color: var(--sklearn-color-text);\n",
       "  background-color: var(--sklearn-color-fitted-level-2);\n",
       "}\n",
       "\n",
       "/* Estimator label */\n",
       "\n",
       "#sk-container-id-2 div.sk-label label {\n",
       "  font-family: monospace;\n",
       "  font-weight: bold;\n",
       "  display: inline-block;\n",
       "  line-height: 1.2em;\n",
       "}\n",
       "\n",
       "#sk-container-id-2 div.sk-label-container {\n",
       "  text-align: center;\n",
       "}\n",
       "\n",
       "/* Estimator-specific */\n",
       "#sk-container-id-2 div.sk-estimator {\n",
       "  font-family: monospace;\n",
       "  border: 1px dotted var(--sklearn-color-border-box);\n",
       "  border-radius: 0.25em;\n",
       "  box-sizing: border-box;\n",
       "  margin-bottom: 0.5em;\n",
       "  /* unfitted */\n",
       "  background-color: var(--sklearn-color-unfitted-level-0);\n",
       "}\n",
       "\n",
       "#sk-container-id-2 div.sk-estimator.fitted {\n",
       "  /* fitted */\n",
       "  background-color: var(--sklearn-color-fitted-level-0);\n",
       "}\n",
       "\n",
       "/* on hover */\n",
       "#sk-container-id-2 div.sk-estimator:hover {\n",
       "  /* unfitted */\n",
       "  background-color: var(--sklearn-color-unfitted-level-2);\n",
       "}\n",
       "\n",
       "#sk-container-id-2 div.sk-estimator.fitted:hover {\n",
       "  /* fitted */\n",
       "  background-color: var(--sklearn-color-fitted-level-2);\n",
       "}\n",
       "\n",
       "/* Specification for estimator info (e.g. \"i\" and \"?\") */\n",
       "\n",
       "/* Common style for \"i\" and \"?\" */\n",
       "\n",
       ".sk-estimator-doc-link,\n",
       "a:link.sk-estimator-doc-link,\n",
       "a:visited.sk-estimator-doc-link {\n",
       "  float: right;\n",
       "  font-size: smaller;\n",
       "  line-height: 1em;\n",
       "  font-family: monospace;\n",
       "  background-color: var(--sklearn-color-background);\n",
       "  border-radius: 1em;\n",
       "  height: 1em;\n",
       "  width: 1em;\n",
       "  text-decoration: none !important;\n",
       "  margin-left: 1ex;\n",
       "  /* unfitted */\n",
       "  border: var(--sklearn-color-unfitted-level-1) 1pt solid;\n",
       "  color: var(--sklearn-color-unfitted-level-1);\n",
       "}\n",
       "\n",
       ".sk-estimator-doc-link.fitted,\n",
       "a:link.sk-estimator-doc-link.fitted,\n",
       "a:visited.sk-estimator-doc-link.fitted {\n",
       "  /* fitted */\n",
       "  border: var(--sklearn-color-fitted-level-1) 1pt solid;\n",
       "  color: var(--sklearn-color-fitted-level-1);\n",
       "}\n",
       "\n",
       "/* On hover */\n",
       "div.sk-estimator:hover .sk-estimator-doc-link:hover,\n",
       ".sk-estimator-doc-link:hover,\n",
       "div.sk-label-container:hover .sk-estimator-doc-link:hover,\n",
       ".sk-estimator-doc-link:hover {\n",
       "  /* unfitted */\n",
       "  background-color: var(--sklearn-color-unfitted-level-3);\n",
       "  color: var(--sklearn-color-background);\n",
       "  text-decoration: none;\n",
       "}\n",
       "\n",
       "div.sk-estimator.fitted:hover .sk-estimator-doc-link.fitted:hover,\n",
       ".sk-estimator-doc-link.fitted:hover,\n",
       "div.sk-label-container:hover .sk-estimator-doc-link.fitted:hover,\n",
       ".sk-estimator-doc-link.fitted:hover {\n",
       "  /* fitted */\n",
       "  background-color: var(--sklearn-color-fitted-level-3);\n",
       "  color: var(--sklearn-color-background);\n",
       "  text-decoration: none;\n",
       "}\n",
       "\n",
       "/* Span, style for the box shown on hovering the info icon */\n",
       ".sk-estimator-doc-link span {\n",
       "  display: none;\n",
       "  z-index: 9999;\n",
       "  position: relative;\n",
       "  font-weight: normal;\n",
       "  right: .2ex;\n",
       "  padding: .5ex;\n",
       "  margin: .5ex;\n",
       "  width: min-content;\n",
       "  min-width: 20ex;\n",
       "  max-width: 50ex;\n",
       "  color: var(--sklearn-color-text);\n",
       "  box-shadow: 2pt 2pt 4pt #999;\n",
       "  /* unfitted */\n",
       "  background: var(--sklearn-color-unfitted-level-0);\n",
       "  border: .5pt solid var(--sklearn-color-unfitted-level-3);\n",
       "}\n",
       "\n",
       ".sk-estimator-doc-link.fitted span {\n",
       "  /* fitted */\n",
       "  background: var(--sklearn-color-fitted-level-0);\n",
       "  border: var(--sklearn-color-fitted-level-3);\n",
       "}\n",
       "\n",
       ".sk-estimator-doc-link:hover span {\n",
       "  display: block;\n",
       "}\n",
       "\n",
       "/* \"?\"-specific style due to the `<a>` HTML tag */\n",
       "\n",
       "#sk-container-id-2 a.estimator_doc_link {\n",
       "  float: right;\n",
       "  font-size: 1rem;\n",
       "  line-height: 1em;\n",
       "  font-family: monospace;\n",
       "  background-color: var(--sklearn-color-background);\n",
       "  border-radius: 1rem;\n",
       "  height: 1rem;\n",
       "  width: 1rem;\n",
       "  text-decoration: none;\n",
       "  /* unfitted */\n",
       "  color: var(--sklearn-color-unfitted-level-1);\n",
       "  border: var(--sklearn-color-unfitted-level-1) 1pt solid;\n",
       "}\n",
       "\n",
       "#sk-container-id-2 a.estimator_doc_link.fitted {\n",
       "  /* fitted */\n",
       "  border: var(--sklearn-color-fitted-level-1) 1pt solid;\n",
       "  color: var(--sklearn-color-fitted-level-1);\n",
       "}\n",
       "\n",
       "/* On hover */\n",
       "#sk-container-id-2 a.estimator_doc_link:hover {\n",
       "  /* unfitted */\n",
       "  background-color: var(--sklearn-color-unfitted-level-3);\n",
       "  color: var(--sklearn-color-background);\n",
       "  text-decoration: none;\n",
       "}\n",
       "\n",
       "#sk-container-id-2 a.estimator_doc_link.fitted:hover {\n",
       "  /* fitted */\n",
       "  background-color: var(--sklearn-color-fitted-level-3);\n",
       "}\n",
       "</style><div id=\"sk-container-id-2\" class=\"sk-top-container\"><div class=\"sk-text-repr-fallback\"><pre>MLPRegressor(alpha=0.001, batch_size=512, early_stopping=True, max_iter=300,\n",
       "             random_state=1993, verbose=True)</pre><b>In a Jupyter environment, please rerun this cell to show the HTML representation or trust the notebook. <br />On GitHub, the HTML representation is unable to render, please try loading this page with nbviewer.org.</b></div><div class=\"sk-container\" hidden><div class=\"sk-item\"><div class=\"sk-estimator fitted sk-toggleable\"><input class=\"sk-toggleable__control sk-hidden--visually\" id=\"sk-estimator-id-2\" type=\"checkbox\" checked><label for=\"sk-estimator-id-2\" class=\"sk-toggleable__label fitted sk-toggleable__label-arrow fitted\">&nbsp;&nbsp;MLPRegressor<a class=\"sk-estimator-doc-link fitted\" rel=\"noreferrer\" target=\"_blank\" href=\"https://scikit-learn.org/1.5/modules/generated/sklearn.neural_network.MLPRegressor.html\">?<span>Documentation for MLPRegressor</span></a><span class=\"sk-estimator-doc-link fitted\">i<span>Fitted</span></span></label><div class=\"sk-toggleable__content fitted\"><pre>MLPRegressor(alpha=0.001, batch_size=512, early_stopping=True, max_iter=300,\n",
       "             random_state=1993, verbose=True)</pre></div> </div></div></div></div>"
      ],
      "text/plain": [
       "MLPRegressor(alpha=0.001, batch_size=512, early_stopping=True, max_iter=300,\n",
       "             random_state=1993, verbose=True)"
      ]
     },
     "execution_count": 68,
     "metadata": {},
     "output_type": "execute_result"
    }
   ],
   "source": [
    "regr = MLPRegressor(\n",
    "    hidden_layer_sizes=(100,),\n",
    "    activation='relu',\n",
    "    solver='adam',\n",
    "    alpha=0.001,\n",
    "    batch_size=512,\n",
    "    learning_rate_init=0.001,\n",
    "    max_iter=300,\n",
    "    early_stopping=True,\n",
    "    random_state=1993,\n",
    "    verbose=True\n",
    ")\n",
    "\n",
    "regr.fit(x_train_scale, y_log) "
   ]
  },
  {
   "cell_type": "code",
   "execution_count": 74,
   "metadata": {},
   "outputs": [
    {
     "data": {
      "application/vnd.microsoft.datawrangler.viewer.v0+json": {
       "columns": [
        {
         "name": "event_datetime",
         "rawType": "object",
         "type": "string"
        },
        {
         "name": "paid_seats",
         "rawType": "int64",
         "type": "integer"
        }
       ],
       "ref": "5f0e338d-045c-48bd-ac2e-90812999b0bc",
       "rows": [
        [
         "2021-10-14 19:00:00",
         "16294"
        ],
        [
         "2021-10-16 18:00:00",
         "13688"
        ],
        [
         "2021-10-21 19:00:00",
         "11249"
        ],
        [
         "2021-10-25 19:00:00",
         "13943"
        ],
        [
         "2021-10-27 19:00:00",
         "12310"
        ],
        [
         "2021-11-04 19:00:00",
         "12552"
        ],
        [
         "2021-11-06 18:00:00",
         "13834"
        ],
        [
         "2021-11-16 19:00:00",
         "14017"
        ],
        [
         "2021-11-18 19:00:00",
         "12158"
        ],
        [
         "2021-11-20 18:00:00",
         "13854"
        ],
        [
         "2021-11-24 19:00:00",
         "15553"
        ],
        [
         "2021-11-27 18:00:00",
         "15304"
        ],
        [
         "2021-11-30 19:00:00",
         "11764"
        ],
        [
         "2021-12-02 19:00:00",
         "11825"
        ],
        [
         "2021-12-04 13:00:00",
         "13446"
        ],
        [
         "2021-12-14 19:00:00",
         "13759"
        ],
        [
         "2021-12-16 19:00:00",
         "14463"
        ],
        [
         "2021-12-29 19:00:00",
         "15861"
        ],
        [
         "2021-12-30 19:00:00",
         "15001"
        ],
        [
         "2022-01-01 13:00:00",
         "13584"
        ],
        [
         "2022-01-04 19:00:00",
         "13164"
        ],
        [
         "2022-01-11 19:00:00",
         "17869"
        ],
        [
         "2022-01-14 19:00:00",
         "15022"
        ],
        [
         "2022-01-15 18:00:00",
         "15088"
        ],
        [
         "2022-01-27 19:00:00",
         "15400"
        ],
        [
         "2022-01-29 18:00:00",
         "18158"
        ],
        [
         "2022-02-22 19:00:00",
         "14234"
        ],
        [
         "2022-02-24 19:00:00",
         "15730"
        ],
        [
         "2022-02-26 12:30:00",
         "15628"
        ],
        [
         "2022-03-03 19:00:00",
         "16499"
        ],
        [
         "2022-03-05 18:00:00",
         "15888"
        ],
        [
         "2022-03-10 19:00:00",
         "17191"
        ],
        [
         "2022-03-29 19:00:00",
         "15587"
        ],
        [
         "2022-03-31 19:00:00",
         "15218"
        ],
        [
         "2022-04-05 19:00:00",
         "15260"
        ],
        [
         "2022-04-08 19:00:00",
         "17728"
        ],
        [
         "2022-04-12 19:00:00",
         "16204"
        ],
        [
         "2022-04-15 19:00:00",
         "17625"
        ],
        [
         "2022-04-21 19:00:00",
         "16238"
        ],
        [
         "2022-04-23 19:00:00",
         "17132"
        ],
        [
         "2022-04-24 19:00:00",
         "17036"
        ],
        [
         "2022-10-19 19:30:00",
         "17391"
        ],
        [
         "2022-10-21 19:30:00",
         "17535"
        ],
        [
         "2022-10-23 17:00:00",
         "16342"
        ],
        [
         "2022-10-29 16:00:00",
         "15578"
        ],
        [
         "2022-11-09 19:00:00",
         "13242"
        ],
        [
         "2022-11-12 16:00:00",
         "16532"
        ],
        [
         "2022-11-15 19:00:00",
         "13816"
        ],
        [
         "2022-11-17 19:00:00",
         "14428"
        ],
        [
         "2022-11-19 16:00:00",
         "15840"
        ]
       ],
       "shape": {
        "columns": 1,
        "rows": 164
       }
      },
      "text/plain": [
       "event_datetime\n",
       "2021-10-14 19:00:00    16294\n",
       "2021-10-16 18:00:00    13688\n",
       "2021-10-21 19:00:00    11249\n",
       "2021-10-25 19:00:00    13943\n",
       "2021-10-27 19:00:00    12310\n",
       "                       ...  \n",
       "2025-03-30 13:00:00    19435\n",
       "2025-04-08 19:00:00    19263\n",
       "2025-04-10 19:00:00    19455\n",
       "2025-04-12 18:00:00    19321\n",
       "2025-04-14 19:00:00    19460\n",
       "Name: paid_seats, Length: 164, dtype: int64"
      ]
     },
     "execution_count": 74,
     "metadata": {},
     "output_type": "execute_result"
    }
   ],
   "source": [
    "predicted = regr.predict(x_train_scale)\n",
    "\n",
    "df_encoded_2425['predicted'] = np.exp(predicted)\n",
    "df_encoded_2425.groupby('event_datetime').sum()['paid_seats']"
   ]
  },
  {
   "cell_type": "markdown",
   "metadata": {
    "cell_id": "045d8ee4c32b4e2f8b709c0bb30bff3c",
    "deepnote_cell_type": "text-cell-h2",
    "formattedRanges": [
     {
      "fromCodePoint": 0,
      "marks": {
       "bold": true
      },
      "toCodePoint": 4,
      "type": "marks"
     }
    ]
   },
   "source": [
    "## 4.1 Model evaluation"
   ]
  },
  {
   "cell_type": "markdown",
   "metadata": {
    "cell_id": "4e9702ec31f946599056deffc54c5090",
    "deepnote_cell_type": "text-cell-h3",
    "formattedRanges": [
     {
      "fromCodePoint": 0,
      "marks": {
       "bold": true
      },
      "toCodePoint": 4,
      "type": "marks"
     }
    ]
   },
   "source": [
    "### 4.1 Classification Reports"
   ]
  },
  {
   "cell_type": "markdown",
   "metadata": {
    "cell_id": "cf1b5cdb501f4dcdb0672b9ead3c96cf",
    "deepnote_cell_type": "text-cell-p",
    "formattedRanges": []
   },
   "source": [
    "(For classification models) Run classification report to see precision, recall, and fl score breakdown by group"
   ]
  },
  {
   "cell_type": "markdown",
   "metadata": {
    "cell_id": "b6d1cddd88174918b0cfb50cb979a5e9",
    "deepnote_cell_type": "text-cell-p",
    "formattedRanges": []
   },
   "source": [
    "Classification report info: https://scikit-learn.org/stable/modules/generated/sklearn.metrics.classification_report.html"
   ]
  },
  {
   "cell_type": "code",
   "execution_count": 16,
   "metadata": {
    "cell_id": "6672f523effb4ac9be0446e1aedb884f",
    "deepnote_cell_type": "code",
    "execution_context_id": "b9bdcf2b-b5e1-41a3-b3de-623342134211",
    "execution_millis": 0,
    "execution_start": 1744211479783,
    "source_hash": "29e505d1"
   },
   "outputs": [],
   "source": [
    "def run_classification_report(x,y):\n",
    "\n",
    "    logi = LogisticRegression(class_weight='balanced').fit(x, np.array(y))\n",
    "\n",
    "    predicted = logi.predict(x)\n",
    "\n",
    "    print(classification_report(predicted, y))"
   ]
  },
  {
   "cell_type": "code",
   "execution_count": 17,
   "metadata": {
    "cell_id": "7b53ba8556be47e28eb1cfeea70db61f",
    "deepnote_cell_type": "code",
    "execution_context_id": "b9bdcf2b-b5e1-41a3-b3de-623342134211",
    "execution_millis": 422,
    "execution_start": 1744211479833,
    "source_hash": "9b44b93b"
   },
   "outputs": [],
   "source": [
    "run_classification_report(x_train, y)"
   ]
  },
  {
   "cell_type": "markdown",
   "metadata": {
    "cell_id": "f2f96ea7ade944d088483ff1cd7e378c",
    "deepnote_cell_type": "text-cell-h3",
    "formattedRanges": []
   },
   "source": [
    "### 4.2 Recursive Feature Elimination (with cross validation)"
   ]
  },
  {
   "cell_type": "markdown",
   "metadata": {
    "cell_id": "85facd3f094b46daae82a45825be6cc6",
    "deepnote_cell_type": "text-cell-p",
    "formattedRanges": []
   },
   "source": [
    "Use Recursive Feature Elimination (with cross validation) to order the variables on most important to the classification to the least important. "
   ]
  },
  {
   "cell_type": "markdown",
   "metadata": {
    "cell_id": "2919a24dbf704c58aa29f439991a72a2",
    "deepnote_cell_type": "text-cell-p",
    "formattedRanges": []
   },
   "source": [
    "Especially useful for large datasets when you want to limit the number of variables in your model."
   ]
  },
  {
   "cell_type": "markdown",
   "metadata": {
    "cell_id": "dea237932a2a4d90b63325d5274dadc6",
    "deepnote_cell_type": "text-cell-p",
    "formattedRanges": []
   },
   "source": [
    "Below is a plot of the mean accuracy based on every possible number of features used in the model. "
   ]
  },
  {
   "cell_type": "markdown",
   "metadata": {
    "cell_id": "839ed82845744023a75d0136565e8bbd",
    "deepnote_cell_type": "text-cell-p",
    "formattedRanges": []
   },
   "source": [
    "It can be used to determine the optimal number of features without outside constraints placed on the model."
   ]
  },
  {
   "cell_type": "markdown",
   "metadata": {
    "cell_id": "9736af462fe54c5683554774fd8a3800",
    "deepnote_cell_type": "text-cell-p",
    "formattedRanges": []
   },
   "source": [
    "RFECV info: https://scikit-learn.org/stable/modules/generated/sklearn.feature_selection.RFECV.html"
   ]
  },
  {
   "cell_type": "code",
   "execution_count": 18,
   "metadata": {
    "cell_id": "970e88b4908643a0a7ffd4fe560b5a43",
    "deepnote_cell_type": "code",
    "execution_context_id": "b9bdcf2b-b5e1-41a3-b3de-623342134211",
    "execution_millis": 0,
    "execution_start": 1744211480303,
    "source_hash": "e5ebc056"
   },
   "outputs": [],
   "source": [
    "def run_rfe(estimator, step, scoring, x, y, show_plot):\n",
    "    \n",
    "    selector = RFECV(estimator = estimator, step = step, scoring = scoring)\n",
    "    selector.fit(x, np.array(y)).n_features_\n",
    "\n",
    "    rfe_features = x.columns[selector.support_]\n",
    "\n",
    "    if show_plot == True:\n",
    "\n",
    "        cv_results = pd.DataFrame(selector.cv_results_)\n",
    "        \n",
    "        # plt.figure()\n",
    "        # plt.xlabel(\"Number of features selected\")\n",
    "        # plt.ylabel(\"Mean test accuracy\")\n",
    "\n",
    "        # plt.errorbar(\n",
    "        # x=cv_results[\"n_features\"],\n",
    "        # y=cv_results[\"mean_test_score\"],\n",
    "        # yerr=cv_results[\"std_test_score\"],\n",
    "        #     )\n",
    "        \n",
    "        # plt.title(\"Recursive Feature Elimination \\nwith correlated features\")\n",
    "        # plt.show()\n",
    "\n",
    "    return cv_results\n",
    "\n",
    "#https://scikit-learn.org/stable/auto_examples/feature_selection/plot_rfe_with_cross_validation.html"
   ]
  },
  {
   "cell_type": "code",
   "execution_count": 19,
   "metadata": {
    "cell_id": "8bdbfe34d1fc4941bd8ac2585631d044",
    "deepnote_cell_type": "code",
    "execution_context_id": "b9bdcf2b-b5e1-41a3-b3de-623342134211",
    "execution_millis": 37654,
    "execution_start": 1744211480363,
    "source_hash": "84991b73"
   },
   "outputs": [],
   "source": [
    "cv = run_rfe(LogisticRegression(class_weight='balanced'), 1, 'accuracy', x_train, y, True)"
   ]
  },
  {
   "cell_type": "markdown",
   "metadata": {
    "cell_id": "3c1ad62dcedd4da59d806c01339c567c",
    "deepnote_cell_type": "text-cell-h3",
    "formattedRanges": [
     {
      "fromCodePoint": 0,
      "marks": {
       "bold": true
      },
      "toCodePoint": 3,
      "type": "marks"
     }
    ]
   },
   "source": [
    "### 4.3 Coefficient & Odds Ratio"
   ]
  },
  {
   "cell_type": "markdown",
   "metadata": {
    "cell_id": "739d252a451f4159a4e2bac2bb692877",
    "deepnote_cell_type": "text-cell-p",
    "formattedRanges": []
   },
   "source": [
    "Similar to RFE, Coefficient & Odds Ratio order the variables by importance. "
   ]
  },
  {
   "cell_type": "markdown",
   "metadata": {
    "cell_id": "3c209d42f3ac4a2396c8fbb9faf3f7d4",
    "deepnote_cell_type": "text-cell-p",
    "formattedRanges": []
   },
   "source": [
    "Can compare to RFE to see the variables both say are most important."
   ]
  },
  {
   "cell_type": "code",
   "execution_count": 79,
   "metadata": {
    "cell_id": "30fd85c80b0e4c51a01fdae248806053",
    "deepnote_cell_type": "code",
    "execution_context_id": "6252f68a-cf26-45d7-8b9c-1ef579e9752b",
    "execution_millis": 0,
    "execution_start": 1744139106055,
    "source_hash": "ca11b7ac"
   },
   "outputs": [],
   "source": [
    "def get_coeff_odds_ratio(x, y):\n",
    "\n",
    "    logi = LogisticRegression(class_weight='balanced').fit(x, np.array(y))\n",
    "\n",
    "    # Coefficients and Odds Ratios\n",
    "    coefficients = logi.coef_[0]\n",
    "    odds_ratios = np.exp(coefficients)\n",
    "\n",
    "\n",
    "    # Display feature importance using coefficients and odds ratios\n",
    "    feature_importance = pd.DataFrame({\n",
    "        'Feature': x_train.columns,\n",
    "        'Coefficient': coefficients,\n",
    "        'Odds Ratio': odds_ratios\n",
    "    })\n",
    "    print(\"\\nFeature Importance (Coefficient and Odds Ratio):\")\n",
    "    print(feature_importance.sort_values(by='Coefficient', ascending=False))"
   ]
  },
  {
   "cell_type": "code",
   "execution_count": 81,
   "metadata": {
    "cell_id": "a0025251cab3472fb2c8101be17998ff",
    "deepnote_cell_type": "code",
    "execution_context_id": "6252f68a-cf26-45d7-8b9c-1ef579e9752b",
    "execution_millis": 91,
    "execution_start": 1744139108583,
    "source_hash": "16c00fe2"
   },
   "outputs": [],
   "source": [
    "get_coeff_odds_ratio(x_train, y)"
   ]
  },
  {
   "cell_type": "markdown",
   "metadata": {
    "cell_id": "e65b7c1b21af41d39594232357824e91",
    "deepnote_cell_type": "text-cell-h3",
    "formattedRanges": [
     {
      "fromCodePoint": 0,
      "marks": {
       "bold": true
      },
      "toCodePoint": 4,
      "type": "marks"
     }
    ]
   },
   "source": [
    "### 4.4 Grid Search"
   ]
  },
  {
   "cell_type": "markdown",
   "metadata": {
    "cell_id": "c7bcba4b05de4506bb849778b088cfb6",
    "deepnote_cell_type": "text-cell-p",
    "formattedRanges": []
   },
   "source": [
    "Grid Search for Hyperparameters to optimize accuracy and precision."
   ]
  },
  {
   "cell_type": "markdown",
   "metadata": {
    "cell_id": "f8d373dad0154b0db77004717bc7711f",
    "deepnote_cell_type": "text-cell-p",
    "formattedRanges": []
   },
   "source": [
    "Grid search info: https://scikit-learn.org/stable/modules/generated/sklearn.model_selection.GridSearchCV.html"
   ]
  },
  {
   "cell_type": "code",
   "execution_count": 83,
   "metadata": {
    "cell_id": "9a0e3fef811f42989bd179f5684e3b26",
    "deepnote_cell_type": "code",
    "execution_context_id": "6252f68a-cf26-45d7-8b9c-1ef579e9752b",
    "execution_millis": 0,
    "execution_start": 1744139137925,
    "source_hash": "6f6552da"
   },
   "outputs": [],
   "source": [
    "def grid_search(C, penalty, class_weight, solver, x, y):\n",
    "\n",
    "    param_grid = {'C': C,  \n",
    "              'penalty': penalty, \n",
    "              'class_weight' : class_weight,\n",
    "              'solver' : solver} \n",
    "\n",
    "    grid = GridSearchCV(LogisticRegression(class_weight='balanced'), param_grid, refit = True, verbose = 3,n_jobs=-1) \n",
    "   \n",
    "    # fitting the model for grid search \n",
    "    grid.fit(x, y) \n",
    " \n",
    "    # print best parameter after tuning \n",
    "    print(grid.best_params_) \n",
    "    grid_predictions = grid.predict(x) \n",
    "   \n",
    "    # print classification report \n",
    "    print(classification_report(y, grid_predictions)) "
   ]
  },
  {
   "cell_type": "code",
   "execution_count": 85,
   "metadata": {
    "cell_id": "6add608561c34711bd19bd6c1d52092f",
    "deepnote_cell_type": "code",
    "execution_context_id": "6252f68a-cf26-45d7-8b9c-1ef579e9752b",
    "execution_millis": 10967,
    "execution_start": 1744139141091,
    "source_hash": "8a035e58"
   },
   "outputs": [],
   "source": [
    "grid_search([0.1, 1, 10, 100], ['l1', 'l2', 'elasticnet'], ['balanced'], ['lbfgs', 'liblinear', 'newton-cg', 'newton-cholesky', 'sag', 'saga'], x_train, y)"
   ]
  },
  {
   "cell_type": "code",
   "execution_count": 87,
   "metadata": {
    "cell_id": "4ce3ecf307ef44298bda5c293b2580fb",
    "deepnote_cell_type": "code",
    "execution_context_id": "6252f68a-cf26-45d7-8b9c-1ef579e9752b",
    "execution_millis": 0,
    "execution_start": 1744139202345,
    "source_hash": "c39240a4"
   },
   "outputs": [],
   "source": [
    "def auc_roc(x, y, display_labels):\n",
    "\n",
    "    logi = LogisticRegression(class_weight='balanced').fit(x, np.array(y))\n",
    "    predicted = logi.predict(x)\n",
    "\n",
    "    roc_auc_score(predicted, y)\n",
    "\n",
    "    disp = ConfusionMatrixDisplay(confusion_matrix(predicted, y), display_labels= display_labels)\n",
    "    disp.plot()\n",
    "\n",
    "    plt.show()"
   ]
  },
  {
   "cell_type": "code",
   "execution_count": 89,
   "metadata": {
    "cell_id": "cf37e6671828478e8ac66a1fed688dd4",
    "deepnote_cell_type": "code",
    "execution_context_id": "6252f68a-cf26-45d7-8b9c-1ef579e9752b",
    "execution_millis": 299,
    "execution_start": 1744139210081,
    "source_hash": "e10b7631"
   },
   "outputs": [],
   "source": [
    "auc_roc(x_train, y, ['a', 'b'])"
   ]
  },
  {
   "cell_type": "markdown",
   "metadata": {
    "cell_id": "f7a83032b77a429e977d4a3d01d58610",
    "deepnote_cell_type": "text-cell-h2",
    "formattedRanges": [
     {
      "fromCodePoint": 0,
      "marks": {
       "bold": true
      },
      "toCodePoint": 3,
      "type": "marks"
     }
    ]
   },
   "source": [
    "## 5. Model Tuning"
   ]
  },
  {
   "cell_type": "markdown",
   "metadata": {
    "cell_id": "8f05f0e01ab34265b5bc1b3244d69ca6",
    "deepnote_cell_type": "text-cell-h3",
    "formattedRanges": []
   },
   "source": [
    "### 5.1 Feature Elimination"
   ]
  },
  {
   "cell_type": "markdown",
   "metadata": {
    "cell_id": "86e7bded9f76464886ef57cc7d89a696",
    "deepnote_cell_type": "text-cell-p",
    "formattedRanges": []
   },
   "source": [
    "Use only variables from RFE and Coefficient and Odds ratio say are most important "
   ]
  },
  {
   "cell_type": "code",
   "execution_count": 1,
   "metadata": {
    "cell_id": "f4b3324991a14c93a2e7e7076eb57b14",
    "deepnote_cell_type": "code",
    "execution_context_id": "5f0b8185-d80b-4bbe-a405-5d0255fa73eb",
    "execution_millis": 1344,
    "execution_start": 1744210939879,
    "source_hash": "10a34c06"
   },
   "outputs": [],
   "source": [
    "x_train_new = df[['put_columns_here']]\n",
    "y_new = df[['put_y_here']] \n",
    "\n",
    "x_test_new = df[['put_columns_here']]"
   ]
  },
  {
   "cell_type": "code",
   "execution_count": null,
   "metadata": {
    "cell_id": "ebc298312c114474809ec7c192277324",
    "deepnote_cell_type": "code",
    "deepnote_to_be_reexecuted": true
   },
   "outputs": [],
   "source": [
    "run_classification_report(x_train_new, y_new)"
   ]
  },
  {
   "cell_type": "markdown",
   "metadata": {
    "cell_id": "c65a5c5181c643789253aed5a6e35fe2",
    "deepnote_cell_type": "text-cell-h3",
    "formattedRanges": [
     {
      "fromCodePoint": 0,
      "marks": {
       "bold": true
      },
      "toCodePoint": 3,
      "type": "marks"
     }
    ]
   },
   "source": [
    "### 5.2 SMOTE (Synthetic Minority Over-Sampling Technique)"
   ]
  },
  {
   "cell_type": "markdown",
   "metadata": {
    "cell_id": "6c40e916a0894c4d8e45068c8655700b",
    "deepnote_cell_type": "text-cell-p",
    "formattedRanges": []
   },
   "source": [
    "In cases where one class of data is much smaller than the other you can use SMOTE to create new fake data in the smaller class to balance them out and run a more accurate model. "
   ]
  },
  {
   "cell_type": "code",
   "execution_count": 3,
   "metadata": {
    "cell_id": "48ae8bd76c2746f487670a7bacd486a3",
    "deepnote_cell_type": "code",
    "execution_context_id": "5f0b8185-d80b-4bbe-a405-5d0255fa73eb",
    "execution_millis": 1,
    "execution_start": 1744210978635,
    "source_hash": "4ceda9aa"
   },
   "outputs": [],
   "source": [
    "def smote(k_neighbors, x, y):\n",
    "\n",
    "    sm = SMOTE(random_state=1993, k_neighbors=k_neighbors)\n",
    "\n",
    "    X_res, y_res = sm.fit_resample(x, y)\n",
    "\n",
    "    logi = LogisticRegression(class_weight='balanced').fit(X_res, np.array(y_res))\n",
    "\n",
    "    predicted = logi.predict(X_res)\n",
    "\n",
    "    print(classification_report(predicted, y_res))"
   ]
  },
  {
   "cell_type": "code",
   "execution_count": 5,
   "metadata": {
    "cell_id": "6080dc5115c8418e858db77dd58866a2",
    "deepnote_cell_type": "code",
    "execution_context_id": "5f0b8185-d80b-4bbe-a405-5d0255fa73eb",
    "execution_millis": 14,
    "execution_start": 1744210984914,
    "source_hash": "aed382e"
   },
   "outputs": [],
   "source": [
    "smote(5, x_train, y)"
   ]
  },
  {
   "cell_type": "markdown",
   "metadata": {
    "cell_id": "bca6835636704f7c84519d45edcfdc36",
    "deepnote_cell_type": "text-cell-h3",
    "formattedRanges": [
     {
      "fromCodePoint": 0,
      "marks": {
       "bold": true
      },
      "toCodePoint": 4,
      "type": "marks"
     }
    ]
   },
   "source": [
    "### 5.3 Re-run Evaluation Techniques"
   ]
  },
  {
   "cell_type": "markdown",
   "metadata": {
    "cell_id": "2842ba05aa824b50a2733130dec887d8",
    "deepnote_cell_type": "text-cell-p",
    "formattedRanges": []
   },
   "source": [
    "Rerun RFE, grid search, and AUC/ROC to see if best variables and hyperparameters have changed and rerun the model"
   ]
  },
  {
   "cell_type": "code",
   "execution_count": null,
   "metadata": {
    "cell_id": "69afe3c2bcd448ed8e4c610a73db3164",
    "deepnote_cell_type": "code"
   },
   "outputs": [],
   "source": [
    "run_rfe(LogisticRegression(), 1, 'accuracy', x_train, y, False)"
   ]
  },
  {
   "cell_type": "code",
   "execution_count": null,
   "metadata": {
    "cell_id": "0fb374aa3fdf460db38910437f302c81",
    "deepnote_cell_type": "code"
   },
   "outputs": [],
   "source": [
    "grid_search([0.1, 1, 10, 100], ['l1', 'l2', 'elasticnet'], ['balanced'], ['lbfgs', 'liblinear', 'newton-cg', 'newton-cholesky', 'sag', 'saga'], x_train, y)"
   ]
  },
  {
   "cell_type": "code",
   "execution_count": null,
   "metadata": {
    "cell_id": "292bce2593ee46ffaf2161f13fc5a721",
    "deepnote_cell_type": "code"
   },
   "outputs": [],
   "source": [
    "auc_roc(x_train, y, ['Non-renewed', 'Renewed'])            "
   ]
  },
  {
   "cell_type": "markdown",
   "metadata": {
    "cell_id": "10e2b19089304e6fb4c54f183bb4630a",
    "deepnote_cell_type": "text-cell-h2",
    "formattedRanges": [
     {
      "fromCodePoint": 0,
      "marks": {
       "bold": true
      },
      "toCodePoint": 15,
      "type": "marks"
     }
    ]
   },
   "source": [
    "## 6. Final Output"
   ]
  },
  {
   "cell_type": "markdown",
   "metadata": {
    "cell_id": "41e935209ca74a90834b9c14306b5100",
    "deepnote_cell_type": "text-cell-p",
    "formattedRanges": []
   },
   "source": [
    "Make sure the final result is in a useable format for your specific scenario."
   ]
  },
  {
   "cell_type": "code",
   "execution_count": null,
   "metadata": {
    "cell_id": "27d89fc3aa7e45afa0835ab52fc0834a",
    "deepnote_cell_type": "code"
   },
   "outputs": [],
   "source": [
    "df_final = [['put_x_columns_here', 'put_y_here']]"
   ]
  }
 ],
 "metadata": {
  "deepnote_app_clear_outputs": false,
  "deepnote_app_execution_enabled": false,
  "deepnote_app_layout": "powerful-article",
  "deepnote_app_reactivity_enabled": false,
  "deepnote_app_run_on_input_enabled": false,
  "deepnote_app_run_on_load_enabled": false,
  "deepnote_notebook_id": "b330c772ef764b748d5811e5fad2838f",
  "kernelspec": {
   "display_name": "venv",
   "language": "python",
   "name": "python3"
  },
  "language_info": {
   "codemirror_mode": {
    "name": "ipython",
    "version": 3
   },
   "file_extension": ".py",
   "mimetype": "text/x-python",
   "name": "python",
   "nbconvert_exporter": "python",
   "pygments_lexer": "ipython3",
   "version": "3.11.9"
  }
 },
 "nbformat": "4",
 "nbformat_minor": "0"
}
