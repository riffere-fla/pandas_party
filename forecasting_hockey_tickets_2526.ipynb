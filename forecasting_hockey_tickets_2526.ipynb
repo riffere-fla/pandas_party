{
 "cells": [
  {
   "cell_type": "markdown",
   "metadata": {
    "cell_id": "0b8a60b586964ac19381b1a414caa4cb",
    "deepnote_cell_type": "text-cell-h1",
    "formattedRanges": [
     {
      "fromCodePoint": 0,
      "marks": {
       "bold": true,
       "color": "fg.neutral.primary",
       "underline": true
      },
      "toCodePoint": 23,
      "type": "marks"
     }
    ]
   },
   "source": [
    "# Ticket Prediction 25/26"
   ]
  },
  {
   "cell_type": "markdown",
   "metadata": {
    "cell_id": "b42ef68782134b0dae67772b1a9ecdfa",
    "deepnote_cell_type": "text-cell-h2",
    "formattedRanges": [
     {
      "fromCodePoint": 0,
      "marks": {
       "bold": true
      },
      "toCodePoint": 3,
      "type": "marks"
     }
    ]
   },
   "source": [
    "## 0. Import libraries (& Redshift credentials if in VSCode)"
   ]
  },
  {
   "cell_type": "code",
   "execution_count": 1,
   "metadata": {
    "cell_id": "09315e2d72a849b69325b07113d2fd57",
    "deepnote_cell_type": "code",
    "execution_context_id": "b11ce288-2722-457a-a513-a1be65d244f4",
    "execution_millis": 1889,
    "execution_start": 1755093071175,
    "source_hash": "dd36fc1f"
   },
   "outputs": [],
   "source": [
    "import pandas as pd\n",
    "import numpy as np\n",
    "from sqlalchemy import null\n",
    "from datetime import datetime\n",
    "\n",
    "from typing import Dict\n",
    "from concurrent.futures import ThreadPoolExecutor\n",
    "\n",
    "import missingno as msno\n",
    "import matplotlib.pyplot as plt\n",
    "from sklearn.linear_model import LogisticRegression\n",
    "from sklearn.model_selection import GridSearchCV\n",
    "from sklearn.preprocessing import StandardScaler\n",
    "from sklearn.metrics import classification_report\n",
    "from sklearn.feature_selection import RFECV\n",
    "import random\n",
    "\n",
    "from sklearn.metrics import roc_auc_score\n",
    "from sklearn.metrics import confusion_matrix\n",
    "from sklearn.metrics import ConfusionMatrixDisplay\n",
    "from sklearn.inspection import permutation_importance\n",
    "from imblearn.over_sampling import SMOTE \n",
    "from sklearn.preprocessing import OneHotEncoder\n",
    "from sklearn.neural_network import MLPRegressor\n",
    "\n",
    "from prefect.blocks.system import Secret\n",
    "from catnip.fla_redshift import FLA_Redshift"
   ]
  },
  {
   "cell_type": "code",
   "execution_count": 2,
   "metadata": {},
   "outputs": [],
   "source": [
    "def get_redshift_credentials() -> Dict:\n",
    "\n",
    "    cred_dict = {\n",
    "        \"dbname\": Secret.load(\"stellar-redshift-db-name\").get(),\n",
    "        \"host\": Secret.load(\"stellar-redshift-host\").get(),\n",
    "        \"port\": 5439,\n",
    "        \"user\": Secret.load(\"stellar-redshift-user-name\").get(),\n",
    "        \"password\": Secret.load(\"stellar-redshift-password\").get(),\n",
    "\n",
    "        \"aws_access_key_id\": Secret.load(\"fla-s3-aws-access-key-id-east-1\").get(),\n",
    "        \"aws_secret_access_key\": Secret.load(\"fla-s3-aws-secret-access-key-east-1\").get(),\n",
    "        \"bucket\": Secret.load(\"fla-s3-bucket-name-east-1\").get(),\n",
    "        \"subdirectory\": \"us-east-1\",\n",
    "\n",
    "        \"verbose\": False,\n",
    "    }\n",
    "\n",
    "    return cred_dict\n",
    "\n",
    "with ThreadPoolExecutor(1) as pool:\n",
    "    rs_creds = pool.submit(lambda: get_redshift_credentials()).result()"
   ]
  },
  {
   "cell_type": "markdown",
   "metadata": {
    "cell_id": "d6ec45e6af644780b93aca761f5f1d49",
    "deepnote_cell_type": "text-cell-h2",
    "formattedRanges": [
     {
      "fromCodePoint": 0,
      "marks": {
       "bold": true
      },
      "toCodePoint": 2,
      "type": "marks"
     }
    ]
   },
   "source": [
    "## 1. Missing Data Evaluation"
   ]
  },
  {
   "cell_type": "markdown",
   "metadata": {
    "cell_id": "e701a4bc5c5a44619548e4088dc67f88",
    "deepnote_cell_type": "text-cell-h3",
    "formattedRanges": [
     {
      "fromCodePoint": 0,
      "marks": {
       "bold": true
      },
      "toCodePoint": 3,
      "type": "marks"
     }
    ]
   },
   "source": [
    "### 1.1 Import data"
   ]
  },
  {
   "cell_type": "markdown",
   "metadata": {
    "cell_id": "431653f9c7d54b31ae08f76f4551e5c1",
    "deepnote_cell_type": "text-cell-p",
    "formattedRanges": []
   },
   "source": [
    "For large data sets grab from the warehouse once and then download as a CSV to pull from after. "
   ]
  },
  {
   "cell_type": "code",
   "execution_count": 3,
   "metadata": {
    "cell_id": "07f0c54324a143c2b02d768e354928cf",
    "deepnote_cell_type": "code",
    "execution_context_id": "b11ce288-2722-457a-a513-a1be65d244f4",
    "execution_millis": 10082,
    "execution_start": 1755093073115,
    "source_hash": "edd94e68"
   },
   "outputs": [],
   "source": [
    "df = pd.read_csv(\"C:\\\\Users\\\\riffere\\\\Florida Panthers\\\\SP-BS - Documents\\\\Data Science\\\\Resources\\\\Files\\\\emily_query_data_2025-07-17.csv\")\n",
    "\n",
    "#df_2526 = pd.read_csv(\"C:\\\\Users\\\\riffere\\\\Desktop\\\\ticket_data_2526.csv\")\n",
    "\n",
    "df_2425_regular_season = df[df['game_type'] == 1]\n",
    "\n",
    "df_2425_regular_season = df_2425_regular_season[df_2425_regular_season['ticket_type'].isin(['Singles','Flex','Nightly Suites','Groups','Secondary'])]"
   ]
  },
  {
   "cell_type": "code",
   "execution_count": 4,
   "metadata": {},
   "outputs": [],
   "source": [
    "q = \"\"\"\n",
    "WITH initial AS (\n",
    "    SELECT\n",
    "        game.season,\n",
    "        game.event_datetime,\n",
    "        game_type,\n",
    "        tier,\n",
    "        abbreviation,\n",
    "        div,\n",
    "        is_conf,\n",
    "        start_time,\n",
    "        day_of_week,\n",
    "        is_premier,\n",
    "        trimester,\n",
    "        original_six_plus_extra,\n",
    "        ticket_type,\n",
    "    ---price_level,\n",
    "    ---arena_level_internal,\n",
    "    ---is_comp,\n",
    "    ---is_renewal,\n",
    "        CASE\n",
    "            WHEN ticket_type IN ('Singles','Quarter/Flex','Nightly Suites','Groups','Secondary') THEN gross_revenue\n",
    "        END AS singles_gross_revenue,\n",
    "        CASE\n",
    "            WHEN ticket_type IN ('Singles','Quarter/Flex','Nightly Suites','Groups','Secondary') THEN paid_seats\n",
    "        END AS singles_paid_seats,\n",
    "        gross_revenue,\n",
    "        paid_seats\n",
    "    FROM\n",
    "        custom.cth_v_ticket_2526 ticket\n",
    "    LEFT JOIN\n",
    "        custom.cth_game_descriptions game ON ticket.event_datetime::date = game.event_date)\n",
    "SELECT\n",
    "    season,\n",
    "    event_datetime,\n",
    "    game_type,\n",
    "    tier,\n",
    "    abbreviation,\n",
    "    div,\n",
    "    is_conf,\n",
    "    start_time,\n",
    "    day_of_week,\n",
    "    is_premier,\n",
    "    trimester,\n",
    "    original_six_plus_extra,\n",
    "    SUM(singles_gross_revenue) AS singles_gross_revenue,\n",
    "    SUM(singles_paid_seats) AS singles_paid_seats,\n",
    "    SUM(gross_revenue) AS gross_revenue,\n",
    "    SUM(paid_seats) AS paid_seats,\n",
    "    datediff('days',current_date,event_datetime::date) AS days_out\n",
    "FROM\n",
    "    initial\n",
    "GROUP BY\n",
    "    event_datetime,\n",
    "    season,\n",
    "    game_type,\n",
    "    tier,\n",
    "    abbreviation,\n",
    "    div,\n",
    "    is_conf,\n",
    "    start_time,\n",
    "    day_of_week,\n",
    "    is_premier,\n",
    "    trimester,\n",
    "    original_six_plus_extra\n",
    "\"\"\"\n",
    "\n",
    "df_2526 = FLA_Redshift(**rs_creds).query_warehouse(sql_string=q)"
   ]
  },
  {
   "cell_type": "code",
   "execution_count": 5,
   "metadata": {
    "cell_id": "4858008a722e4aa1a7baac701ff335cb",
    "deepnote_cell_type": "code",
    "execution_context_id": "b11ce288-2722-457a-a513-a1be65d244f4",
    "execution_millis": 1432,
    "execution_start": 1755093083265,
    "source_hash": "5fc57ee"
   },
   "outputs": [],
   "source": [
    "df_2425 = (\n",
    "    df_2425_regular_season\n",
    "    .groupby([\n",
    "        'season', 'event_datetime', 'tier', 'abbreviation', 'div', 'is_conf',\n",
    "        'start_time', 'day_of_week', 'is_premier', 'trimester', 'original_six_plus_extra',\n",
    "        'days_out_from_event'\n",
    "        #, 'ticket_type', 'price_level', 'arena_level_internal'\n",
    "    ])\n",
    "    .agg(\n",
    "        gross_revenue_sum=('gross_revenue', 'sum'),\n",
    "        row_count=('gross_revenue', 'size')\n",
    "    )\n",
    "    .reset_index().rename(columns = {'row_count':'paid_seats'})\n",
    ")\n",
    "\n",
    "df_2425['running_paid_seats'] = df_2425.groupby('event_datetime')['paid_seats'].cumsum()"
   ]
  },
  {
   "cell_type": "code",
   "execution_count": 8,
   "metadata": {
    "cell_id": "25bed2ebae484774b7311b0327a748ce",
    "deepnote_cell_type": "code",
    "execution_context_id": "b11ce288-2722-457a-a513-a1be65d244f4",
    "execution_millis": 103,
    "execution_start": 1755093084745,
    "source_hash": "c1c262bf"
   },
   "outputs": [],
   "source": [
    "time_group_map = {\n",
    "    '12:30 PM': 'early',\n",
    "    '1:00 PM': 'early',\n",
    "    '2:00 PM': 'early',\n",
    "    '3:00 PM': 'early',\n",
    "    '3:30 PM': 'early',\n",
    "    '4:00 PM': 'afternoon',\n",
    "    '5:00 PM': 'afternoon',\n",
    "    '6:00 PM': 'afternoon',\n",
    "    '6:30 PM': 'afternoon',\n",
    "    '7:00 PM': 'evening',\n",
    "    '7:30 PM': 'evening',\n",
    "    '7:45 PM': 'evening',\n",
    "    '8:00 PM': 'evening'\n",
    "}\n",
    "\n",
    "df_2425['time_group'] = df_2425['start_time'].map(time_group_map)\n",
    "df_2526['time_group'] = df_2526['start_time'].map(time_group_map)\n",
    "\n",
    "day_map = {\n",
    "    'Sat': 'is_saturday',\n",
    "    'Fri': 'is_friday_or_sunday',\n",
    "    'Sun': 'is_friday_or_sunday',\n",
    "    'Mon': 'is_weekday',\n",
    "    'Tue': 'is_weekday',\n",
    "    'Wed': 'is_weekday',\n",
    "    'Thu': 'is_weekday',\n",
    "}\n",
    "\n",
    "df_2425['day_of_week_group'] = df_2425['day_of_week'].map(day_map)\n",
    "df_2526['day_of_week_group'] = df_2526['day_of_week'].map(day_map)\n",
    "\n",
    "df_2425['is_premier'] = df_2425['is_premier'].astype(int)\n",
    "df_2526['is_premier'] = df_2526['is_premier'].astype(int)\n",
    "\n",
    "df_encoded_2425 = pd.get_dummies(df_2425, columns=['tier','day_of_week_group', 'time_group'], prefix = '', prefix_sep = '')\n",
    "df_encoded_2526 = pd.get_dummies(df_2526, columns=['tier','day_of_week_group', 'time_group'], prefix = '', prefix_sep = '')\n",
    "\n",
    "# capacity, price, velocity"
   ]
  },
  {
   "cell_type": "markdown",
   "metadata": {
    "cell_id": "736bc8dd6a274d229027dcefa4bffdbc",
    "deepnote_cell_type": "text-cell-h2",
    "formattedRanges": [
     {
      "fromCodePoint": 0,
      "marks": {
       "bold": true
      },
      "toCodePoint": 3,
      "type": "marks"
     }
    ]
   },
   "source": [
    "## 3. Train & Run Model"
   ]
  },
  {
   "cell_type": "markdown",
   "metadata": {
    "cell_id": "482801003f804f7284fdc139ca1a3d90",
    "deepnote_cell_type": "text-cell-h3",
    "formattedRanges": [
     {
      "fromCodePoint": 0,
      "marks": {
       "bold": true
      },
      "toCodePoint": 4,
      "type": "marks"
     }
    ]
   },
   "source": [
    "### 3.1 Spit data into train & test tables"
   ]
  },
  {
   "cell_type": "markdown",
   "metadata": {
    "cell_id": "471d60f9122f4af3b72f2e287ffbf570",
    "deepnote_cell_type": "text-cell-p",
    "formattedRanges": []
   },
   "source": [
    "Sometimes the split will be on season, other times train_test_split from sklearn can be used."
   ]
  },
  {
   "cell_type": "markdown",
   "metadata": {
    "cell_id": "c64c1b939959448e9b95bec26ffa459c",
    "deepnote_cell_type": "text-cell-p",
    "formattedRanges": []
   },
   "source": [
    "train_test_split info: https://scikit-learn.org/stable/modules/generated/sklearn.model_selection.train_test_split.html"
   ]
  },
  {
   "cell_type": "code",
   "execution_count": 9,
   "metadata": {
    "cell_id": "2c8b6a01f0d642039af41500561d22c6",
    "deepnote_cell_type": "code",
    "execution_context_id": "b11ce288-2722-457a-a513-a1be65d244f4",
    "execution_millis": 0,
    "execution_start": 1755094098545,
    "source_hash": "2dfbde9b"
   },
   "outputs": [],
   "source": [
    "x_train = df_encoded_2425[['is_premier', 'trimester', 'original_six_plus_extra',\n",
    "        'days_out_from_event', 'early','afternoon','evening','is_weekday',\n",
    "        'is_friday_or_sunday','is_saturday', 'A','B','C','D','E']].astype(int)\n",
    "\n",
    "x_test = df_encoded_2526[['is_premier', 'trimester', 'original_six_plus_extra',\n",
    "        'days_out', 'early','afternoon','evening','is_weekday',\n",
    "        'is_friday_or_sunday','is_saturday', 'A','B','C','D','E']].astype(int)\n",
    "\n",
    "y = df_encoded_2425['running_paid_seats']"
   ]
  },
  {
   "cell_type": "code",
   "execution_count": 10,
   "metadata": {},
   "outputs": [],
   "source": [
    "scaler = StandardScaler()\n",
    "\n",
    "x_train_scale = scaler.fit_transform(x_train)\n",
    "x_test_scale = scaler.fit_transform(x_test)\n",
    "\n",
    "y_log = np.nan_to_num(np.log(np.array(y).ravel()), nan=0.0, posinf=0.0, neginf=0.0)"
   ]
  },
  {
   "cell_type": "markdown",
   "metadata": {
    "cell_id": "884e6b20aeea4e378e0ae40332c1c3e3",
    "deepnote_cell_type": "text-cell-h3",
    "formattedRanges": [
     {
      "fromCodePoint": 0,
      "marks": {
       "bold": true
      },
      "toCodePoint": 4,
      "type": "marks"
     }
    ]
   },
   "source": [
    "### 3.2 Write model"
   ]
  },
  {
   "cell_type": "markdown",
   "metadata": {
    "cell_id": "8eed95374d57448ab715649e1b354a1a",
    "deepnote_cell_type": "text-cell-p",
    "formattedRanges": []
   },
   "source": [
    "Model selection is very important, first you must figure out what your output variable you want which tells you what kind of model you want (classification, clustering, regression). Then you can look at specific model types in that model group. "
   ]
  },
  {
   "cell_type": "markdown",
   "metadata": {
    "cell_id": "0a3f47f1358e4add8009d202673e9a1e",
    "deepnote_cell_type": "text-cell-p",
    "formattedRanges": []
   },
   "source": [
    "Sometimes multiple will need to be tested before settling on the best model for your current data and situation."
   ]
  },
  {
   "cell_type": "markdown",
   "metadata": {
    "cell_id": "1a72ff8885104a379b5e9e5e70c8cc90",
    "deepnote_cell_type": "text-cell-p",
    "formattedRanges": []
   },
   "source": [
    "Model selection info: https://scikit-learn.org/stable/modules/generated/sklearn.model_selection.train_test_split.html"
   ]
  },
  {
   "cell_type": "markdown",
   "metadata": {
    "cell_id": "7c37a156ae894856ade2d7b16c2d82dc",
    "deepnote_cell_type": "text-cell-h3",
    "formattedRanges": [
     {
      "fromCodePoint": 0,
      "marks": {
       "bold": true
      },
      "toCodePoint": 3,
      "type": "marks"
     }
    ]
   },
   "source": [
    "### 3.3 Run model"
   ]
  },
  {
   "cell_type": "code",
   "execution_count": 11,
   "metadata": {
    "cell_id": "30b278ff330244439543b042cc28d4db",
    "deepnote_cell_type": "code",
    "execution_context_id": "b11ce288-2722-457a-a513-a1be65d244f4",
    "execution_millis": 277700,
    "execution_start": 1755095004245,
    "source_hash": "f1847a1c"
   },
   "outputs": [
    {
     "name": "stdout",
     "output_type": "stream",
     "text": [
      "Iteration 1, loss = 31.10032528\n",
      "Validation score: -151.000046\n",
      "Iteration 2, loss = 18.42666776\n",
      "Validation score: -80.335503\n",
      "Iteration 3, loss = 8.86348638\n",
      "Validation score: -31.745495\n",
      "Iteration 4, loss = 3.15698529\n",
      "Validation score: -9.090616\n",
      "Iteration 5, loss = 1.02716222\n",
      "Validation score: -3.006608\n",
      "Iteration 6, loss = 0.52293127\n",
      "Validation score: -1.641155\n",
      "Iteration 7, loss = 0.38278757\n",
      "Validation score: -1.078873\n",
      "Iteration 8, loss = 0.31105377\n",
      "Validation score: -0.731292\n",
      "Iteration 9, loss = 0.26504573\n",
      "Validation score: -0.503997\n",
      "Iteration 10, loss = 0.23425995\n",
      "Validation score: -0.345912\n",
      "Iteration 11, loss = 0.21203994\n",
      "Validation score: -0.228664\n",
      "Iteration 12, loss = 0.19549052\n",
      "Validation score: -0.144108\n",
      "Iteration 13, loss = 0.18293321\n",
      "Validation score: -0.076916\n",
      "Iteration 14, loss = 0.17274846\n",
      "Validation score: -0.020907\n",
      "Iteration 15, loss = 0.16455245\n",
      "Validation score: 0.024052\n",
      "Iteration 16, loss = 0.15762124\n",
      "Validation score: 0.063352\n",
      "Iteration 17, loss = 0.15168890\n",
      "Validation score: 0.097656\n",
      "Iteration 18, loss = 0.14660668\n",
      "Validation score: 0.123799\n",
      "Iteration 19, loss = 0.14219305\n",
      "Validation score: 0.151491\n",
      "Iteration 20, loss = 0.13820294\n",
      "Validation score: 0.176206\n",
      "Iteration 21, loss = 0.13464585\n",
      "Validation score: 0.194593\n",
      "Iteration 22, loss = 0.13152148\n",
      "Validation score: 0.214577\n",
      "Iteration 23, loss = 0.12859423\n",
      "Validation score: 0.231892\n",
      "Iteration 24, loss = 0.12599076\n",
      "Validation score: 0.246440\n",
      "Iteration 25, loss = 0.12366722\n",
      "Validation score: 0.260996\n",
      "Iteration 26, loss = 0.12160334\n",
      "Validation score: 0.273961\n",
      "Iteration 27, loss = 0.11970691\n",
      "Validation score: 0.284702\n",
      "Iteration 28, loss = 0.11773637\n",
      "Validation score: 0.295124\n",
      "Iteration 29, loss = 0.11602320\n",
      "Validation score: 0.306593\n",
      "Iteration 30, loss = 0.11434608\n",
      "Validation score: 0.314226\n",
      "Iteration 31, loss = 0.11291804\n",
      "Validation score: 0.321861\n",
      "Iteration 32, loss = 0.11161396\n",
      "Validation score: 0.329936\n",
      "Iteration 33, loss = 0.11032889\n",
      "Validation score: 0.337233\n",
      "Iteration 34, loss = 0.10927529\n",
      "Validation score: 0.346062\n",
      "Iteration 35, loss = 0.10812001\n",
      "Validation score: 0.350317\n",
      "Iteration 36, loss = 0.10718056\n",
      "Validation score: 0.356353\n",
      "Iteration 37, loss = 0.10635249\n",
      "Validation score: 0.360445\n",
      "Iteration 38, loss = 0.10559825\n",
      "Validation score: 0.367178\n",
      "Iteration 39, loss = 0.10481238\n",
      "Validation score: 0.367974\n",
      "Iteration 40, loss = 0.10420160\n",
      "Validation score: 0.373702\n",
      "Iteration 41, loss = 0.10352826\n",
      "Validation score: 0.378136\n",
      "Iteration 42, loss = 0.10303546\n",
      "Validation score: 0.381641\n",
      "Iteration 43, loss = 0.10235926\n",
      "Validation score: 0.386022\n",
      "Iteration 44, loss = 0.10190402\n",
      "Validation score: 0.389420\n",
      "Iteration 45, loss = 0.10155508\n",
      "Validation score: 0.390202\n",
      "Iteration 46, loss = 0.10098839\n",
      "Validation score: 0.392400\n",
      "Iteration 47, loss = 0.10060388\n",
      "Validation score: 0.393555\n",
      "Iteration 48, loss = 0.10021016\n",
      "Validation score: 0.397268\n",
      "Iteration 49, loss = 0.09995684\n",
      "Validation score: 0.400991\n",
      "Iteration 50, loss = 0.09963176\n",
      "Validation score: 0.401094\n",
      "Iteration 51, loss = 0.09934263\n",
      "Validation score: 0.403765\n",
      "Iteration 52, loss = 0.09886149\n",
      "Validation score: 0.404039\n",
      "Iteration 53, loss = 0.09862546\n",
      "Validation score: 0.405119\n",
      "Iteration 54, loss = 0.09832575\n",
      "Validation score: 0.410249\n",
      "Iteration 55, loss = 0.09805576\n",
      "Validation score: 0.412428\n",
      "Iteration 56, loss = 0.09796374\n",
      "Validation score: 0.413552\n",
      "Iteration 57, loss = 0.09771710\n",
      "Validation score: 0.414197\n",
      "Iteration 58, loss = 0.09740333\n",
      "Validation score: 0.414981\n",
      "Iteration 59, loss = 0.09729286\n",
      "Validation score: 0.415779\n",
      "Iteration 60, loss = 0.09709044\n",
      "Validation score: 0.415690\n",
      "Iteration 61, loss = 0.09686297\n",
      "Validation score: 0.415931\n",
      "Iteration 62, loss = 0.09670086\n",
      "Validation score: 0.419538\n",
      "Iteration 63, loss = 0.09650826\n",
      "Validation score: 0.419453\n",
      "Iteration 64, loss = 0.09624536\n",
      "Validation score: 0.421800\n",
      "Iteration 65, loss = 0.09609418\n",
      "Validation score: 0.421450\n",
      "Iteration 66, loss = 0.09602889\n",
      "Validation score: 0.421620\n",
      "Iteration 67, loss = 0.09573588\n",
      "Validation score: 0.421261\n",
      "Iteration 68, loss = 0.09565231\n",
      "Validation score: 0.421665\n",
      "Iteration 69, loss = 0.09537627\n",
      "Validation score: 0.426440\n",
      "Iteration 70, loss = 0.09535122\n",
      "Validation score: 0.427684\n",
      "Iteration 71, loss = 0.09514250\n",
      "Validation score: 0.427394\n",
      "Iteration 72, loss = 0.09496224\n",
      "Validation score: 0.429345\n",
      "Iteration 73, loss = 0.09486061\n",
      "Validation score: 0.428971\n",
      "Iteration 74, loss = 0.09473259\n",
      "Validation score: 0.428228\n",
      "Iteration 75, loss = 0.09465704\n",
      "Validation score: 0.430834\n",
      "Iteration 76, loss = 0.09430470\n",
      "Validation score: 0.434044\n",
      "Iteration 77, loss = 0.09421016\n",
      "Validation score: 0.430830\n",
      "Iteration 78, loss = 0.09420726\n",
      "Validation score: 0.432990\n",
      "Iteration 79, loss = 0.09390818\n",
      "Validation score: 0.434946\n",
      "Iteration 80, loss = 0.09400571\n",
      "Validation score: 0.437776\n",
      "Iteration 81, loss = 0.09367192\n",
      "Validation score: 0.435573\n",
      "Iteration 82, loss = 0.09349424\n",
      "Validation score: 0.434990\n",
      "Iteration 83, loss = 0.09342367\n",
      "Validation score: 0.435515\n",
      "Iteration 84, loss = 0.09335451\n",
      "Validation score: 0.434525\n",
      "Iteration 85, loss = 0.09322002\n",
      "Validation score: 0.437752\n",
      "Iteration 86, loss = 0.09301775\n",
      "Validation score: 0.437332\n",
      "Iteration 87, loss = 0.09280477\n",
      "Validation score: 0.440010\n",
      "Iteration 88, loss = 0.09268546\n",
      "Validation score: 0.444485\n",
      "Iteration 89, loss = 0.09262211\n",
      "Validation score: 0.443055\n",
      "Iteration 90, loss = 0.09252658\n",
      "Validation score: 0.443034\n",
      "Iteration 91, loss = 0.09238043\n",
      "Validation score: 0.442827\n",
      "Iteration 92, loss = 0.09217705\n",
      "Validation score: 0.442170\n",
      "Iteration 93, loss = 0.09197842\n",
      "Validation score: 0.438342\n",
      "Iteration 94, loss = 0.09200554\n",
      "Validation score: 0.442122\n",
      "Iteration 95, loss = 0.09159832\n",
      "Validation score: 0.446127\n",
      "Iteration 96, loss = 0.09168383\n",
      "Validation score: 0.447687\n",
      "Iteration 97, loss = 0.09157483\n",
      "Validation score: 0.445022\n",
      "Iteration 98, loss = 0.09136662\n",
      "Validation score: 0.452058\n",
      "Iteration 99, loss = 0.09108177\n",
      "Validation score: 0.448677\n",
      "Iteration 100, loss = 0.09103198\n",
      "Validation score: 0.454659\n",
      "Iteration 101, loss = 0.09095855\n",
      "Validation score: 0.451889\n",
      "Iteration 102, loss = 0.09080534\n",
      "Validation score: 0.451183\n",
      "Iteration 103, loss = 0.09087809\n",
      "Validation score: 0.447042\n",
      "Iteration 104, loss = 0.09065745\n",
      "Validation score: 0.454563\n",
      "Iteration 105, loss = 0.09076578\n",
      "Validation score: 0.443871\n",
      "Iteration 106, loss = 0.09068869\n",
      "Validation score: 0.456984\n",
      "Iteration 107, loss = 0.09017410\n",
      "Validation score: 0.455144\n",
      "Iteration 108, loss = 0.09045644\n",
      "Validation score: 0.453782\n",
      "Iteration 109, loss = 0.09000348\n",
      "Validation score: 0.457849\n",
      "Iteration 110, loss = 0.08978149\n",
      "Validation score: 0.457554\n",
      "Iteration 111, loss = 0.09009937\n",
      "Validation score: 0.459307\n",
      "Iteration 112, loss = 0.08966462\n",
      "Validation score: 0.456157\n",
      "Iteration 113, loss = 0.08970797\n",
      "Validation score: 0.457859\n",
      "Iteration 114, loss = 0.08961260\n",
      "Validation score: 0.457991\n",
      "Iteration 115, loss = 0.08946918\n",
      "Validation score: 0.459798\n",
      "Iteration 116, loss = 0.08941190\n",
      "Validation score: 0.455509\n",
      "Iteration 117, loss = 0.08943988\n",
      "Validation score: 0.454283\n",
      "Iteration 118, loss = 0.08934585\n",
      "Validation score: 0.462892\n",
      "Iteration 119, loss = 0.08917651\n",
      "Validation score: 0.456720\n",
      "Iteration 120, loss = 0.08922375\n",
      "Validation score: 0.461050\n",
      "Iteration 121, loss = 0.08898532\n",
      "Validation score: 0.463597\n",
      "Iteration 122, loss = 0.08891840\n",
      "Validation score: 0.455983\n",
      "Iteration 123, loss = 0.08906133\n",
      "Validation score: 0.456342\n",
      "Iteration 124, loss = 0.08881783\n",
      "Validation score: 0.462537\n",
      "Iteration 125, loss = 0.08876173\n",
      "Validation score: 0.466408\n",
      "Iteration 126, loss = 0.08874829\n",
      "Validation score: 0.462030\n",
      "Iteration 127, loss = 0.08859039\n",
      "Validation score: 0.464038\n",
      "Iteration 128, loss = 0.08855965\n",
      "Validation score: 0.463680\n",
      "Iteration 129, loss = 0.08856816\n",
      "Validation score: 0.464043\n",
      "Iteration 130, loss = 0.08863826\n",
      "Validation score: 0.465644\n",
      "Iteration 131, loss = 0.08846742\n",
      "Validation score: 0.460127\n",
      "Iteration 132, loss = 0.08861220\n",
      "Validation score: 0.454975\n",
      "Iteration 133, loss = 0.08846192\n",
      "Validation score: 0.466655\n",
      "Iteration 134, loss = 0.08823824\n",
      "Validation score: 0.465940\n",
      "Iteration 135, loss = 0.08832224\n",
      "Validation score: 0.462715\n",
      "Iteration 136, loss = 0.08820966\n",
      "Validation score: 0.468066\n",
      "Iteration 137, loss = 0.08817186\n",
      "Validation score: 0.462765\n",
      "Iteration 138, loss = 0.08800487\n",
      "Validation score: 0.464277\n",
      "Iteration 139, loss = 0.08833401\n",
      "Validation score: 0.459735\n",
      "Iteration 140, loss = 0.08888244\n",
      "Validation score: 0.463306\n",
      "Iteration 141, loss = 0.08809045\n",
      "Validation score: 0.464688\n",
      "Iteration 142, loss = 0.08792814\n",
      "Validation score: 0.466054\n",
      "Iteration 143, loss = 0.08809491\n",
      "Validation score: 0.465179\n",
      "Iteration 144, loss = 0.08798699\n",
      "Validation score: 0.469359\n",
      "Iteration 145, loss = 0.08804320\n",
      "Validation score: 0.458311\n",
      "Iteration 146, loss = 0.08819926\n",
      "Validation score: 0.466182\n",
      "Iteration 147, loss = 0.08773787\n",
      "Validation score: 0.459263\n",
      "Iteration 148, loss = 0.08807605\n",
      "Validation score: 0.466630\n",
      "Iteration 149, loss = 0.08779849\n",
      "Validation score: 0.469770\n",
      "Iteration 150, loss = 0.08828671\n",
      "Validation score: 0.471853\n",
      "Iteration 151, loss = 0.08810358\n",
      "Validation score: 0.465451\n",
      "Iteration 152, loss = 0.08779492\n",
      "Validation score: 0.464044\n",
      "Iteration 153, loss = 0.08755532\n",
      "Validation score: 0.465532\n",
      "Iteration 154, loss = 0.08762718\n",
      "Validation score: 0.458127\n",
      "Iteration 155, loss = 0.08772894\n",
      "Validation score: 0.470184\n",
      "Iteration 156, loss = 0.08766877\n",
      "Validation score: 0.468084\n",
      "Iteration 157, loss = 0.08744929\n",
      "Validation score: 0.471171\n",
      "Iteration 158, loss = 0.08764889\n",
      "Validation score: 0.466238\n",
      "Iteration 159, loss = 0.08743136\n",
      "Validation score: 0.468420\n",
      "Iteration 160, loss = 0.08733862\n",
      "Validation score: 0.464937\n",
      "Iteration 161, loss = 0.08741941\n",
      "Validation score: 0.465527\n",
      "Validation score did not improve more than tol=0.000100 for 10 consecutive epochs. Stopping.\n"
     ]
    },
    {
     "data": {
      "text/html": [
       "<style>#sk-container-id-1 {\n",
       "  /* Definition of color scheme common for light and dark mode */\n",
       "  --sklearn-color-text: black;\n",
       "  --sklearn-color-line: gray;\n",
       "  /* Definition of color scheme for unfitted estimators */\n",
       "  --sklearn-color-unfitted-level-0: #fff5e6;\n",
       "  --sklearn-color-unfitted-level-1: #f6e4d2;\n",
       "  --sklearn-color-unfitted-level-2: #ffe0b3;\n",
       "  --sklearn-color-unfitted-level-3: chocolate;\n",
       "  /* Definition of color scheme for fitted estimators */\n",
       "  --sklearn-color-fitted-level-0: #f0f8ff;\n",
       "  --sklearn-color-fitted-level-1: #d4ebff;\n",
       "  --sklearn-color-fitted-level-2: #b3dbfd;\n",
       "  --sklearn-color-fitted-level-3: cornflowerblue;\n",
       "\n",
       "  /* Specific color for light theme */\n",
       "  --sklearn-color-text-on-default-background: var(--sg-text-color, var(--theme-code-foreground, var(--jp-content-font-color1, black)));\n",
       "  --sklearn-color-background: var(--sg-background-color, var(--theme-background, var(--jp-layout-color0, white)));\n",
       "  --sklearn-color-border-box: var(--sg-text-color, var(--theme-code-foreground, var(--jp-content-font-color1, black)));\n",
       "  --sklearn-color-icon: #696969;\n",
       "\n",
       "  @media (prefers-color-scheme: dark) {\n",
       "    /* Redefinition of color scheme for dark theme */\n",
       "    --sklearn-color-text-on-default-background: var(--sg-text-color, var(--theme-code-foreground, var(--jp-content-font-color1, white)));\n",
       "    --sklearn-color-background: var(--sg-background-color, var(--theme-background, var(--jp-layout-color0, #111)));\n",
       "    --sklearn-color-border-box: var(--sg-text-color, var(--theme-code-foreground, var(--jp-content-font-color1, white)));\n",
       "    --sklearn-color-icon: #878787;\n",
       "  }\n",
       "}\n",
       "\n",
       "#sk-container-id-1 {\n",
       "  color: var(--sklearn-color-text);\n",
       "}\n",
       "\n",
       "#sk-container-id-1 pre {\n",
       "  padding: 0;\n",
       "}\n",
       "\n",
       "#sk-container-id-1 input.sk-hidden--visually {\n",
       "  border: 0;\n",
       "  clip: rect(1px 1px 1px 1px);\n",
       "  clip: rect(1px, 1px, 1px, 1px);\n",
       "  height: 1px;\n",
       "  margin: -1px;\n",
       "  overflow: hidden;\n",
       "  padding: 0;\n",
       "  position: absolute;\n",
       "  width: 1px;\n",
       "}\n",
       "\n",
       "#sk-container-id-1 div.sk-dashed-wrapped {\n",
       "  border: 1px dashed var(--sklearn-color-line);\n",
       "  margin: 0 0.4em 0.5em 0.4em;\n",
       "  box-sizing: border-box;\n",
       "  padding-bottom: 0.4em;\n",
       "  background-color: var(--sklearn-color-background);\n",
       "}\n",
       "\n",
       "#sk-container-id-1 div.sk-container {\n",
       "  /* jupyter's `normalize.less` sets `[hidden] { display: none; }`\n",
       "     but bootstrap.min.css set `[hidden] { display: none !important; }`\n",
       "     so we also need the `!important` here to be able to override the\n",
       "     default hidden behavior on the sphinx rendered scikit-learn.org.\n",
       "     See: https://github.com/scikit-learn/scikit-learn/issues/21755 */\n",
       "  display: inline-block !important;\n",
       "  position: relative;\n",
       "}\n",
       "\n",
       "#sk-container-id-1 div.sk-text-repr-fallback {\n",
       "  display: none;\n",
       "}\n",
       "\n",
       "div.sk-parallel-item,\n",
       "div.sk-serial,\n",
       "div.sk-item {\n",
       "  /* draw centered vertical line to link estimators */\n",
       "  background-image: linear-gradient(var(--sklearn-color-text-on-default-background), var(--sklearn-color-text-on-default-background));\n",
       "  background-size: 2px 100%;\n",
       "  background-repeat: no-repeat;\n",
       "  background-position: center center;\n",
       "}\n",
       "\n",
       "/* Parallel-specific style estimator block */\n",
       "\n",
       "#sk-container-id-1 div.sk-parallel-item::after {\n",
       "  content: \"\";\n",
       "  width: 100%;\n",
       "  border-bottom: 2px solid var(--sklearn-color-text-on-default-background);\n",
       "  flex-grow: 1;\n",
       "}\n",
       "\n",
       "#sk-container-id-1 div.sk-parallel {\n",
       "  display: flex;\n",
       "  align-items: stretch;\n",
       "  justify-content: center;\n",
       "  background-color: var(--sklearn-color-background);\n",
       "  position: relative;\n",
       "}\n",
       "\n",
       "#sk-container-id-1 div.sk-parallel-item {\n",
       "  display: flex;\n",
       "  flex-direction: column;\n",
       "}\n",
       "\n",
       "#sk-container-id-1 div.sk-parallel-item:first-child::after {\n",
       "  align-self: flex-end;\n",
       "  width: 50%;\n",
       "}\n",
       "\n",
       "#sk-container-id-1 div.sk-parallel-item:last-child::after {\n",
       "  align-self: flex-start;\n",
       "  width: 50%;\n",
       "}\n",
       "\n",
       "#sk-container-id-1 div.sk-parallel-item:only-child::after {\n",
       "  width: 0;\n",
       "}\n",
       "\n",
       "/* Serial-specific style estimator block */\n",
       "\n",
       "#sk-container-id-1 div.sk-serial {\n",
       "  display: flex;\n",
       "  flex-direction: column;\n",
       "  align-items: center;\n",
       "  background-color: var(--sklearn-color-background);\n",
       "  padding-right: 1em;\n",
       "  padding-left: 1em;\n",
       "}\n",
       "\n",
       "\n",
       "/* Toggleable style: style used for estimator/Pipeline/ColumnTransformer box that is\n",
       "clickable and can be expanded/collapsed.\n",
       "- Pipeline and ColumnTransformer use this feature and define the default style\n",
       "- Estimators will overwrite some part of the style using the `sk-estimator` class\n",
       "*/\n",
       "\n",
       "/* Pipeline and ColumnTransformer style (default) */\n",
       "\n",
       "#sk-container-id-1 div.sk-toggleable {\n",
       "  /* Default theme specific background. It is overwritten whether we have a\n",
       "  specific estimator or a Pipeline/ColumnTransformer */\n",
       "  background-color: var(--sklearn-color-background);\n",
       "}\n",
       "\n",
       "/* Toggleable label */\n",
       "#sk-container-id-1 label.sk-toggleable__label {\n",
       "  cursor: pointer;\n",
       "  display: block;\n",
       "  width: 100%;\n",
       "  margin-bottom: 0;\n",
       "  padding: 0.5em;\n",
       "  box-sizing: border-box;\n",
       "  text-align: center;\n",
       "}\n",
       "\n",
       "#sk-container-id-1 label.sk-toggleable__label-arrow:before {\n",
       "  /* Arrow on the left of the label */\n",
       "  content: \"▸\";\n",
       "  float: left;\n",
       "  margin-right: 0.25em;\n",
       "  color: var(--sklearn-color-icon);\n",
       "}\n",
       "\n",
       "#sk-container-id-1 label.sk-toggleable__label-arrow:hover:before {\n",
       "  color: var(--sklearn-color-text);\n",
       "}\n",
       "\n",
       "/* Toggleable content - dropdown */\n",
       "\n",
       "#sk-container-id-1 div.sk-toggleable__content {\n",
       "  max-height: 0;\n",
       "  max-width: 0;\n",
       "  overflow: hidden;\n",
       "  text-align: left;\n",
       "  /* unfitted */\n",
       "  background-color: var(--sklearn-color-unfitted-level-0);\n",
       "}\n",
       "\n",
       "#sk-container-id-1 div.sk-toggleable__content.fitted {\n",
       "  /* fitted */\n",
       "  background-color: var(--sklearn-color-fitted-level-0);\n",
       "}\n",
       "\n",
       "#sk-container-id-1 div.sk-toggleable__content pre {\n",
       "  margin: 0.2em;\n",
       "  border-radius: 0.25em;\n",
       "  color: var(--sklearn-color-text);\n",
       "  /* unfitted */\n",
       "  background-color: var(--sklearn-color-unfitted-level-0);\n",
       "}\n",
       "\n",
       "#sk-container-id-1 div.sk-toggleable__content.fitted pre {\n",
       "  /* unfitted */\n",
       "  background-color: var(--sklearn-color-fitted-level-0);\n",
       "}\n",
       "\n",
       "#sk-container-id-1 input.sk-toggleable__control:checked~div.sk-toggleable__content {\n",
       "  /* Expand drop-down */\n",
       "  max-height: 200px;\n",
       "  max-width: 100%;\n",
       "  overflow: auto;\n",
       "}\n",
       "\n",
       "#sk-container-id-1 input.sk-toggleable__control:checked~label.sk-toggleable__label-arrow:before {\n",
       "  content: \"▾\";\n",
       "}\n",
       "\n",
       "/* Pipeline/ColumnTransformer-specific style */\n",
       "\n",
       "#sk-container-id-1 div.sk-label input.sk-toggleable__control:checked~label.sk-toggleable__label {\n",
       "  color: var(--sklearn-color-text);\n",
       "  background-color: var(--sklearn-color-unfitted-level-2);\n",
       "}\n",
       "\n",
       "#sk-container-id-1 div.sk-label.fitted input.sk-toggleable__control:checked~label.sk-toggleable__label {\n",
       "  background-color: var(--sklearn-color-fitted-level-2);\n",
       "}\n",
       "\n",
       "/* Estimator-specific style */\n",
       "\n",
       "/* Colorize estimator box */\n",
       "#sk-container-id-1 div.sk-estimator input.sk-toggleable__control:checked~label.sk-toggleable__label {\n",
       "  /* unfitted */\n",
       "  background-color: var(--sklearn-color-unfitted-level-2);\n",
       "}\n",
       "\n",
       "#sk-container-id-1 div.sk-estimator.fitted input.sk-toggleable__control:checked~label.sk-toggleable__label {\n",
       "  /* fitted */\n",
       "  background-color: var(--sklearn-color-fitted-level-2);\n",
       "}\n",
       "\n",
       "#sk-container-id-1 div.sk-label label.sk-toggleable__label,\n",
       "#sk-container-id-1 div.sk-label label {\n",
       "  /* The background is the default theme color */\n",
       "  color: var(--sklearn-color-text-on-default-background);\n",
       "}\n",
       "\n",
       "/* On hover, darken the color of the background */\n",
       "#sk-container-id-1 div.sk-label:hover label.sk-toggleable__label {\n",
       "  color: var(--sklearn-color-text);\n",
       "  background-color: var(--sklearn-color-unfitted-level-2);\n",
       "}\n",
       "\n",
       "/* Label box, darken color on hover, fitted */\n",
       "#sk-container-id-1 div.sk-label.fitted:hover label.sk-toggleable__label.fitted {\n",
       "  color: var(--sklearn-color-text);\n",
       "  background-color: var(--sklearn-color-fitted-level-2);\n",
       "}\n",
       "\n",
       "/* Estimator label */\n",
       "\n",
       "#sk-container-id-1 div.sk-label label {\n",
       "  font-family: monospace;\n",
       "  font-weight: bold;\n",
       "  display: inline-block;\n",
       "  line-height: 1.2em;\n",
       "}\n",
       "\n",
       "#sk-container-id-1 div.sk-label-container {\n",
       "  text-align: center;\n",
       "}\n",
       "\n",
       "/* Estimator-specific */\n",
       "#sk-container-id-1 div.sk-estimator {\n",
       "  font-family: monospace;\n",
       "  border: 1px dotted var(--sklearn-color-border-box);\n",
       "  border-radius: 0.25em;\n",
       "  box-sizing: border-box;\n",
       "  margin-bottom: 0.5em;\n",
       "  /* unfitted */\n",
       "  background-color: var(--sklearn-color-unfitted-level-0);\n",
       "}\n",
       "\n",
       "#sk-container-id-1 div.sk-estimator.fitted {\n",
       "  /* fitted */\n",
       "  background-color: var(--sklearn-color-fitted-level-0);\n",
       "}\n",
       "\n",
       "/* on hover */\n",
       "#sk-container-id-1 div.sk-estimator:hover {\n",
       "  /* unfitted */\n",
       "  background-color: var(--sklearn-color-unfitted-level-2);\n",
       "}\n",
       "\n",
       "#sk-container-id-1 div.sk-estimator.fitted:hover {\n",
       "  /* fitted */\n",
       "  background-color: var(--sklearn-color-fitted-level-2);\n",
       "}\n",
       "\n",
       "/* Specification for estimator info (e.g. \"i\" and \"?\") */\n",
       "\n",
       "/* Common style for \"i\" and \"?\" */\n",
       "\n",
       ".sk-estimator-doc-link,\n",
       "a:link.sk-estimator-doc-link,\n",
       "a:visited.sk-estimator-doc-link {\n",
       "  float: right;\n",
       "  font-size: smaller;\n",
       "  line-height: 1em;\n",
       "  font-family: monospace;\n",
       "  background-color: var(--sklearn-color-background);\n",
       "  border-radius: 1em;\n",
       "  height: 1em;\n",
       "  width: 1em;\n",
       "  text-decoration: none !important;\n",
       "  margin-left: 1ex;\n",
       "  /* unfitted */\n",
       "  border: var(--sklearn-color-unfitted-level-1) 1pt solid;\n",
       "  color: var(--sklearn-color-unfitted-level-1);\n",
       "}\n",
       "\n",
       ".sk-estimator-doc-link.fitted,\n",
       "a:link.sk-estimator-doc-link.fitted,\n",
       "a:visited.sk-estimator-doc-link.fitted {\n",
       "  /* fitted */\n",
       "  border: var(--sklearn-color-fitted-level-1) 1pt solid;\n",
       "  color: var(--sklearn-color-fitted-level-1);\n",
       "}\n",
       "\n",
       "/* On hover */\n",
       "div.sk-estimator:hover .sk-estimator-doc-link:hover,\n",
       ".sk-estimator-doc-link:hover,\n",
       "div.sk-label-container:hover .sk-estimator-doc-link:hover,\n",
       ".sk-estimator-doc-link:hover {\n",
       "  /* unfitted */\n",
       "  background-color: var(--sklearn-color-unfitted-level-3);\n",
       "  color: var(--sklearn-color-background);\n",
       "  text-decoration: none;\n",
       "}\n",
       "\n",
       "div.sk-estimator.fitted:hover .sk-estimator-doc-link.fitted:hover,\n",
       ".sk-estimator-doc-link.fitted:hover,\n",
       "div.sk-label-container:hover .sk-estimator-doc-link.fitted:hover,\n",
       ".sk-estimator-doc-link.fitted:hover {\n",
       "  /* fitted */\n",
       "  background-color: var(--sklearn-color-fitted-level-3);\n",
       "  color: var(--sklearn-color-background);\n",
       "  text-decoration: none;\n",
       "}\n",
       "\n",
       "/* Span, style for the box shown on hovering the info icon */\n",
       ".sk-estimator-doc-link span {\n",
       "  display: none;\n",
       "  z-index: 9999;\n",
       "  position: relative;\n",
       "  font-weight: normal;\n",
       "  right: .2ex;\n",
       "  padding: .5ex;\n",
       "  margin: .5ex;\n",
       "  width: min-content;\n",
       "  min-width: 20ex;\n",
       "  max-width: 50ex;\n",
       "  color: var(--sklearn-color-text);\n",
       "  box-shadow: 2pt 2pt 4pt #999;\n",
       "  /* unfitted */\n",
       "  background: var(--sklearn-color-unfitted-level-0);\n",
       "  border: .5pt solid var(--sklearn-color-unfitted-level-3);\n",
       "}\n",
       "\n",
       ".sk-estimator-doc-link.fitted span {\n",
       "  /* fitted */\n",
       "  background: var(--sklearn-color-fitted-level-0);\n",
       "  border: var(--sklearn-color-fitted-level-3);\n",
       "}\n",
       "\n",
       ".sk-estimator-doc-link:hover span {\n",
       "  display: block;\n",
       "}\n",
       "\n",
       "/* \"?\"-specific style due to the `<a>` HTML tag */\n",
       "\n",
       "#sk-container-id-1 a.estimator_doc_link {\n",
       "  float: right;\n",
       "  font-size: 1rem;\n",
       "  line-height: 1em;\n",
       "  font-family: monospace;\n",
       "  background-color: var(--sklearn-color-background);\n",
       "  border-radius: 1rem;\n",
       "  height: 1rem;\n",
       "  width: 1rem;\n",
       "  text-decoration: none;\n",
       "  /* unfitted */\n",
       "  color: var(--sklearn-color-unfitted-level-1);\n",
       "  border: var(--sklearn-color-unfitted-level-1) 1pt solid;\n",
       "}\n",
       "\n",
       "#sk-container-id-1 a.estimator_doc_link.fitted {\n",
       "  /* fitted */\n",
       "  border: var(--sklearn-color-fitted-level-1) 1pt solid;\n",
       "  color: var(--sklearn-color-fitted-level-1);\n",
       "}\n",
       "\n",
       "/* On hover */\n",
       "#sk-container-id-1 a.estimator_doc_link:hover {\n",
       "  /* unfitted */\n",
       "  background-color: var(--sklearn-color-unfitted-level-3);\n",
       "  color: var(--sklearn-color-background);\n",
       "  text-decoration: none;\n",
       "}\n",
       "\n",
       "#sk-container-id-1 a.estimator_doc_link.fitted:hover {\n",
       "  /* fitted */\n",
       "  background-color: var(--sklearn-color-fitted-level-3);\n",
       "}\n",
       "</style><div id=\"sk-container-id-1\" class=\"sk-top-container\"><div class=\"sk-text-repr-fallback\"><pre>MLPRegressor(alpha=0.001, batch_size=512, early_stopping=True, max_iter=300,\n",
       "             random_state=1993, verbose=True)</pre><b>In a Jupyter environment, please rerun this cell to show the HTML representation or trust the notebook. <br />On GitHub, the HTML representation is unable to render, please try loading this page with nbviewer.org.</b></div><div class=\"sk-container\" hidden><div class=\"sk-item\"><div class=\"sk-estimator fitted sk-toggleable\"><input class=\"sk-toggleable__control sk-hidden--visually\" id=\"sk-estimator-id-1\" type=\"checkbox\" checked><label for=\"sk-estimator-id-1\" class=\"sk-toggleable__label fitted sk-toggleable__label-arrow fitted\">&nbsp;&nbsp;MLPRegressor<a class=\"sk-estimator-doc-link fitted\" rel=\"noreferrer\" target=\"_blank\" href=\"https://scikit-learn.org/1.5/modules/generated/sklearn.neural_network.MLPRegressor.html\">?<span>Documentation for MLPRegressor</span></a><span class=\"sk-estimator-doc-link fitted\">i<span>Fitted</span></span></label><div class=\"sk-toggleable__content fitted\"><pre>MLPRegressor(alpha=0.001, batch_size=512, early_stopping=True, max_iter=300,\n",
       "             random_state=1993, verbose=True)</pre></div> </div></div></div></div>"
      ],
      "text/plain": [
       "MLPRegressor(alpha=0.001, batch_size=512, early_stopping=True, max_iter=300,\n",
       "             random_state=1993, verbose=True)"
      ]
     },
     "execution_count": 11,
     "metadata": {},
     "output_type": "execute_result"
    }
   ],
   "source": [
    "regr = MLPRegressor(\n",
    "    hidden_layer_sizes=(100,),\n",
    "    activation='relu',\n",
    "    solver='adam',\n",
    "    alpha=0.001,\n",
    "    batch_size=512,\n",
    "    learning_rate_init=0.001,\n",
    "    max_iter=300,\n",
    "    early_stopping=True,\n",
    "    random_state=1993,\n",
    "    verbose=True\n",
    ")\n",
    "\n",
    "regr.fit(x_train_scale, y_log) "
   ]
  },
  {
   "cell_type": "code",
   "execution_count": 12,
   "metadata": {},
   "outputs": [
    {
     "data": {
      "application/vnd.microsoft.datawrangler.viewer.v0+json": {
       "columns": [
        {
         "name": "event_datetime",
         "rawType": "datetime64[ns]",
         "type": "datetime"
        },
        {
         "name": "paid_seats",
         "rawType": "int64",
         "type": "integer"
        }
       ],
       "ref": "b3b87a4c-444d-4c88-8a51-c971fd79cd3a",
       "rows": [
        [
         "2025-09-29 18:00:00",
         "15258"
        ],
        [
         "2025-10-04 19:00:00",
         "16047"
        ],
        [
         "2025-10-07 17:00:00",
         "18459"
        ],
        [
         "2025-10-09 19:00:00",
         "16574"
        ],
        [
         "2025-10-11 19:00:00",
         "17422"
        ],
        [
         "2025-10-23 19:00:00",
         "17179"
        ],
        [
         "2025-10-25 18:00:00",
         "17759"
        ],
        [
         "2025-10-28 19:00:00",
         "15822"
        ],
        [
         "2025-11-01 18:00:00",
         "17124"
        ],
        [
         "2025-11-13 19:00:00",
         "15447"
        ],
        [
         "2025-11-15 18:00:00",
         "17553"
        ],
        [
         "2025-11-17 19:00:00",
         "14948"
        ],
        [
         "2025-11-20 19:00:00",
         "15311"
        ],
        [
         "2025-11-22 19:00:00",
         "17586"
        ],
        [
         "2025-11-26 19:00:00",
         "16765"
        ],
        [
         "2025-11-28 16:00:00",
         "17204"
        ],
        [
         "2025-12-02 19:30:00",
         "17030"
        ],
        [
         "2025-12-04 19:00:00",
         "15934"
        ],
        [
         "2025-12-06 15:30:00",
         "17321"
        ],
        [
         "2025-12-07 17:00:00",
         "17242"
        ],
        [
         "2025-12-17 19:00:00",
         "15297"
        ],
        [
         "2025-12-19 19:00:00",
         "15620"
        ],
        [
         "2025-12-20 18:00:00",
         "17042"
        ],
        [
         "2025-12-27 19:00:00",
         "17141"
        ],
        [
         "2025-12-29 19:00:00",
         "16858"
        ],
        [
         "2025-12-30 19:00:00",
         "17204"
        ],
        [
         "2026-01-04 17:00:00",
         "17278"
        ],
        [
         "2026-01-19 19:00:00",
         "16819"
        ],
        [
         "2026-01-27 19:00:00",
         "15687"
        ],
        [
         "2026-01-31 16:00:00",
         "17967"
        ],
        [
         "2026-02-02 19:00:00",
         "15844"
        ],
        [
         "2026-02-04 19:00:00",
         "17254"
        ],
        [
         "2026-02-26 19:00:00",
         "17271"
        ],
        [
         "2026-02-27 19:00:00",
         "17410"
        ],
        [
         "2026-03-10 19:00:00",
         "15160"
        ],
        [
         "2026-03-12 19:00:00",
         "15072"
        ],
        [
         "2026-03-24 19:00:00",
         "15421"
        ],
        [
         "2026-03-26 19:00:00",
         "14949"
        ],
        [
         "2026-03-31 19:00:00",
         "14956"
        ],
        [
         "2026-04-02 19:00:00",
         "17324"
        ],
        [
         "2026-04-13 19:00:00",
         "17489"
        ],
        [
         "2026-04-15 19:00:00",
         "16996"
        ]
       ],
       "shape": {
        "columns": 1,
        "rows": 42
       }
      },
      "text/plain": [
       "event_datetime\n",
       "2025-09-29 18:00:00    15258\n",
       "2025-10-04 19:00:00    16047\n",
       "2025-10-07 17:00:00    18459\n",
       "2025-10-09 19:00:00    16574\n",
       "2025-10-11 19:00:00    17422\n",
       "2025-10-23 19:00:00    17179\n",
       "2025-10-25 18:00:00    17759\n",
       "2025-10-28 19:00:00    15822\n",
       "2025-11-01 18:00:00    17124\n",
       "2025-11-13 19:00:00    15447\n",
       "2025-11-15 18:00:00    17553\n",
       "2025-11-17 19:00:00    14948\n",
       "2025-11-20 19:00:00    15311\n",
       "2025-11-22 19:00:00    17586\n",
       "2025-11-26 19:00:00    16765\n",
       "2025-11-28 16:00:00    17204\n",
       "2025-12-02 19:30:00    17030\n",
       "2025-12-04 19:00:00    15934\n",
       "2025-12-06 15:30:00    17321\n",
       "2025-12-07 17:00:00    17242\n",
       "2025-12-17 19:00:00    15297\n",
       "2025-12-19 19:00:00    15620\n",
       "2025-12-20 18:00:00    17042\n",
       "2025-12-27 19:00:00    17141\n",
       "2025-12-29 19:00:00    16858\n",
       "2025-12-30 19:00:00    17204\n",
       "2026-01-04 17:00:00    17278\n",
       "2026-01-19 19:00:00    16819\n",
       "2026-01-27 19:00:00    15687\n",
       "2026-01-31 16:00:00    17967\n",
       "2026-02-02 19:00:00    15844\n",
       "2026-02-04 19:00:00    17254\n",
       "2026-02-26 19:00:00    17271\n",
       "2026-02-27 19:00:00    17410\n",
       "2026-03-10 19:00:00    15160\n",
       "2026-03-12 19:00:00    15072\n",
       "2026-03-24 19:00:00    15421\n",
       "2026-03-26 19:00:00    14949\n",
       "2026-03-31 19:00:00    14956\n",
       "2026-04-02 19:00:00    17324\n",
       "2026-04-13 19:00:00    17489\n",
       "2026-04-15 19:00:00    16996\n",
       "Name: paid_seats, dtype: int64"
      ]
     },
     "execution_count": 12,
     "metadata": {},
     "output_type": "execute_result"
    }
   ],
   "source": [
    "predicted = regr.predict(x_test_scale)\n",
    "\n",
    "df_encoded_2526['predicted'] = np.exp(predicted)\n",
    "df_encoded_2526.groupby('event_datetime').sum()['paid_seats']"
   ]
  },
  {
   "cell_type": "code",
   "execution_count": 13,
   "metadata": {},
   "outputs": [
    {
     "data": {
      "application/vnd.microsoft.datawrangler.viewer.v0+json": {
       "columns": [
        {
         "name": "index",
         "rawType": "int64",
         "type": "integer"
        },
        {
         "name": "event_datetime",
         "rawType": "datetime64[ns]",
         "type": "datetime"
        },
        {
         "name": "days_out",
         "rawType": "int64",
         "type": "integer"
        },
        {
         "name": "paid_seats",
         "rawType": "int64",
         "type": "integer"
        },
        {
         "name": "predicted",
         "rawType": "float64",
         "type": "float"
        },
        {
         "name": "total",
         "rawType": "float64",
         "type": "float"
        }
       ],
       "ref": "7c0b90f3-9c53-419e-b98d-a3b46dd9446d",
       "rows": [
        [
         "0",
         "2026-04-15 19:30:00",
         "219",
         "16938",
         "2078.149120764596",
         "19016.149120764596"
        ],
        [
         "1",
         "2025-11-17 19:00:00",
         "70",
         "14826",
         "4331.971624686073",
         "19157.971624686073"
        ],
        [
         "2",
         "2026-03-24 19:00:00",
         "197",
         "15291",
         "6275.125402835278",
         "21566.125402835278"
        ],
        [
         "3",
         "2026-04-13 19:00:00",
         "217",
         "17329",
         "3470.513485150918",
         "20799.513485150917"
        ],
        [
         "4",
         "2026-02-04 19:00:00",
         "149",
         "17152",
         "2644.6541441685804",
         "19796.65414416858"
        ],
        [
         "5",
         "2026-01-04 17:00:00",
         "118",
         "16952",
         "3162.336887729858",
         "20114.336887729856"
        ],
        [
         "6",
         "2025-12-20 18:00:00",
         "103",
         "16901",
         "7774.415640839",
         "24675.415640839"
        ],
        [
         "7",
         "2025-10-07 17:00:00",
         "29",
         "18030",
         "784.1135050502136",
         "18814.113505050213"
        ],
        [
         "8",
         "2026-02-02 19:00:00",
         "147",
         "15645",
         "5613.165569326986",
         "21258.165569326986"
        ],
        [
         "9",
         "2026-01-27 19:00:00",
         "141",
         "15220",
         "6229.904574856085",
         "21449.904574856086"
        ],
        [
         "10",
         "2026-01-19 19:00:00",
         "133",
         "16720",
         "3099.128794954884",
         "19819.128794954886"
        ],
        [
         "11",
         "2025-12-07 17:00:00",
         "90",
         "17088",
         "2851.7058479439993",
         "19939.705847944"
        ],
        [
         "12",
         "2025-09-29 18:00:00",
         "21",
         "14451",
         "468.16517169523996",
         "14919.16517169524"
        ],
        [
         "13",
         "2025-11-28 14:00:00",
         "81",
         "17087",
         "3949.2873395281745",
         "21036.287339528175"
        ],
        [
         "14",
         "2025-12-29 19:00:00",
         "112",
         "16801",
         "3082.925297544302",
         "19883.9252975443"
        ],
        [
         "15",
         "2025-12-30 19:00:00",
         "113",
         "17089",
         "4848.177168880414",
         "21937.177168880415"
        ],
        [
         "16",
         "2026-02-26 19:00:00",
         "171",
         "17160",
         "2685.6110265952766",
         "19845.611026595278"
        ],
        [
         "17",
         "2025-10-09 19:00:00",
         "31",
         "15903",
         "2440.571991439347",
         "18343.57199143935"
        ],
        [
         "18",
         "2026-01-31 16:00:00",
         "145",
         "17708",
         "8708.241640330587",
         "26416.241640330587"
        ],
        [
         "19",
         "2026-03-26 19:00:00",
         "199",
         "14740",
         "5914.58371167488",
         "20654.58371167488"
        ],
        [
         "20",
         "2025-10-25 18:00:00",
         "47",
         "17430",
         "4841.80573602167",
         "22271.80573602167"
        ],
        [
         "21",
         "2025-11-26 19:00:00",
         "79",
         "16759",
         "2069.074147247169",
         "18828.07414724717"
        ],
        [
         "22",
         "2025-11-01 18:00:00",
         "54",
         "17017",
         "5246.44106891597",
         "22263.44106891597"
        ],
        [
         "23",
         "2025-10-23 19:00:00",
         "45",
         "17055",
         "2258.6912511757478",
         "19313.691251175747"
        ],
        [
         "24",
         "2026-03-10 19:00:00",
         "183",
         "15003",
         "5994.856093073854",
         "20997.856093073853"
        ],
        [
         "25",
         "2025-12-19 19:00:00",
         "102",
         "15265",
         "7571.2410634867",
         "22836.2410634867"
        ],
        [
         "26",
         "2025-12-17 19:00:00",
         "100",
         "15025",
         "5996.8435385779885",
         "21021.84353857799"
        ],
        [
         "27",
         "2025-12-06 15:00:00",
         "89",
         "17165",
         "11614.057458032676",
         "28779.057458032676"
        ],
        [
         "28",
         "2026-02-27 19:00:00",
         "172",
         "17358",
         "10793.62761003548",
         "28151.62761003548"
        ],
        [
         "29",
         "2025-10-04 19:00:00",
         "26",
         "14699",
         "67.55742099331725",
         "14766.557420993317"
        ],
        [
         "30",
         "2025-11-22 19:00:00",
         "75",
         "17479",
         "3380.4826744970073",
         "20859.48267449701"
        ],
        [
         "31",
         "2025-11-15 18:00:00",
         "68",
         "17430",
         "5458.526339315161",
         "22888.52633931516"
        ],
        [
         "32",
         "2025-12-02 19:00:00",
         "85",
         "16954",
         "2939.528184750333",
         "19893.528184750332"
        ],
        [
         "33",
         "2025-10-11 19:00:00",
         "33",
         "17173",
         "3739.2238472382805",
         "20912.22384723828"
        ],
        [
         "34",
         "2025-10-28 19:00:00",
         "50",
         "15364",
         "3830.911144573761",
         "19194.91114457376"
        ],
        [
         "35",
         "2025-12-27 19:00:00",
         "110",
         "17077",
         "2222.709516710544",
         "19299.709516710544"
        ],
        [
         "36",
         "2026-03-31 19:00:00",
         "204",
         "14837",
         "5922.593784928044",
         "20759.593784928045"
        ],
        [
         "37",
         "2025-12-04 19:00:00",
         "87",
         "15786",
         "5778.60540821837",
         "21564.60540821837"
        ],
        [
         "38",
         "2026-04-02 19:00:00",
         "206",
         "17196",
         "2631.225390671798",
         "19827.225390671796"
        ],
        [
         "39",
         "2026-03-12 19:00:00",
         "185",
         "14955",
         "5983.893045383206",
         "20938.893045383207"
        ],
        [
         "40",
         "2025-11-13 19:00:00",
         "66",
         "15247",
         "3582.304168011352",
         "18829.304168011353"
        ],
        [
         "41",
         "2025-11-20 19:00:00",
         "73",
         "15120",
         "3783.8694931868954",
         "18903.869493186896"
        ]
       ],
       "shape": {
        "columns": 5,
        "rows": 42
       }
      },
      "text/html": [
       "<div>\n",
       "<style scoped>\n",
       "    .dataframe tbody tr th:only-of-type {\n",
       "        vertical-align: middle;\n",
       "    }\n",
       "\n",
       "    .dataframe tbody tr th {\n",
       "        vertical-align: top;\n",
       "    }\n",
       "\n",
       "    .dataframe thead th {\n",
       "        text-align: right;\n",
       "    }\n",
       "</style>\n",
       "<table border=\"1\" class=\"dataframe\">\n",
       "  <thead>\n",
       "    <tr style=\"text-align: right;\">\n",
       "      <th></th>\n",
       "      <th>event_datetime</th>\n",
       "      <th>days_out</th>\n",
       "      <th>paid_seats</th>\n",
       "      <th>predicted</th>\n",
       "      <th>total</th>\n",
       "    </tr>\n",
       "  </thead>\n",
       "  <tbody>\n",
       "    <tr>\n",
       "      <th>0</th>\n",
       "      <td>2026-04-15 19:30:00</td>\n",
       "      <td>219</td>\n",
       "      <td>16938</td>\n",
       "      <td>2078.149121</td>\n",
       "      <td>19016.149121</td>\n",
       "    </tr>\n",
       "    <tr>\n",
       "      <th>1</th>\n",
       "      <td>2025-11-17 19:00:00</td>\n",
       "      <td>70</td>\n",
       "      <td>14826</td>\n",
       "      <td>4331.971625</td>\n",
       "      <td>19157.971625</td>\n",
       "    </tr>\n",
       "    <tr>\n",
       "      <th>2</th>\n",
       "      <td>2026-03-24 19:00:00</td>\n",
       "      <td>197</td>\n",
       "      <td>15291</td>\n",
       "      <td>6275.125403</td>\n",
       "      <td>21566.125403</td>\n",
       "    </tr>\n",
       "    <tr>\n",
       "      <th>3</th>\n",
       "      <td>2026-04-13 19:00:00</td>\n",
       "      <td>217</td>\n",
       "      <td>17329</td>\n",
       "      <td>3470.513485</td>\n",
       "      <td>20799.513485</td>\n",
       "    </tr>\n",
       "    <tr>\n",
       "      <th>4</th>\n",
       "      <td>2026-02-04 19:00:00</td>\n",
       "      <td>149</td>\n",
       "      <td>17152</td>\n",
       "      <td>2644.654144</td>\n",
       "      <td>19796.654144</td>\n",
       "    </tr>\n",
       "    <tr>\n",
       "      <th>5</th>\n",
       "      <td>2026-01-04 17:00:00</td>\n",
       "      <td>118</td>\n",
       "      <td>16952</td>\n",
       "      <td>3162.336888</td>\n",
       "      <td>20114.336888</td>\n",
       "    </tr>\n",
       "    <tr>\n",
       "      <th>6</th>\n",
       "      <td>2025-12-20 18:00:00</td>\n",
       "      <td>103</td>\n",
       "      <td>16901</td>\n",
       "      <td>7774.415641</td>\n",
       "      <td>24675.415641</td>\n",
       "    </tr>\n",
       "    <tr>\n",
       "      <th>7</th>\n",
       "      <td>2025-10-07 17:00:00</td>\n",
       "      <td>29</td>\n",
       "      <td>18030</td>\n",
       "      <td>784.113505</td>\n",
       "      <td>18814.113505</td>\n",
       "    </tr>\n",
       "    <tr>\n",
       "      <th>8</th>\n",
       "      <td>2026-02-02 19:00:00</td>\n",
       "      <td>147</td>\n",
       "      <td>15645</td>\n",
       "      <td>5613.165569</td>\n",
       "      <td>21258.165569</td>\n",
       "    </tr>\n",
       "    <tr>\n",
       "      <th>9</th>\n",
       "      <td>2026-01-27 19:00:00</td>\n",
       "      <td>141</td>\n",
       "      <td>15220</td>\n",
       "      <td>6229.904575</td>\n",
       "      <td>21449.904575</td>\n",
       "    </tr>\n",
       "    <tr>\n",
       "      <th>10</th>\n",
       "      <td>2026-01-19 19:00:00</td>\n",
       "      <td>133</td>\n",
       "      <td>16720</td>\n",
       "      <td>3099.128795</td>\n",
       "      <td>19819.128795</td>\n",
       "    </tr>\n",
       "    <tr>\n",
       "      <th>11</th>\n",
       "      <td>2025-12-07 17:00:00</td>\n",
       "      <td>90</td>\n",
       "      <td>17088</td>\n",
       "      <td>2851.705848</td>\n",
       "      <td>19939.705848</td>\n",
       "    </tr>\n",
       "    <tr>\n",
       "      <th>12</th>\n",
       "      <td>2025-09-29 18:00:00</td>\n",
       "      <td>21</td>\n",
       "      <td>14451</td>\n",
       "      <td>468.165172</td>\n",
       "      <td>14919.165172</td>\n",
       "    </tr>\n",
       "    <tr>\n",
       "      <th>13</th>\n",
       "      <td>2025-11-28 14:00:00</td>\n",
       "      <td>81</td>\n",
       "      <td>17087</td>\n",
       "      <td>3949.287340</td>\n",
       "      <td>21036.287340</td>\n",
       "    </tr>\n",
       "    <tr>\n",
       "      <th>14</th>\n",
       "      <td>2025-12-29 19:00:00</td>\n",
       "      <td>112</td>\n",
       "      <td>16801</td>\n",
       "      <td>3082.925298</td>\n",
       "      <td>19883.925298</td>\n",
       "    </tr>\n",
       "    <tr>\n",
       "      <th>15</th>\n",
       "      <td>2025-12-30 19:00:00</td>\n",
       "      <td>113</td>\n",
       "      <td>17089</td>\n",
       "      <td>4848.177169</td>\n",
       "      <td>21937.177169</td>\n",
       "    </tr>\n",
       "    <tr>\n",
       "      <th>16</th>\n",
       "      <td>2026-02-26 19:00:00</td>\n",
       "      <td>171</td>\n",
       "      <td>17160</td>\n",
       "      <td>2685.611027</td>\n",
       "      <td>19845.611027</td>\n",
       "    </tr>\n",
       "    <tr>\n",
       "      <th>17</th>\n",
       "      <td>2025-10-09 19:00:00</td>\n",
       "      <td>31</td>\n",
       "      <td>15903</td>\n",
       "      <td>2440.571991</td>\n",
       "      <td>18343.571991</td>\n",
       "    </tr>\n",
       "    <tr>\n",
       "      <th>18</th>\n",
       "      <td>2026-01-31 16:00:00</td>\n",
       "      <td>145</td>\n",
       "      <td>17708</td>\n",
       "      <td>8708.241640</td>\n",
       "      <td>26416.241640</td>\n",
       "    </tr>\n",
       "    <tr>\n",
       "      <th>19</th>\n",
       "      <td>2026-03-26 19:00:00</td>\n",
       "      <td>199</td>\n",
       "      <td>14740</td>\n",
       "      <td>5914.583712</td>\n",
       "      <td>20654.583712</td>\n",
       "    </tr>\n",
       "    <tr>\n",
       "      <th>20</th>\n",
       "      <td>2025-10-25 18:00:00</td>\n",
       "      <td>47</td>\n",
       "      <td>17430</td>\n",
       "      <td>4841.805736</td>\n",
       "      <td>22271.805736</td>\n",
       "    </tr>\n",
       "    <tr>\n",
       "      <th>21</th>\n",
       "      <td>2025-11-26 19:00:00</td>\n",
       "      <td>79</td>\n",
       "      <td>16759</td>\n",
       "      <td>2069.074147</td>\n",
       "      <td>18828.074147</td>\n",
       "    </tr>\n",
       "    <tr>\n",
       "      <th>22</th>\n",
       "      <td>2025-11-01 18:00:00</td>\n",
       "      <td>54</td>\n",
       "      <td>17017</td>\n",
       "      <td>5246.441069</td>\n",
       "      <td>22263.441069</td>\n",
       "    </tr>\n",
       "    <tr>\n",
       "      <th>23</th>\n",
       "      <td>2025-10-23 19:00:00</td>\n",
       "      <td>45</td>\n",
       "      <td>17055</td>\n",
       "      <td>2258.691251</td>\n",
       "      <td>19313.691251</td>\n",
       "    </tr>\n",
       "    <tr>\n",
       "      <th>24</th>\n",
       "      <td>2026-03-10 19:00:00</td>\n",
       "      <td>183</td>\n",
       "      <td>15003</td>\n",
       "      <td>5994.856093</td>\n",
       "      <td>20997.856093</td>\n",
       "    </tr>\n",
       "    <tr>\n",
       "      <th>25</th>\n",
       "      <td>2025-12-19 19:00:00</td>\n",
       "      <td>102</td>\n",
       "      <td>15265</td>\n",
       "      <td>7571.241063</td>\n",
       "      <td>22836.241063</td>\n",
       "    </tr>\n",
       "    <tr>\n",
       "      <th>26</th>\n",
       "      <td>2025-12-17 19:00:00</td>\n",
       "      <td>100</td>\n",
       "      <td>15025</td>\n",
       "      <td>5996.843539</td>\n",
       "      <td>21021.843539</td>\n",
       "    </tr>\n",
       "    <tr>\n",
       "      <th>27</th>\n",
       "      <td>2025-12-06 15:00:00</td>\n",
       "      <td>89</td>\n",
       "      <td>17165</td>\n",
       "      <td>11614.057458</td>\n",
       "      <td>28779.057458</td>\n",
       "    </tr>\n",
       "    <tr>\n",
       "      <th>28</th>\n",
       "      <td>2026-02-27 19:00:00</td>\n",
       "      <td>172</td>\n",
       "      <td>17358</td>\n",
       "      <td>10793.627610</td>\n",
       "      <td>28151.627610</td>\n",
       "    </tr>\n",
       "    <tr>\n",
       "      <th>29</th>\n",
       "      <td>2025-10-04 19:00:00</td>\n",
       "      <td>26</td>\n",
       "      <td>14699</td>\n",
       "      <td>67.557421</td>\n",
       "      <td>14766.557421</td>\n",
       "    </tr>\n",
       "    <tr>\n",
       "      <th>30</th>\n",
       "      <td>2025-11-22 19:00:00</td>\n",
       "      <td>75</td>\n",
       "      <td>17479</td>\n",
       "      <td>3380.482674</td>\n",
       "      <td>20859.482674</td>\n",
       "    </tr>\n",
       "    <tr>\n",
       "      <th>31</th>\n",
       "      <td>2025-11-15 18:00:00</td>\n",
       "      <td>68</td>\n",
       "      <td>17430</td>\n",
       "      <td>5458.526339</td>\n",
       "      <td>22888.526339</td>\n",
       "    </tr>\n",
       "    <tr>\n",
       "      <th>32</th>\n",
       "      <td>2025-12-02 19:00:00</td>\n",
       "      <td>85</td>\n",
       "      <td>16954</td>\n",
       "      <td>2939.528185</td>\n",
       "      <td>19893.528185</td>\n",
       "    </tr>\n",
       "    <tr>\n",
       "      <th>33</th>\n",
       "      <td>2025-10-11 19:00:00</td>\n",
       "      <td>33</td>\n",
       "      <td>17173</td>\n",
       "      <td>3739.223847</td>\n",
       "      <td>20912.223847</td>\n",
       "    </tr>\n",
       "    <tr>\n",
       "      <th>34</th>\n",
       "      <td>2025-10-28 19:00:00</td>\n",
       "      <td>50</td>\n",
       "      <td>15364</td>\n",
       "      <td>3830.911145</td>\n",
       "      <td>19194.911145</td>\n",
       "    </tr>\n",
       "    <tr>\n",
       "      <th>35</th>\n",
       "      <td>2025-12-27 19:00:00</td>\n",
       "      <td>110</td>\n",
       "      <td>17077</td>\n",
       "      <td>2222.709517</td>\n",
       "      <td>19299.709517</td>\n",
       "    </tr>\n",
       "    <tr>\n",
       "      <th>36</th>\n",
       "      <td>2026-03-31 19:00:00</td>\n",
       "      <td>204</td>\n",
       "      <td>14837</td>\n",
       "      <td>5922.593785</td>\n",
       "      <td>20759.593785</td>\n",
       "    </tr>\n",
       "    <tr>\n",
       "      <th>37</th>\n",
       "      <td>2025-12-04 19:00:00</td>\n",
       "      <td>87</td>\n",
       "      <td>15786</td>\n",
       "      <td>5778.605408</td>\n",
       "      <td>21564.605408</td>\n",
       "    </tr>\n",
       "    <tr>\n",
       "      <th>38</th>\n",
       "      <td>2026-04-02 19:00:00</td>\n",
       "      <td>206</td>\n",
       "      <td>17196</td>\n",
       "      <td>2631.225391</td>\n",
       "      <td>19827.225391</td>\n",
       "    </tr>\n",
       "    <tr>\n",
       "      <th>39</th>\n",
       "      <td>2026-03-12 19:00:00</td>\n",
       "      <td>185</td>\n",
       "      <td>14955</td>\n",
       "      <td>5983.893045</td>\n",
       "      <td>20938.893045</td>\n",
       "    </tr>\n",
       "    <tr>\n",
       "      <th>40</th>\n",
       "      <td>2025-11-13 19:00:00</td>\n",
       "      <td>66</td>\n",
       "      <td>15247</td>\n",
       "      <td>3582.304168</td>\n",
       "      <td>18829.304168</td>\n",
       "    </tr>\n",
       "    <tr>\n",
       "      <th>41</th>\n",
       "      <td>2025-11-20 19:00:00</td>\n",
       "      <td>73</td>\n",
       "      <td>15120</td>\n",
       "      <td>3783.869493</td>\n",
       "      <td>18903.869493</td>\n",
       "    </tr>\n",
       "  </tbody>\n",
       "</table>\n",
       "</div>"
      ],
      "text/plain": [
       "        event_datetime  days_out  paid_seats     predicted         total\n",
       "0  2026-04-15 19:30:00       219       16938   2078.149121  19016.149121\n",
       "1  2025-11-17 19:00:00        70       14826   4331.971625  19157.971625\n",
       "2  2026-03-24 19:00:00       197       15291   6275.125403  21566.125403\n",
       "3  2026-04-13 19:00:00       217       17329   3470.513485  20799.513485\n",
       "4  2026-02-04 19:00:00       149       17152   2644.654144  19796.654144\n",
       "5  2026-01-04 17:00:00       118       16952   3162.336888  20114.336888\n",
       "6  2025-12-20 18:00:00       103       16901   7774.415641  24675.415641\n",
       "7  2025-10-07 17:00:00        29       18030    784.113505  18814.113505\n",
       "8  2026-02-02 19:00:00       147       15645   5613.165569  21258.165569\n",
       "9  2026-01-27 19:00:00       141       15220   6229.904575  21449.904575\n",
       "10 2026-01-19 19:00:00       133       16720   3099.128795  19819.128795\n",
       "11 2025-12-07 17:00:00        90       17088   2851.705848  19939.705848\n",
       "12 2025-09-29 18:00:00        21       14451    468.165172  14919.165172\n",
       "13 2025-11-28 14:00:00        81       17087   3949.287340  21036.287340\n",
       "14 2025-12-29 19:00:00       112       16801   3082.925298  19883.925298\n",
       "15 2025-12-30 19:00:00       113       17089   4848.177169  21937.177169\n",
       "16 2026-02-26 19:00:00       171       17160   2685.611027  19845.611027\n",
       "17 2025-10-09 19:00:00        31       15903   2440.571991  18343.571991\n",
       "18 2026-01-31 16:00:00       145       17708   8708.241640  26416.241640\n",
       "19 2026-03-26 19:00:00       199       14740   5914.583712  20654.583712\n",
       "20 2025-10-25 18:00:00        47       17430   4841.805736  22271.805736\n",
       "21 2025-11-26 19:00:00        79       16759   2069.074147  18828.074147\n",
       "22 2025-11-01 18:00:00        54       17017   5246.441069  22263.441069\n",
       "23 2025-10-23 19:00:00        45       17055   2258.691251  19313.691251\n",
       "24 2026-03-10 19:00:00       183       15003   5994.856093  20997.856093\n",
       "25 2025-12-19 19:00:00       102       15265   7571.241063  22836.241063\n",
       "26 2025-12-17 19:00:00       100       15025   5996.843539  21021.843539\n",
       "27 2025-12-06 15:00:00        89       17165  11614.057458  28779.057458\n",
       "28 2026-02-27 19:00:00       172       17358  10793.627610  28151.627610\n",
       "29 2025-10-04 19:00:00        26       14699     67.557421  14766.557421\n",
       "30 2025-11-22 19:00:00        75       17479   3380.482674  20859.482674\n",
       "31 2025-11-15 18:00:00        68       17430   5458.526339  22888.526339\n",
       "32 2025-12-02 19:00:00        85       16954   2939.528185  19893.528185\n",
       "33 2025-10-11 19:00:00        33       17173   3739.223847  20912.223847\n",
       "34 2025-10-28 19:00:00        50       15364   3830.911145  19194.911145\n",
       "35 2025-12-27 19:00:00       110       17077   2222.709517  19299.709517\n",
       "36 2026-03-31 19:00:00       204       14837   5922.593785  20759.593785\n",
       "37 2025-12-04 19:00:00        87       15786   5778.605408  21564.605408\n",
       "38 2026-04-02 19:00:00       206       17196   2631.225391  19827.225391\n",
       "39 2026-03-12 19:00:00       185       14955   5983.893045  20938.893045\n",
       "40 2025-11-13 19:00:00        66       15247   3582.304168  18829.304168\n",
       "41 2025-11-20 19:00:00        73       15120   3783.869493  18903.869493"
      ]
     },
     "execution_count": 13,
     "metadata": {},
     "output_type": "execute_result"
    }
   ],
   "source": [
    "df_encoded_2526['total'] = df_encoded_2526['predicted'] + df_encoded_2526['paid_seats']\n",
    "\n",
    "df_encoded_2526[['event_datetime','days_out','paid_seats','predicted', 'total']]"
   ]
  },
  {
   "cell_type": "markdown",
   "metadata": {},
   "source": [
    "# THIS IS WHERE MY CURRENT WORK ENDS"
   ]
  },
  {
   "cell_type": "markdown",
   "metadata": {},
   "source": []
  },
  {
   "cell_type": "markdown",
   "metadata": {},
   "source": []
  },
  {
   "cell_type": "markdown",
   "metadata": {},
   "source": []
  },
  {
   "cell_type": "markdown",
   "metadata": {},
   "source": []
  },
  {
   "cell_type": "markdown",
   "metadata": {
    "cell_id": "045d8ee4c32b4e2f8b709c0bb30bff3c",
    "deepnote_cell_type": "text-cell-h2",
    "formattedRanges": [
     {
      "fromCodePoint": 0,
      "marks": {
       "bold": true
      },
      "toCodePoint": 4,
      "type": "marks"
     }
    ]
   },
   "source": [
    "## 4.1 Model evaluation"
   ]
  },
  {
   "cell_type": "markdown",
   "metadata": {
    "cell_id": "4e9702ec31f946599056deffc54c5090",
    "deepnote_cell_type": "text-cell-h3",
    "formattedRanges": [
     {
      "fromCodePoint": 0,
      "marks": {
       "bold": true
      },
      "toCodePoint": 4,
      "type": "marks"
     }
    ]
   },
   "source": [
    "### 4.1 Classification Reports"
   ]
  },
  {
   "cell_type": "markdown",
   "metadata": {
    "cell_id": "cf1b5cdb501f4dcdb0672b9ead3c96cf",
    "deepnote_cell_type": "text-cell-p",
    "formattedRanges": []
   },
   "source": [
    "(For classification models) Run classification report to see precision, recall, and fl score breakdown by group"
   ]
  },
  {
   "cell_type": "markdown",
   "metadata": {
    "cell_id": "b6d1cddd88174918b0cfb50cb979a5e9",
    "deepnote_cell_type": "text-cell-p",
    "formattedRanges": []
   },
   "source": [
    "Classification report info: https://scikit-learn.org/stable/modules/generated/sklearn.metrics.classification_report.html"
   ]
  },
  {
   "cell_type": "code",
   "execution_count": 16,
   "metadata": {
    "cell_id": "6672f523effb4ac9be0446e1aedb884f",
    "deepnote_cell_type": "code",
    "execution_context_id": "b9bdcf2b-b5e1-41a3-b3de-623342134211",
    "execution_millis": 0,
    "execution_start": 1744211479783,
    "source_hash": "29e505d1"
   },
   "outputs": [],
   "source": [
    "def run_classification_report(x,y):\n",
    "\n",
    "    logi = LogisticRegression(class_weight='balanced').fit(x, np.array(y))\n",
    "\n",
    "    predicted = logi.predict(x)\n",
    "\n",
    "    print(classification_report(predicted, y))"
   ]
  },
  {
   "cell_type": "code",
   "execution_count": 17,
   "metadata": {
    "cell_id": "7b53ba8556be47e28eb1cfeea70db61f",
    "deepnote_cell_type": "code",
    "execution_context_id": "b9bdcf2b-b5e1-41a3-b3de-623342134211",
    "execution_millis": 422,
    "execution_start": 1744211479833,
    "source_hash": "9b44b93b"
   },
   "outputs": [],
   "source": [
    "run_classification_report(x_train, y)"
   ]
  },
  {
   "cell_type": "markdown",
   "metadata": {
    "cell_id": "f2f96ea7ade944d088483ff1cd7e378c",
    "deepnote_cell_type": "text-cell-h3",
    "formattedRanges": []
   },
   "source": [
    "### 4.2 Recursive Feature Elimination (with cross validation)"
   ]
  },
  {
   "cell_type": "markdown",
   "metadata": {
    "cell_id": "85facd3f094b46daae82a45825be6cc6",
    "deepnote_cell_type": "text-cell-p",
    "formattedRanges": []
   },
   "source": [
    "Use Recursive Feature Elimination (with cross validation) to order the variables on most important to the classification to the least important. "
   ]
  },
  {
   "cell_type": "markdown",
   "metadata": {
    "cell_id": "2919a24dbf704c58aa29f439991a72a2",
    "deepnote_cell_type": "text-cell-p",
    "formattedRanges": []
   },
   "source": [
    "Especially useful for large datasets when you want to limit the number of variables in your model."
   ]
  },
  {
   "cell_type": "markdown",
   "metadata": {
    "cell_id": "dea237932a2a4d90b63325d5274dadc6",
    "deepnote_cell_type": "text-cell-p",
    "formattedRanges": []
   },
   "source": [
    "Below is a plot of the mean accuracy based on every possible number of features used in the model. "
   ]
  },
  {
   "cell_type": "markdown",
   "metadata": {
    "cell_id": "839ed82845744023a75d0136565e8bbd",
    "deepnote_cell_type": "text-cell-p",
    "formattedRanges": []
   },
   "source": [
    "It can be used to determine the optimal number of features without outside constraints placed on the model."
   ]
  },
  {
   "cell_type": "markdown",
   "metadata": {
    "cell_id": "9736af462fe54c5683554774fd8a3800",
    "deepnote_cell_type": "text-cell-p",
    "formattedRanges": []
   },
   "source": [
    "RFECV info: https://scikit-learn.org/stable/modules/generated/sklearn.feature_selection.RFECV.html"
   ]
  },
  {
   "cell_type": "code",
   "execution_count": 18,
   "metadata": {
    "cell_id": "970e88b4908643a0a7ffd4fe560b5a43",
    "deepnote_cell_type": "code",
    "execution_context_id": "b9bdcf2b-b5e1-41a3-b3de-623342134211",
    "execution_millis": 0,
    "execution_start": 1744211480303,
    "source_hash": "e5ebc056"
   },
   "outputs": [],
   "source": [
    "def run_rfe(estimator, step, scoring, x, y, show_plot):\n",
    "    \n",
    "    selector = RFECV(estimator = estimator, step = step, scoring = scoring)\n",
    "    selector.fit(x, np.array(y)).n_features_\n",
    "\n",
    "    rfe_features = x.columns[selector.support_]\n",
    "\n",
    "    if show_plot == True:\n",
    "\n",
    "        cv_results = pd.DataFrame(selector.cv_results_)\n",
    "        \n",
    "        # plt.figure()\n",
    "        # plt.xlabel(\"Number of features selected\")\n",
    "        # plt.ylabel(\"Mean test accuracy\")\n",
    "\n",
    "        # plt.errorbar(\n",
    "        # x=cv_results[\"n_features\"],\n",
    "        # y=cv_results[\"mean_test_score\"],\n",
    "        # yerr=cv_results[\"std_test_score\"],\n",
    "        #     )\n",
    "        \n",
    "        # plt.title(\"Recursive Feature Elimination \\nwith correlated features\")\n",
    "        # plt.show()\n",
    "\n",
    "    return cv_results\n",
    "\n",
    "#https://scikit-learn.org/stable/auto_examples/feature_selection/plot_rfe_with_cross_validation.html"
   ]
  },
  {
   "cell_type": "code",
   "execution_count": 19,
   "metadata": {
    "cell_id": "8bdbfe34d1fc4941bd8ac2585631d044",
    "deepnote_cell_type": "code",
    "execution_context_id": "b9bdcf2b-b5e1-41a3-b3de-623342134211",
    "execution_millis": 37654,
    "execution_start": 1744211480363,
    "source_hash": "84991b73"
   },
   "outputs": [],
   "source": [
    "cv = run_rfe(LogisticRegression(class_weight='balanced'), 1, 'accuracy', x_train, y, True)"
   ]
  },
  {
   "cell_type": "markdown",
   "metadata": {
    "cell_id": "3c1ad62dcedd4da59d806c01339c567c",
    "deepnote_cell_type": "text-cell-h3",
    "formattedRanges": [
     {
      "fromCodePoint": 0,
      "marks": {
       "bold": true
      },
      "toCodePoint": 3,
      "type": "marks"
     }
    ]
   },
   "source": [
    "### 4.3 Coefficient & Odds Ratio"
   ]
  },
  {
   "cell_type": "markdown",
   "metadata": {
    "cell_id": "739d252a451f4159a4e2bac2bb692877",
    "deepnote_cell_type": "text-cell-p",
    "formattedRanges": []
   },
   "source": [
    "Similar to RFE, Coefficient & Odds Ratio order the variables by importance. "
   ]
  },
  {
   "cell_type": "markdown",
   "metadata": {
    "cell_id": "3c209d42f3ac4a2396c8fbb9faf3f7d4",
    "deepnote_cell_type": "text-cell-p",
    "formattedRanges": []
   },
   "source": [
    "Can compare to RFE to see the variables both say are most important."
   ]
  },
  {
   "cell_type": "code",
   "execution_count": 79,
   "metadata": {
    "cell_id": "30fd85c80b0e4c51a01fdae248806053",
    "deepnote_cell_type": "code",
    "execution_context_id": "6252f68a-cf26-45d7-8b9c-1ef579e9752b",
    "execution_millis": 0,
    "execution_start": 1744139106055,
    "source_hash": "ca11b7ac"
   },
   "outputs": [],
   "source": [
    "def get_coeff_odds_ratio(x, y):\n",
    "\n",
    "    logi = LogisticRegression(class_weight='balanced').fit(x, np.array(y))\n",
    "\n",
    "    # Coefficients and Odds Ratios\n",
    "    coefficients = logi.coef_[0]\n",
    "    odds_ratios = np.exp(coefficients)\n",
    "\n",
    "\n",
    "    # Display feature importance using coefficients and odds ratios\n",
    "    feature_importance = pd.DataFrame({\n",
    "        'Feature': x_train.columns,\n",
    "        'Coefficient': coefficients,\n",
    "        'Odds Ratio': odds_ratios\n",
    "    })\n",
    "    print(\"\\nFeature Importance (Coefficient and Odds Ratio):\")\n",
    "    print(feature_importance.sort_values(by='Coefficient', ascending=False))"
   ]
  },
  {
   "cell_type": "code",
   "execution_count": 81,
   "metadata": {
    "cell_id": "a0025251cab3472fb2c8101be17998ff",
    "deepnote_cell_type": "code",
    "execution_context_id": "6252f68a-cf26-45d7-8b9c-1ef579e9752b",
    "execution_millis": 91,
    "execution_start": 1744139108583,
    "source_hash": "16c00fe2"
   },
   "outputs": [],
   "source": [
    "get_coeff_odds_ratio(x_train, y)"
   ]
  },
  {
   "cell_type": "markdown",
   "metadata": {
    "cell_id": "e65b7c1b21af41d39594232357824e91",
    "deepnote_cell_type": "text-cell-h3",
    "formattedRanges": [
     {
      "fromCodePoint": 0,
      "marks": {
       "bold": true
      },
      "toCodePoint": 4,
      "type": "marks"
     }
    ]
   },
   "source": [
    "### 4.4 Grid Search"
   ]
  },
  {
   "cell_type": "markdown",
   "metadata": {
    "cell_id": "c7bcba4b05de4506bb849778b088cfb6",
    "deepnote_cell_type": "text-cell-p",
    "formattedRanges": []
   },
   "source": [
    "Grid Search for Hyperparameters to optimize accuracy and precision."
   ]
  },
  {
   "cell_type": "markdown",
   "metadata": {
    "cell_id": "f8d373dad0154b0db77004717bc7711f",
    "deepnote_cell_type": "text-cell-p",
    "formattedRanges": []
   },
   "source": [
    "Grid search info: https://scikit-learn.org/stable/modules/generated/sklearn.model_selection.GridSearchCV.html"
   ]
  },
  {
   "cell_type": "code",
   "execution_count": 83,
   "metadata": {
    "cell_id": "9a0e3fef811f42989bd179f5684e3b26",
    "deepnote_cell_type": "code",
    "execution_context_id": "6252f68a-cf26-45d7-8b9c-1ef579e9752b",
    "execution_millis": 0,
    "execution_start": 1744139137925,
    "source_hash": "6f6552da"
   },
   "outputs": [],
   "source": [
    "def grid_search(C, penalty, class_weight, solver, x, y):\n",
    "\n",
    "    param_grid = {'C': C,  \n",
    "              'penalty': penalty, \n",
    "              'class_weight' : class_weight,\n",
    "              'solver' : solver} \n",
    "\n",
    "    grid = GridSearchCV(LogisticRegression(class_weight='balanced'), param_grid, refit = True, verbose = 3,n_jobs=-1) \n",
    "   \n",
    "    # fitting the model for grid search \n",
    "    grid.fit(x, y) \n",
    " \n",
    "    # print best parameter after tuning \n",
    "    print(grid.best_params_) \n",
    "    grid_predictions = grid.predict(x) \n",
    "   \n",
    "    # print classification report \n",
    "    print(classification_report(y, grid_predictions)) "
   ]
  },
  {
   "cell_type": "code",
   "execution_count": 85,
   "metadata": {
    "cell_id": "6add608561c34711bd19bd6c1d52092f",
    "deepnote_cell_type": "code",
    "execution_context_id": "6252f68a-cf26-45d7-8b9c-1ef579e9752b",
    "execution_millis": 10967,
    "execution_start": 1744139141091,
    "source_hash": "8a035e58"
   },
   "outputs": [],
   "source": [
    "grid_search([0.1, 1, 10, 100], ['l1', 'l2', 'elasticnet'], ['balanced'], ['lbfgs', 'liblinear', 'newton-cg', 'newton-cholesky', 'sag', 'saga'], x_train, y)"
   ]
  },
  {
   "cell_type": "code",
   "execution_count": 87,
   "metadata": {
    "cell_id": "4ce3ecf307ef44298bda5c293b2580fb",
    "deepnote_cell_type": "code",
    "execution_context_id": "6252f68a-cf26-45d7-8b9c-1ef579e9752b",
    "execution_millis": 0,
    "execution_start": 1744139202345,
    "source_hash": "c39240a4"
   },
   "outputs": [],
   "source": [
    "def auc_roc(x, y, display_labels):\n",
    "\n",
    "    logi = LogisticRegression(class_weight='balanced').fit(x, np.array(y))\n",
    "    predicted = logi.predict(x)\n",
    "\n",
    "    roc_auc_score(predicted, y)\n",
    "\n",
    "    disp = ConfusionMatrixDisplay(confusion_matrix(predicted, y), display_labels= display_labels)\n",
    "    disp.plot()\n",
    "\n",
    "    plt.show()"
   ]
  },
  {
   "cell_type": "code",
   "execution_count": 89,
   "metadata": {
    "cell_id": "cf37e6671828478e8ac66a1fed688dd4",
    "deepnote_cell_type": "code",
    "execution_context_id": "6252f68a-cf26-45d7-8b9c-1ef579e9752b",
    "execution_millis": 299,
    "execution_start": 1744139210081,
    "source_hash": "e10b7631"
   },
   "outputs": [],
   "source": [
    "auc_roc(x_train, y, ['a', 'b'])"
   ]
  },
  {
   "cell_type": "markdown",
   "metadata": {
    "cell_id": "f7a83032b77a429e977d4a3d01d58610",
    "deepnote_cell_type": "text-cell-h2",
    "formattedRanges": [
     {
      "fromCodePoint": 0,
      "marks": {
       "bold": true
      },
      "toCodePoint": 3,
      "type": "marks"
     }
    ]
   },
   "source": [
    "## 5. Model Tuning"
   ]
  },
  {
   "cell_type": "markdown",
   "metadata": {
    "cell_id": "8f05f0e01ab34265b5bc1b3244d69ca6",
    "deepnote_cell_type": "text-cell-h3",
    "formattedRanges": []
   },
   "source": [
    "### 5.1 Feature Elimination"
   ]
  },
  {
   "cell_type": "markdown",
   "metadata": {
    "cell_id": "86e7bded9f76464886ef57cc7d89a696",
    "deepnote_cell_type": "text-cell-p",
    "formattedRanges": []
   },
   "source": [
    "Use only variables from RFE and Coefficient and Odds ratio say are most important "
   ]
  },
  {
   "cell_type": "code",
   "execution_count": 1,
   "metadata": {
    "cell_id": "f4b3324991a14c93a2e7e7076eb57b14",
    "deepnote_cell_type": "code",
    "execution_context_id": "5f0b8185-d80b-4bbe-a405-5d0255fa73eb",
    "execution_millis": 1344,
    "execution_start": 1744210939879,
    "source_hash": "10a34c06"
   },
   "outputs": [],
   "source": [
    "x_train_new = df[['put_columns_here']]\n",
    "y_new = df[['put_y_here']] \n",
    "\n",
    "x_test_new = df[['put_columns_here']]"
   ]
  },
  {
   "cell_type": "code",
   "execution_count": null,
   "metadata": {
    "cell_id": "ebc298312c114474809ec7c192277324",
    "deepnote_cell_type": "code",
    "deepnote_to_be_reexecuted": true
   },
   "outputs": [],
   "source": [
    "run_classification_report(x_train_new, y_new)"
   ]
  },
  {
   "cell_type": "markdown",
   "metadata": {
    "cell_id": "c65a5c5181c643789253aed5a6e35fe2",
    "deepnote_cell_type": "text-cell-h3",
    "formattedRanges": [
     {
      "fromCodePoint": 0,
      "marks": {
       "bold": true
      },
      "toCodePoint": 3,
      "type": "marks"
     }
    ]
   },
   "source": [
    "### 5.2 SMOTE (Synthetic Minority Over-Sampling Technique)"
   ]
  },
  {
   "cell_type": "markdown",
   "metadata": {
    "cell_id": "6c40e916a0894c4d8e45068c8655700b",
    "deepnote_cell_type": "text-cell-p",
    "formattedRanges": []
   },
   "source": [
    "In cases where one class of data is much smaller than the other you can use SMOTE to create new fake data in the smaller class to balance them out and run a more accurate model. "
   ]
  },
  {
   "cell_type": "code",
   "execution_count": 3,
   "metadata": {
    "cell_id": "48ae8bd76c2746f487670a7bacd486a3",
    "deepnote_cell_type": "code",
    "execution_context_id": "5f0b8185-d80b-4bbe-a405-5d0255fa73eb",
    "execution_millis": 1,
    "execution_start": 1744210978635,
    "source_hash": "4ceda9aa"
   },
   "outputs": [],
   "source": [
    "def smote(k_neighbors, x, y):\n",
    "\n",
    "    sm = SMOTE(random_state=1993, k_neighbors=k_neighbors)\n",
    "\n",
    "    X_res, y_res = sm.fit_resample(x, y)\n",
    "\n",
    "    logi = LogisticRegression(class_weight='balanced').fit(X_res, np.array(y_res))\n",
    "\n",
    "    predicted = logi.predict(X_res)\n",
    "\n",
    "    print(classification_report(predicted, y_res))"
   ]
  },
  {
   "cell_type": "code",
   "execution_count": 5,
   "metadata": {
    "cell_id": "6080dc5115c8418e858db77dd58866a2",
    "deepnote_cell_type": "code",
    "execution_context_id": "5f0b8185-d80b-4bbe-a405-5d0255fa73eb",
    "execution_millis": 14,
    "execution_start": 1744210984914,
    "source_hash": "aed382e"
   },
   "outputs": [],
   "source": [
    "smote(5, x_train, y)"
   ]
  },
  {
   "cell_type": "markdown",
   "metadata": {
    "cell_id": "bca6835636704f7c84519d45edcfdc36",
    "deepnote_cell_type": "text-cell-h3",
    "formattedRanges": [
     {
      "fromCodePoint": 0,
      "marks": {
       "bold": true
      },
      "toCodePoint": 4,
      "type": "marks"
     }
    ]
   },
   "source": [
    "### 5.3 Re-run Evaluation Techniques"
   ]
  },
  {
   "cell_type": "markdown",
   "metadata": {
    "cell_id": "2842ba05aa824b50a2733130dec887d8",
    "deepnote_cell_type": "text-cell-p",
    "formattedRanges": []
   },
   "source": [
    "Rerun RFE, grid search, and AUC/ROC to see if best variables and hyperparameters have changed and rerun the model"
   ]
  },
  {
   "cell_type": "code",
   "execution_count": null,
   "metadata": {
    "cell_id": "69afe3c2bcd448ed8e4c610a73db3164",
    "deepnote_cell_type": "code"
   },
   "outputs": [],
   "source": [
    "run_rfe(LogisticRegression(), 1, 'accuracy', x_train, y, False)"
   ]
  },
  {
   "cell_type": "code",
   "execution_count": null,
   "metadata": {
    "cell_id": "0fb374aa3fdf460db38910437f302c81",
    "deepnote_cell_type": "code"
   },
   "outputs": [],
   "source": [
    "grid_search([0.1, 1, 10, 100], ['l1', 'l2', 'elasticnet'], ['balanced'], ['lbfgs', 'liblinear', 'newton-cg', 'newton-cholesky', 'sag', 'saga'], x_train, y)"
   ]
  },
  {
   "cell_type": "code",
   "execution_count": null,
   "metadata": {
    "cell_id": "292bce2593ee46ffaf2161f13fc5a721",
    "deepnote_cell_type": "code"
   },
   "outputs": [],
   "source": [
    "auc_roc(x_train, y, ['Non-renewed', 'Renewed'])            "
   ]
  },
  {
   "cell_type": "markdown",
   "metadata": {
    "cell_id": "10e2b19089304e6fb4c54f183bb4630a",
    "deepnote_cell_type": "text-cell-h2",
    "formattedRanges": [
     {
      "fromCodePoint": 0,
      "marks": {
       "bold": true
      },
      "toCodePoint": 15,
      "type": "marks"
     }
    ]
   },
   "source": [
    "## 6. Final Output"
   ]
  },
  {
   "cell_type": "markdown",
   "metadata": {
    "cell_id": "41e935209ca74a90834b9c14306b5100",
    "deepnote_cell_type": "text-cell-p",
    "formattedRanges": []
   },
   "source": [
    "Make sure the final result is in a useable format for your specific scenario."
   ]
  },
  {
   "cell_type": "code",
   "execution_count": null,
   "metadata": {
    "cell_id": "27d89fc3aa7e45afa0835ab52fc0834a",
    "deepnote_cell_type": "code"
   },
   "outputs": [],
   "source": [
    "df_final = [['put_x_columns_here', 'put_y_here']]"
   ]
  }
 ],
 "metadata": {
  "deepnote_app_clear_outputs": false,
  "deepnote_app_execution_enabled": false,
  "deepnote_app_layout": "powerful-article",
  "deepnote_app_reactivity_enabled": false,
  "deepnote_app_run_on_input_enabled": false,
  "deepnote_app_run_on_load_enabled": false,
  "deepnote_notebook_id": "b330c772ef764b748d5811e5fad2838f",
  "kernelspec": {
   "display_name": "venv",
   "language": "python",
   "name": "python3"
  },
  "language_info": {
   "codemirror_mode": {
    "name": "ipython",
    "version": 3
   },
   "file_extension": ".py",
   "mimetype": "text/x-python",
   "name": "python",
   "nbconvert_exporter": "python",
   "pygments_lexer": "ipython3",
   "version": "3.11.9"
  }
 },
 "nbformat": "4",
 "nbformat_minor": "0"
}
