{
 "cells": [
  {
   "cell_type": "code",
   "execution_count": 1,
   "id": "19e89a92",
   "metadata": {},
   "outputs": [],
   "source": [
    "import pandas as pd\n",
    "import numpy as np\n",
    "from catnip.fla_redshift import FLA_Redshift\n",
    "from sqlalchemy import null\n",
    "from datetime import datetime\n",
    "\n",
    "from prefect.blocks.system import Secret\n",
    "from typing import Dict\n",
    "from concurrent.futures import ThreadPoolExecutor"
   ]
  },
  {
   "cell_type": "code",
   "execution_count": 2,
   "id": "1c2ccd7d",
   "metadata": {},
   "outputs": [],
   "source": [
    "def get_redshift_credentials() -> Dict:\n",
    "\n",
    "    cred_dict = {\n",
    "        \"dbname\": Secret.load(\"stellar-redshift-db-name\").get(),\n",
    "        \"host\": Secret.load(\"stellar-redshift-host\").get(),\n",
    "        \"port\": 5439,\n",
    "        \"user\": Secret.load(\"stellar-redshift-user-name\").get(),\n",
    "        \"password\": Secret.load(\"stellar-redshift-password\").get(),\n",
    "\n",
    "        \"aws_access_key_id\": Secret.load(\"fla-s3-aws-access-key-id-east-1\").get(),\n",
    "        \"aws_secret_access_key\": Secret.load(\"fla-s3-aws-secret-access-key-east-1\").get(),\n",
    "        \"bucket\": Secret.load(\"fla-s3-bucket-name-east-1\").get(),\n",
    "        \"subdirectory\": \"us-east-1\",\n",
    "\n",
    "        \"verbose\": False,\n",
    "    }\n",
    "\n",
    "    return cred_dict\n",
    "\n",
    "with ThreadPoolExecutor(1) as pool:\n",
    "    rs_creds = pool.submit(lambda: get_redshift_credentials()).result()"
   ]
  },
  {
   "cell_type": "code",
   "execution_count": 16,
   "id": "b6f38073",
   "metadata": {},
   "outputs": [],
   "source": [
    "q = \"\"\"\n",
    "WITH formstack_data AS (\n",
    "    SELECT\n",
    "        lower(email_address) AS email,\n",
    "        form_name,\n",
    "        min(date(submission_timestamp)) AS formstack_date\n",
    "    FROM\n",
    "        custom.formstack_v_community_events_all\n",
    "    GROUP BY\n",
    "        email,\n",
    "        form_name),\n",
    "ticket_data AS (\n",
    "    SELECT\n",
    "        lower(email) as email,\n",
    "        min(date(transaction_datetime)) AS min_ticket_date\n",
    "    FROM\n",
    "        custom.cth_v_historical_ticket ticket\n",
    "    JOIN\n",
    "        custom.korepss_externalsystemtocontact ext ON ticket.purchaser_ticketing_id = ext.externalcontactid\n",
    "    JOIN\n",
    "        custom.korepss_contacts contacts ON ext.crmcontactid = contacts.contactid\n",
    "    GROUP BY\n",
    "        email\n",
    ")\n",
    "SELECT\n",
    "    *\n",
    "FROM\n",
    "    formstack_data\n",
    "LEFT JOIN\n",
    "    ticket_data USING (email)\n",
    "\"\"\"\n",
    "\n",
    "df = FLA_Redshift(**rs_creds).query_warehouse(sql_string = q)"
   ]
  },
  {
   "cell_type": "code",
   "execution_count": 18,
   "id": "5ab8eb21",
   "metadata": {},
   "outputs": [],
   "source": [
    "df['min_ticket_date'] = df['min_ticket_date'].fillna(0)\n",
    "\n",
    "df['pre_formstack_email'] = df.apply(lambda row: 0 if row['min_ticket_date'] == 0 else (1 if row['formstack_date'] < row['min_ticket_date'] else 0), axis = 1)\n",
    "df['post_formstack_email'] = df.apply(lambda row: 0 if row['min_ticket_date'] == 0 else (1 if row['formstack_date'] >= row['min_ticket_date'] else 0), axis = 1)\n",
    "df['no_tickets'] = df.apply(lambda row: 1 if row['min_ticket_date'] == 0 else 0, axis = 1)"
   ]
  },
  {
   "cell_type": "code",
   "execution_count": 21,
   "id": "f8334fb8",
   "metadata": {},
   "outputs": [
    {
     "data": {
      "text/plain": [
       "9928"
      ]
     },
     "execution_count": 21,
     "metadata": {},
     "output_type": "execute_result"
    }
   ],
   "source": [
    "df['post_formstack_email'].sum()"
   ]
  }
 ],
 "metadata": {
  "kernelspec": {
   "display_name": "venv",
   "language": "python",
   "name": "python3"
  },
  "language_info": {
   "codemirror_mode": {
    "name": "ipython",
    "version": 3
   },
   "file_extension": ".py",
   "mimetype": "text/x-python",
   "name": "python",
   "nbconvert_exporter": "python",
   "pygments_lexer": "ipython3",
   "version": "3.11.9"
  }
 },
 "nbformat": 4,
 "nbformat_minor": 5
}
