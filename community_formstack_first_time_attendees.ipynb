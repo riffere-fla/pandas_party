{
 "cells": [
  {
   "cell_type": "code",
   "execution_count": 1,
   "id": "19e89a92",
   "metadata": {},
   "outputs": [],
   "source": [
    "import pandas as pd\n",
    "import numpy as np\n",
    "from catnip.fla_redshift import FLA_Redshift\n",
    "from sqlalchemy import null\n",
    "from datetime import datetime\n",
    "\n",
    "from prefect.blocks.system import Secret\n",
    "from typing import Dict\n",
    "from concurrent.futures import ThreadPoolExecutor"
   ]
  },
  {
   "cell_type": "code",
   "execution_count": 2,
   "id": "1c2ccd7d",
   "metadata": {},
   "outputs": [],
   "source": [
    "def get_redshift_credentials() -> Dict:\n",
    "\n",
    "    cred_dict = {\n",
    "        \"dbname\": Secret.load(\"stellar-redshift-db-name\").get(),\n",
    "        \"host\": Secret.load(\"stellar-redshift-host\").get(),\n",
    "        \"port\": 5439,\n",
    "        \"user\": Secret.load(\"stellar-redshift-user-name\").get(),\n",
    "        \"password\": Secret.load(\"stellar-redshift-password\").get(),\n",
    "\n",
    "        \"aws_access_key_id\": Secret.load(\"fla-s3-aws-access-key-id-east-1\").get(),\n",
    "        \"aws_secret_access_key\": Secret.load(\"fla-s3-aws-secret-access-key-east-1\").get(),\n",
    "        \"bucket\": Secret.load(\"fla-s3-bucket-name-east-1\").get(),\n",
    "        \"subdirectory\": \"us-east-1\",\n",
    "\n",
    "        \"verbose\": False,\n",
    "    }\n",
    "\n",
    "    return cred_dict\n",
    "\n",
    "with ThreadPoolExecutor(1) as pool:\n",
    "    rs_creds = pool.submit(lambda: get_redshift_credentials()).result()"
   ]
  },
  {
   "cell_type": "code",
   "execution_count": 3,
   "id": "b6f38073",
   "metadata": {},
   "outputs": [],
   "source": [
    "q = \"\"\"\n",
    "WITH formstack_data AS (\n",
    "    SELECT\n",
    "        lower(email_address) AS email,\n",
    "        form_name,\n",
    "        min(date(submission_timestamp)) AS formstack_date\n",
    "    FROM\n",
    "        custom.formstack_v_community_events_all\n",
    "    GROUP BY\n",
    "        email,\n",
    "        form_name),\n",
    "ticket_data AS (\n",
    "    SELECT\n",
    "        lower(email) as email,\n",
    "        min(date(transaction_datetime)) AS min_ticket_date\n",
    "    FROM\n",
    "        custom.cth_v_historical_ticket ticket\n",
    "    JOIN\n",
    "        custom.korepss_externalsystemtocontact ext ON ticket.purchaser_ticketing_id = ext.externalcontactid\n",
    "    JOIN\n",
    "        custom.korepss_contacts contacts ON ext.crmcontactid = contacts.contactid\n",
    "    GROUP BY\n",
    "        email\n",
    ")\n",
    "SELECT\n",
    "    *\n",
    "FROM\n",
    "    formstack_data\n",
    "LEFT JOIN\n",
    "    ticket_data USING (email)\n",
    "\"\"\"\n",
    "\n",
    "df = FLA_Redshift(**rs_creds).query_warehouse(sql_string = q)"
   ]
  },
  {
   "cell_type": "code",
   "execution_count": 4,
   "id": "ba360ad6",
   "metadata": {},
   "outputs": [
    {
     "data": {
      "application/vnd.microsoft.datawrangler.viewer.v0+json": {
       "columns": [
        {
         "name": "index",
         "rawType": "int64",
         "type": "integer"
        },
        {
         "name": "email",
         "rawType": "object",
         "type": "string"
        },
        {
         "name": "form_name",
         "rawType": "object",
         "type": "string"
        },
        {
         "name": "formstack_date",
         "rawType": "object",
         "type": "unknown"
        },
        {
         "name": "min_ticket_date",
         "rawType": "object",
         "type": "unknown"
        }
       ],
       "ref": "7ec687a3-17b9-44e4-8a59-e3b69aab12bc",
       "rows": [
        [
         "0",
         "johnjayperezfl@aol.com",
         "Riptide Beach Festival",
         "2023-12-03",
         "2022-02-12"
        ],
        [
         "1",
         "mtrescastro92@gmail.com",
         "Rockin Rib Run",
         "2021-11-21",
         "2021-04-06"
        ],
        [
         "2",
         "latoyasmith.med@gmail.com",
         "Autism Speaks Broward",
         "2023-10-01",
         "2022-03-03"
        ],
        [
         "3",
         "diannelamas@yahoo.com",
         "Train + REO Speedwagon",
         "2024-08-21",
         "2021-11-26"
        ],
        [
         "4",
         "diannelamas@yahoo.com",
         "ADA Step Out Walk",
         "2023-09-23",
         "2021-11-26"
        ],
        [
         "5",
         "diannelamas@yahoo.com",
         "Earth Wind and Fire",
         "2024-08-17",
         "2021-11-26"
        ],
        [
         "6",
         "diannelamas@yahoo.com",
         "Janet Jackson",
         "2024-07-18",
         "2021-11-26"
        ],
        [
         "7",
         "diannelamas@yahoo.com",
         "Luke Bryan",
         "2022-11-04",
         "2021-11-26"
        ],
        [
         "8",
         "diannelamas@yahoo.com",
         "Sammy Hagar",
         "2024-07-13",
         "2021-11-26"
        ],
        [
         "9",
         "diannelamas@yahoo.com",
         "Alanis Morissette",
         "2024-06-20",
         "2021-11-26"
        ],
        [
         "10",
         "diannelamas@yahoo.com",
         "Alabama",
         "2023-04-29",
         "2021-11-26"
        ],
        [
         "11",
         "rmpeisenstein@gmail.com",
         "Coral Springs All Star Celebration",
         "2023-02-01",
         "2022-03-05"
        ],
        [
         "12",
         "stevengonzalez16sg@gmail.com",
         "Delray Beach Pub Crawl",
         "2022-05-07",
         "2021-04-06"
        ],
        [
         "13",
         "stevengonzalez16sg@gmail.com",
         "Supercar Saturday",
         "2021-07-10",
         "2021-04-06"
        ],
        [
         "14",
         "cknox14@gmail.com",
         "Audacy Music Festival",
         "2021-12-05",
         "2021-11-24"
        ],
        [
         "15",
         "denis.martel.444@gmail.com",
         "Broward County Libraries ArtLit",
         "2024-02-10",
         "2021-11-28"
        ],
        [
         "16",
         "albertocf501@hotmail.com",
         "Dierks Bentley",
         "2023-07-15",
         "2022-04-14"
        ],
        [
         "17",
         "brenthorwitz@gmail.com",
         "Rd 2 Game 1 Watch Party (Backyard)",
         "2023-05-02",
         "2021-04-21"
        ],
        [
         "18",
         "jfann21@gmail.com",
         "Funky Buddha Watch Party",
         "2021-12-07",
         "2021-10-18"
        ],
        [
         "19",
         "miguelrionda@hotmail.com",
         "Dave Matthews",
         "2021-07-30",
         "2022-01-25"
        ],
        [
         "20",
         "jessicarapaport@gmail.com",
         "Bites N Sips",
         "2023-05-12",
         "2021-12-14"
        ],
        [
         "21",
         "mmayor883@gmail.com",
         "Weston Town Center Easter Family Fun Day",
         "2024-03-31",
         "2022-03-22"
        ],
        [
         "22",
         "summer.matthews123@icloud.com",
         "Midnight Sun Festival - Sunday",
         "2022-03-06",
         "2022-03-19"
        ],
        [
         "23",
         "summer.matthews123@icloud.com",
         "Black Keys",
         "2022-08-24",
         "2022-03-19"
        ],
        [
         "24",
         "mecca0912@gmail.com",
         "Winterfest Boat Parade",
         "2022-12-10",
         "2021-11-01"
        ],
        [
         "25",
         "mecca0912@gmail.com",
         "MODS Noon Year's Eve",
         "2023-12-31",
         "2021-11-01"
        ],
        [
         "26",
         "mecca0912@gmail.com",
         "Coral Springs All Star Celebration",
         "2023-02-01",
         "2021-11-01"
        ],
        [
         "27",
         "tunafla@att.net",
         "Coconut Creek Butterfly Expo",
         "2025-02-22",
         "2021-11-29"
        ],
        [
         "28",
         "bryce@claimtrouble.com",
         "Coral Springs All Star Celebration",
         "2023-02-01",
         "2021-10-25"
        ],
        [
         "29",
         "sean@rvmaster.org",
         "Brad Paisley Concert",
         "2021-07-10",
         "2021-03-02"
        ],
        [
         "30",
         "sean@rvmaster.org",
         "Jameson Watch Party (Tin Roof Delray)",
         "2023-02-18",
         "2021-03-02"
        ],
        [
         "31",
         "sean@rvmaster.org",
         "Alabama",
         "2023-04-29",
         "2021-03-02"
        ],
        [
         "32",
         "sean@rvmaster.org",
         "Panthers Playoff Pub Crawl",
         "2024-04-20",
         "2021-03-02"
        ],
        [
         "33",
         "sean@rvmaster.org",
         "Jameson Watch Party (Tin Roof Ftl)",
         "2023-04-01",
         "2021-03-02"
        ],
        [
         "34",
         "mmiller1120@yahoo.com",
         "Brooks and Dunn",
         "2024-05-03",
         "2022-03-28"
        ],
        [
         "35",
         "nickcatano01@gmail.com",
         "Coral Springs All Star Celebration",
         "2023-02-01",
         "2022-04-15"
        ],
        [
         "36",
         "billy33073@gmail.com",
         "Boynton Beach Night Market",
         "2023-07-29",
         "2021-12-30"
        ],
        [
         "37",
         "billy33073@gmail.com",
         "Coconut Creek Butterfly Run",
         "2025-02-02",
         "2021-12-30"
        ],
        [
         "38",
         "chetn82@gmail.com",
         "Watch Party",
         "2023-01-08",
         "2021-12-27"
        ],
        [
         "39",
         "mwcorbin@bellsouth.net",
         "Coral Springs All Star Celebration",
         "2023-02-01",
         "2021-03-07"
        ],
        [
         "40",
         "gary@garysingerlaw.com",
         "IceDen Thanksgiving Tournament",
         "2021-11-26",
         "2021-03-29"
        ],
        [
         "41",
         "gary@garysingerlaw.com",
         "Coral Springs All Star Celebration",
         "2023-02-01",
         "2021-03-29"
        ],
        [
         "42",
         "kelly.alyssa.13@gmail.com",
         "Walk for Wishes",
         "2022-02-05",
         "2021-11-25"
        ],
        [
         "43",
         "michmk@gmail.com",
         "Boca Pumpkin Patch",
         "2021-10-30",
         "2021-10-28"
        ],
        [
         "44",
         "stefanwillette@yahoo.com",
         "Foreigner",
         "2024-07-19",
         "2021-11-30"
        ],
        [
         "45",
         "stefanwillette@yahoo.com",
         "Stanley Cup Championship Celebration",
         "2024-06-30",
         "2021-11-30"
        ],
        [
         "46",
         "kyle_schr@yahoo.com",
         "Riptide Beach Festival",
         "2023-12-02",
         "2022-04-08"
        ],
        [
         "47",
         "glenbenjamin1@gmail.com",
         "Tri Rail Fun Day",
         "2022-02-19",
         "2021-10-21"
        ],
        [
         "48",
         "stacibenson@ymail.com",
         "Post Malone",
         "2023-07-31",
         "2021-07-21"
        ],
        [
         "49",
         "zaretjm@gmail.com",
         "SW Regional SRT",
         "2023-07-11",
         "2021-04-26"
        ]
       ],
       "shape": {
        "columns": 4,
        "rows": 99098
       }
      },
      "text/html": [
       "<div>\n",
       "<style scoped>\n",
       "    .dataframe tbody tr th:only-of-type {\n",
       "        vertical-align: middle;\n",
       "    }\n",
       "\n",
       "    .dataframe tbody tr th {\n",
       "        vertical-align: top;\n",
       "    }\n",
       "\n",
       "    .dataframe thead th {\n",
       "        text-align: right;\n",
       "    }\n",
       "</style>\n",
       "<table border=\"1\" class=\"dataframe\">\n",
       "  <thead>\n",
       "    <tr style=\"text-align: right;\">\n",
       "      <th></th>\n",
       "      <th>email</th>\n",
       "      <th>form_name</th>\n",
       "      <th>formstack_date</th>\n",
       "      <th>min_ticket_date</th>\n",
       "    </tr>\n",
       "  </thead>\n",
       "  <tbody>\n",
       "    <tr>\n",
       "      <th>0</th>\n",
       "      <td>johnjayperezfl@aol.com</td>\n",
       "      <td>Riptide Beach Festival</td>\n",
       "      <td>2023-12-03</td>\n",
       "      <td>2022-02-12</td>\n",
       "    </tr>\n",
       "    <tr>\n",
       "      <th>1</th>\n",
       "      <td>mtrescastro92@gmail.com</td>\n",
       "      <td>Rockin Rib Run</td>\n",
       "      <td>2021-11-21</td>\n",
       "      <td>2021-04-06</td>\n",
       "    </tr>\n",
       "    <tr>\n",
       "      <th>2</th>\n",
       "      <td>latoyasmith.med@gmail.com</td>\n",
       "      <td>Autism Speaks Broward</td>\n",
       "      <td>2023-10-01</td>\n",
       "      <td>2022-03-03</td>\n",
       "    </tr>\n",
       "    <tr>\n",
       "      <th>3</th>\n",
       "      <td>diannelamas@yahoo.com</td>\n",
       "      <td>Train + REO Speedwagon</td>\n",
       "      <td>2024-08-21</td>\n",
       "      <td>2021-11-26</td>\n",
       "    </tr>\n",
       "    <tr>\n",
       "      <th>4</th>\n",
       "      <td>diannelamas@yahoo.com</td>\n",
       "      <td>ADA Step Out Walk</td>\n",
       "      <td>2023-09-23</td>\n",
       "      <td>2021-11-26</td>\n",
       "    </tr>\n",
       "    <tr>\n",
       "      <th>...</th>\n",
       "      <td>...</td>\n",
       "      <td>...</td>\n",
       "      <td>...</td>\n",
       "      <td>...</td>\n",
       "    </tr>\n",
       "    <tr>\n",
       "      <th>99093</th>\n",
       "      <td>jprosenbaum@comcast.net</td>\n",
       "      <td>Audacy Music Festival</td>\n",
       "      <td>2021-12-05</td>\n",
       "      <td>None</td>\n",
       "    </tr>\n",
       "    <tr>\n",
       "      <th>99094</th>\n",
       "      <td>aalison.fu@gmail.com</td>\n",
       "      <td>Wynwood Marketplace</td>\n",
       "      <td>2022-04-30</td>\n",
       "      <td>None</td>\n",
       "    </tr>\n",
       "    <tr>\n",
       "      <th>99095</th>\n",
       "      <td>carleybedillion@gmail.com</td>\n",
       "      <td>Tri Rail Fun Day</td>\n",
       "      <td>2022-02-24</td>\n",
       "      <td>None</td>\n",
       "    </tr>\n",
       "    <tr>\n",
       "      <th>99096</th>\n",
       "      <td>carolinesepstein@gmail.com</td>\n",
       "      <td>Winterfest Family Fun Day</td>\n",
       "      <td>2021-11-21</td>\n",
       "      <td>None</td>\n",
       "    </tr>\n",
       "    <tr>\n",
       "      <th>99097</th>\n",
       "      <td>drey7689@gmail.com</td>\n",
       "      <td>Tunes N Trucks</td>\n",
       "      <td>2022-02-04</td>\n",
       "      <td>None</td>\n",
       "    </tr>\n",
       "  </tbody>\n",
       "</table>\n",
       "<p>99098 rows × 4 columns</p>\n",
       "</div>"
      ],
      "text/plain": [
       "                            email                  form_name formstack_date  \\\n",
       "0          johnjayperezfl@aol.com     Riptide Beach Festival     2023-12-03   \n",
       "1         mtrescastro92@gmail.com             Rockin Rib Run     2021-11-21   \n",
       "2       latoyasmith.med@gmail.com      Autism Speaks Broward     2023-10-01   \n",
       "3           diannelamas@yahoo.com     Train + REO Speedwagon     2024-08-21   \n",
       "4           diannelamas@yahoo.com          ADA Step Out Walk     2023-09-23   \n",
       "...                           ...                        ...            ...   \n",
       "99093     jprosenbaum@comcast.net      Audacy Music Festival     2021-12-05   \n",
       "99094        aalison.fu@gmail.com        Wynwood Marketplace     2022-04-30   \n",
       "99095   carleybedillion@gmail.com           Tri Rail Fun Day     2022-02-24   \n",
       "99096  carolinesepstein@gmail.com  Winterfest Family Fun Day     2021-11-21   \n",
       "99097          drey7689@gmail.com             Tunes N Trucks     2022-02-04   \n",
       "\n",
       "      min_ticket_date  \n",
       "0          2022-02-12  \n",
       "1          2021-04-06  \n",
       "2          2022-03-03  \n",
       "3          2021-11-26  \n",
       "4          2021-11-26  \n",
       "...               ...  \n",
       "99093            None  \n",
       "99094            None  \n",
       "99095            None  \n",
       "99096            None  \n",
       "99097            None  \n",
       "\n",
       "[99098 rows x 4 columns]"
      ]
     },
     "execution_count": 4,
     "metadata": {},
     "output_type": "execute_result"
    }
   ],
   "source": [
    "df"
   ]
  },
  {
   "cell_type": "code",
   "execution_count": null,
   "id": "5ab8eb21",
   "metadata": {},
   "outputs": [],
   "source": [
    "df['min_ticket_date'] = df['min_ticket_date'].fillna(0)\n",
    "\n",
    "df['pre_formstack_email'] = df.apply(lambda row: 0 if row['min_ticket_date'] == 0 else (1 if row['formstack_date'] < row['min_ticket_date'] else 0), axis = 1)\n",
    "df['post_formstack_email'] = df.apply(lambda row: 0 if row['min_ticket_date'] == 0 else (1 if row['formstack_date'] >= row['min_ticket_date'] else 0), axis = 1)\n",
    "df['no_tickets'] = df.apply(lambda row: 1 if row['min_ticket_date'] == 0 else 0, axis = 1)"
   ]
  },
  {
   "cell_type": "code",
   "execution_count": 8,
   "id": "f8334fb8",
   "metadata": {},
   "outputs": [
    {
     "data": {
      "application/vnd.microsoft.datawrangler.viewer.v0+json": {
       "columns": [
        {
         "name": "index",
         "rawType": "int64",
         "type": "integer"
        },
        {
         "name": "email",
         "rawType": "object",
         "type": "string"
        },
        {
         "name": "form_name",
         "rawType": "object",
         "type": "string"
        },
        {
         "name": "formstack_date",
         "rawType": "object",
         "type": "unknown"
        },
        {
         "name": "min_ticket_date",
         "rawType": "object",
         "type": "unknown"
        },
        {
         "name": "pre_formstack_email",
         "rawType": "int64",
         "type": "integer"
        },
        {
         "name": "post_formstack_email",
         "rawType": "int64",
         "type": "integer"
        },
        {
         "name": "no_tickets",
         "rawType": "int64",
         "type": "integer"
        }
       ],
       "ref": "864da3f2-716f-4198-b627-4963219a6780",
       "rows": [
        [
         "0",
         "johnjayperezfl@aol.com",
         "Riptide Beach Festival",
         "2023-12-03",
         "2022-02-12",
         "1",
         "0",
         "0"
        ],
        [
         "1",
         "mtrescastro92@gmail.com",
         "Rockin Rib Run",
         "2021-11-21",
         "2021-04-06",
         "1",
         "0",
         "0"
        ],
        [
         "2",
         "latoyasmith.med@gmail.com",
         "Autism Speaks Broward",
         "2023-10-01",
         "2022-03-03",
         "1",
         "0",
         "0"
        ],
        [
         "3",
         "diannelamas@yahoo.com",
         "Train + REO Speedwagon",
         "2024-08-21",
         "2021-11-26",
         "1",
         "0",
         "0"
        ],
        [
         "4",
         "diannelamas@yahoo.com",
         "ADA Step Out Walk",
         "2023-09-23",
         "2021-11-26",
         "1",
         "0",
         "0"
        ],
        [
         "5",
         "diannelamas@yahoo.com",
         "Earth Wind and Fire",
         "2024-08-17",
         "2021-11-26",
         "1",
         "0",
         "0"
        ],
        [
         "6",
         "diannelamas@yahoo.com",
         "Janet Jackson",
         "2024-07-18",
         "2021-11-26",
         "1",
         "0",
         "0"
        ],
        [
         "7",
         "diannelamas@yahoo.com",
         "Luke Bryan",
         "2022-11-04",
         "2021-11-26",
         "1",
         "0",
         "0"
        ],
        [
         "8",
         "diannelamas@yahoo.com",
         "Sammy Hagar",
         "2024-07-13",
         "2021-11-26",
         "1",
         "0",
         "0"
        ],
        [
         "9",
         "diannelamas@yahoo.com",
         "Alanis Morissette",
         "2024-06-20",
         "2021-11-26",
         "1",
         "0",
         "0"
        ],
        [
         "10",
         "diannelamas@yahoo.com",
         "Alabama",
         "2023-04-29",
         "2021-11-26",
         "1",
         "0",
         "0"
        ],
        [
         "11",
         "rmpeisenstein@gmail.com",
         "Coral Springs All Star Celebration",
         "2023-02-01",
         "2022-03-05",
         "1",
         "0",
         "0"
        ],
        [
         "12",
         "stevengonzalez16sg@gmail.com",
         "Delray Beach Pub Crawl",
         "2022-05-07",
         "2021-04-06",
         "1",
         "0",
         "0"
        ],
        [
         "13",
         "stevengonzalez16sg@gmail.com",
         "Supercar Saturday",
         "2021-07-10",
         "2021-04-06",
         "1",
         "0",
         "0"
        ],
        [
         "14",
         "cknox14@gmail.com",
         "Audacy Music Festival",
         "2021-12-05",
         "2021-11-24",
         "1",
         "0",
         "0"
        ],
        [
         "15",
         "denis.martel.444@gmail.com",
         "Broward County Libraries ArtLit",
         "2024-02-10",
         "2021-11-28",
         "1",
         "0",
         "0"
        ],
        [
         "16",
         "albertocf501@hotmail.com",
         "Dierks Bentley",
         "2023-07-15",
         "2022-04-14",
         "1",
         "0",
         "0"
        ],
        [
         "17",
         "brenthorwitz@gmail.com",
         "Rd 2 Game 1 Watch Party (Backyard)",
         "2023-05-02",
         "2021-04-21",
         "1",
         "0",
         "0"
        ],
        [
         "18",
         "jfann21@gmail.com",
         "Funky Buddha Watch Party",
         "2021-12-07",
         "2021-10-18",
         "1",
         "0",
         "0"
        ],
        [
         "19",
         "miguelrionda@hotmail.com",
         "Dave Matthews",
         "2021-07-30",
         "2022-01-25",
         "0",
         "1",
         "0"
        ],
        [
         "20",
         "jessicarapaport@gmail.com",
         "Bites N Sips",
         "2023-05-12",
         "2021-12-14",
         "1",
         "0",
         "0"
        ],
        [
         "21",
         "mmayor883@gmail.com",
         "Weston Town Center Easter Family Fun Day",
         "2024-03-31",
         "2022-03-22",
         "1",
         "0",
         "0"
        ],
        [
         "22",
         "summer.matthews123@icloud.com",
         "Midnight Sun Festival - Sunday",
         "2022-03-06",
         "2022-03-19",
         "0",
         "1",
         "0"
        ],
        [
         "23",
         "summer.matthews123@icloud.com",
         "Black Keys",
         "2022-08-24",
         "2022-03-19",
         "1",
         "0",
         "0"
        ],
        [
         "24",
         "mecca0912@gmail.com",
         "Winterfest Boat Parade",
         "2022-12-10",
         "2021-11-01",
         "1",
         "0",
         "0"
        ],
        [
         "25",
         "mecca0912@gmail.com",
         "MODS Noon Year's Eve",
         "2023-12-31",
         "2021-11-01",
         "1",
         "0",
         "0"
        ],
        [
         "26",
         "mecca0912@gmail.com",
         "Coral Springs All Star Celebration",
         "2023-02-01",
         "2021-11-01",
         "1",
         "0",
         "0"
        ],
        [
         "27",
         "tunafla@att.net",
         "Coconut Creek Butterfly Expo",
         "2025-02-22",
         "2021-11-29",
         "1",
         "0",
         "0"
        ],
        [
         "28",
         "bryce@claimtrouble.com",
         "Coral Springs All Star Celebration",
         "2023-02-01",
         "2021-10-25",
         "1",
         "0",
         "0"
        ],
        [
         "29",
         "sean@rvmaster.org",
         "Brad Paisley Concert",
         "2021-07-10",
         "2021-03-02",
         "1",
         "0",
         "0"
        ],
        [
         "30",
         "sean@rvmaster.org",
         "Jameson Watch Party (Tin Roof Delray)",
         "2023-02-18",
         "2021-03-02",
         "1",
         "0",
         "0"
        ],
        [
         "31",
         "sean@rvmaster.org",
         "Alabama",
         "2023-04-29",
         "2021-03-02",
         "1",
         "0",
         "0"
        ],
        [
         "32",
         "sean@rvmaster.org",
         "Panthers Playoff Pub Crawl",
         "2024-04-20",
         "2021-03-02",
         "1",
         "0",
         "0"
        ],
        [
         "33",
         "sean@rvmaster.org",
         "Jameson Watch Party (Tin Roof Ftl)",
         "2023-04-01",
         "2021-03-02",
         "1",
         "0",
         "0"
        ],
        [
         "34",
         "mmiller1120@yahoo.com",
         "Brooks and Dunn",
         "2024-05-03",
         "2022-03-28",
         "1",
         "0",
         "0"
        ],
        [
         "35",
         "nickcatano01@gmail.com",
         "Coral Springs All Star Celebration",
         "2023-02-01",
         "2022-04-15",
         "1",
         "0",
         "0"
        ],
        [
         "36",
         "billy33073@gmail.com",
         "Boynton Beach Night Market",
         "2023-07-29",
         "2021-12-30",
         "1",
         "0",
         "0"
        ],
        [
         "37",
         "billy33073@gmail.com",
         "Coconut Creek Butterfly Run",
         "2025-02-02",
         "2021-12-30",
         "1",
         "0",
         "0"
        ],
        [
         "38",
         "chetn82@gmail.com",
         "Watch Party",
         "2023-01-08",
         "2021-12-27",
         "1",
         "0",
         "0"
        ],
        [
         "39",
         "mwcorbin@bellsouth.net",
         "Coral Springs All Star Celebration",
         "2023-02-01",
         "2021-03-07",
         "1",
         "0",
         "0"
        ],
        [
         "40",
         "gary@garysingerlaw.com",
         "IceDen Thanksgiving Tournament",
         "2021-11-26",
         "2021-03-29",
         "1",
         "0",
         "0"
        ],
        [
         "41",
         "gary@garysingerlaw.com",
         "Coral Springs All Star Celebration",
         "2023-02-01",
         "2021-03-29",
         "1",
         "0",
         "0"
        ],
        [
         "42",
         "kelly.alyssa.13@gmail.com",
         "Walk for Wishes",
         "2022-02-05",
         "2021-11-25",
         "1",
         "0",
         "0"
        ],
        [
         "43",
         "michmk@gmail.com",
         "Boca Pumpkin Patch",
         "2021-10-30",
         "2021-10-28",
         "1",
         "0",
         "0"
        ],
        [
         "44",
         "stefanwillette@yahoo.com",
         "Foreigner",
         "2024-07-19",
         "2021-11-30",
         "1",
         "0",
         "0"
        ],
        [
         "45",
         "stefanwillette@yahoo.com",
         "Stanley Cup Championship Celebration",
         "2024-06-30",
         "2021-11-30",
         "1",
         "0",
         "0"
        ],
        [
         "46",
         "kyle_schr@yahoo.com",
         "Riptide Beach Festival",
         "2023-12-02",
         "2022-04-08",
         "1",
         "0",
         "0"
        ],
        [
         "47",
         "glenbenjamin1@gmail.com",
         "Tri Rail Fun Day",
         "2022-02-19",
         "2021-10-21",
         "1",
         "0",
         "0"
        ],
        [
         "48",
         "stacibenson@ymail.com",
         "Post Malone",
         "2023-07-31",
         "2021-07-21",
         "1",
         "0",
         "0"
        ],
        [
         "49",
         "zaretjm@gmail.com",
         "SW Regional SRT",
         "2023-07-11",
         "2021-04-26",
         "1",
         "0",
         "0"
        ]
       ],
       "shape": {
        "columns": 7,
        "rows": 99098
       }
      },
      "text/html": [
       "<div>\n",
       "<style scoped>\n",
       "    .dataframe tbody tr th:only-of-type {\n",
       "        vertical-align: middle;\n",
       "    }\n",
       "\n",
       "    .dataframe tbody tr th {\n",
       "        vertical-align: top;\n",
       "    }\n",
       "\n",
       "    .dataframe thead th {\n",
       "        text-align: right;\n",
       "    }\n",
       "</style>\n",
       "<table border=\"1\" class=\"dataframe\">\n",
       "  <thead>\n",
       "    <tr style=\"text-align: right;\">\n",
       "      <th></th>\n",
       "      <th>email</th>\n",
       "      <th>form_name</th>\n",
       "      <th>formstack_date</th>\n",
       "      <th>min_ticket_date</th>\n",
       "      <th>pre_formstack_email</th>\n",
       "      <th>post_formstack_email</th>\n",
       "      <th>no_tickets</th>\n",
       "    </tr>\n",
       "  </thead>\n",
       "  <tbody>\n",
       "    <tr>\n",
       "      <th>0</th>\n",
       "      <td>johnjayperezfl@aol.com</td>\n",
       "      <td>Riptide Beach Festival</td>\n",
       "      <td>2023-12-03</td>\n",
       "      <td>2022-02-12</td>\n",
       "      <td>1</td>\n",
       "      <td>0</td>\n",
       "      <td>0</td>\n",
       "    </tr>\n",
       "    <tr>\n",
       "      <th>1</th>\n",
       "      <td>mtrescastro92@gmail.com</td>\n",
       "      <td>Rockin Rib Run</td>\n",
       "      <td>2021-11-21</td>\n",
       "      <td>2021-04-06</td>\n",
       "      <td>1</td>\n",
       "      <td>0</td>\n",
       "      <td>0</td>\n",
       "    </tr>\n",
       "    <tr>\n",
       "      <th>2</th>\n",
       "      <td>latoyasmith.med@gmail.com</td>\n",
       "      <td>Autism Speaks Broward</td>\n",
       "      <td>2023-10-01</td>\n",
       "      <td>2022-03-03</td>\n",
       "      <td>1</td>\n",
       "      <td>0</td>\n",
       "      <td>0</td>\n",
       "    </tr>\n",
       "    <tr>\n",
       "      <th>3</th>\n",
       "      <td>diannelamas@yahoo.com</td>\n",
       "      <td>Train + REO Speedwagon</td>\n",
       "      <td>2024-08-21</td>\n",
       "      <td>2021-11-26</td>\n",
       "      <td>1</td>\n",
       "      <td>0</td>\n",
       "      <td>0</td>\n",
       "    </tr>\n",
       "    <tr>\n",
       "      <th>4</th>\n",
       "      <td>diannelamas@yahoo.com</td>\n",
       "      <td>ADA Step Out Walk</td>\n",
       "      <td>2023-09-23</td>\n",
       "      <td>2021-11-26</td>\n",
       "      <td>1</td>\n",
       "      <td>0</td>\n",
       "      <td>0</td>\n",
       "    </tr>\n",
       "    <tr>\n",
       "      <th>...</th>\n",
       "      <td>...</td>\n",
       "      <td>...</td>\n",
       "      <td>...</td>\n",
       "      <td>...</td>\n",
       "      <td>...</td>\n",
       "      <td>...</td>\n",
       "      <td>...</td>\n",
       "    </tr>\n",
       "    <tr>\n",
       "      <th>99093</th>\n",
       "      <td>jprosenbaum@comcast.net</td>\n",
       "      <td>Audacy Music Festival</td>\n",
       "      <td>2021-12-05</td>\n",
       "      <td>0</td>\n",
       "      <td>0</td>\n",
       "      <td>0</td>\n",
       "      <td>1</td>\n",
       "    </tr>\n",
       "    <tr>\n",
       "      <th>99094</th>\n",
       "      <td>aalison.fu@gmail.com</td>\n",
       "      <td>Wynwood Marketplace</td>\n",
       "      <td>2022-04-30</td>\n",
       "      <td>0</td>\n",
       "      <td>0</td>\n",
       "      <td>0</td>\n",
       "      <td>1</td>\n",
       "    </tr>\n",
       "    <tr>\n",
       "      <th>99095</th>\n",
       "      <td>carleybedillion@gmail.com</td>\n",
       "      <td>Tri Rail Fun Day</td>\n",
       "      <td>2022-02-24</td>\n",
       "      <td>0</td>\n",
       "      <td>0</td>\n",
       "      <td>0</td>\n",
       "      <td>1</td>\n",
       "    </tr>\n",
       "    <tr>\n",
       "      <th>99096</th>\n",
       "      <td>carolinesepstein@gmail.com</td>\n",
       "      <td>Winterfest Family Fun Day</td>\n",
       "      <td>2021-11-21</td>\n",
       "      <td>0</td>\n",
       "      <td>0</td>\n",
       "      <td>0</td>\n",
       "      <td>1</td>\n",
       "    </tr>\n",
       "    <tr>\n",
       "      <th>99097</th>\n",
       "      <td>drey7689@gmail.com</td>\n",
       "      <td>Tunes N Trucks</td>\n",
       "      <td>2022-02-04</td>\n",
       "      <td>0</td>\n",
       "      <td>0</td>\n",
       "      <td>0</td>\n",
       "      <td>1</td>\n",
       "    </tr>\n",
       "  </tbody>\n",
       "</table>\n",
       "<p>99098 rows × 7 columns</p>\n",
       "</div>"
      ],
      "text/plain": [
       "                            email                  form_name formstack_date  \\\n",
       "0          johnjayperezfl@aol.com     Riptide Beach Festival     2023-12-03   \n",
       "1         mtrescastro92@gmail.com             Rockin Rib Run     2021-11-21   \n",
       "2       latoyasmith.med@gmail.com      Autism Speaks Broward     2023-10-01   \n",
       "3           diannelamas@yahoo.com     Train + REO Speedwagon     2024-08-21   \n",
       "4           diannelamas@yahoo.com          ADA Step Out Walk     2023-09-23   \n",
       "...                           ...                        ...            ...   \n",
       "99093     jprosenbaum@comcast.net      Audacy Music Festival     2021-12-05   \n",
       "99094        aalison.fu@gmail.com        Wynwood Marketplace     2022-04-30   \n",
       "99095   carleybedillion@gmail.com           Tri Rail Fun Day     2022-02-24   \n",
       "99096  carolinesepstein@gmail.com  Winterfest Family Fun Day     2021-11-21   \n",
       "99097          drey7689@gmail.com             Tunes N Trucks     2022-02-04   \n",
       "\n",
       "      min_ticket_date  pre_formstack_email  post_formstack_email  no_tickets  \n",
       "0          2022-02-12                    1                     0           0  \n",
       "1          2021-04-06                    1                     0           0  \n",
       "2          2022-03-03                    1                     0           0  \n",
       "3          2021-11-26                    1                     0           0  \n",
       "4          2021-11-26                    1                     0           0  \n",
       "...               ...                  ...                   ...         ...  \n",
       "99093               0                    0                     0           1  \n",
       "99094               0                    0                     0           1  \n",
       "99095               0                    0                     0           1  \n",
       "99096               0                    0                     0           1  \n",
       "99097               0                    0                     0           1  \n",
       "\n",
       "[99098 rows x 7 columns]"
      ]
     },
     "execution_count": 8,
     "metadata": {},
     "output_type": "execute_result"
    }
   ],
   "source": [
    "df"
   ]
  }
 ],
 "metadata": {
  "kernelspec": {
   "display_name": "venv",
   "language": "python",
   "name": "python3"
  },
  "language_info": {
   "codemirror_mode": {
    "name": "ipython",
    "version": 3
   },
   "file_extension": ".py",
   "mimetype": "text/x-python",
   "name": "python",
   "nbconvert_exporter": "python",
   "pygments_lexer": "ipython3",
   "version": "3.11.9"
  }
 },
 "nbformat": 4,
 "nbformat_minor": 5
}
