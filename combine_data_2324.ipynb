{
 "cells": [
  {
   "cell_type": "code",
   "execution_count": 1,
   "metadata": {},
   "outputs": [],
   "source": [
    "import pandas as pd\n",
    "import numpy as np\n",
    "from datetime import datetime\n",
    "from prefect.blocks.system import Secret\n",
    "from catnip.fla_redshift import FLA_Redshift\n",
    "from typing import Dict\n",
    "from concurrent.futures import ThreadPoolExecutor\n",
    "import openpyxl \n",
    "from catnip.fla_sharepoint import FLA_Sharepoint"
   ]
  },
  {
   "cell_type": "code",
   "execution_count": 2,
   "metadata": {},
   "outputs": [],
   "source": [
    "nightly = pd.read_excel(\"C:\\\\Users\\\\riffere\\\\Florida Panthers\\\\SP-BS - Documents\\Data Science\\Resources\\\\2023-24 Temporary Report Data\\\\23-24 Panthers Nightly Data TSS Temp.xlsx\")\n",
    "plans = pd.read_excel(\"C:\\\\Users\\\\riffere\\\\Florida Panthers\\\\SP-BS - Documents\\Data Science\\Resources\\\\2023-24 Temporary Report Data\\\\23-24 Panthers Subscription Data TSS Temp.xlsx\")"
   ]
  },
  {
   "cell_type": "code",
   "execution_count": 3,
   "metadata": {},
   "outputs": [],
   "source": [
    "df = nightly.groupby(by = ['Plan Type'])[['Gross Revenue','Net Revenue','Tickets']].sum()\n",
    "df.reset_index(inplace = True)\n",
    "df = df[df['Plan Type'].apply(lambda x: len(str(x))>1)]\n",
    "df['FSE'] = 0\n",
    "df1 = nightly.groupby(by = ['Plan Type'])['Customer ID'].nunique()\n",
    "df1 = df1.to_frame()\n",
    "df1.reset_index(inplace = True)\n",
    "df = df.merge(right = df1, how = 'left', on = ['Plan Type'])\n",
    "df['Gross Paid ATP'] = [x/y for x,y in zip(df['Gross Revenue'],df['Tickets'])]\n",
    "df['Net Paid ATP'] = [x/y for x,y in zip(df['Net Revenue'],df['Tickets'])]\n",
    "df['Ticket Type'] = 0\n",
    "df['Recency'] = 0\n",
    "df = df[['Plan Type', 'Ticket Type','Recency','Gross Revenue', 'Net Revenue', 'FSE', 'Tickets','Customer ID', 'Gross Paid ATP',\n",
    "          'Net Paid ATP']].rename(columns = {'Tickets' : 'Paid Seats', 'Customer ID' : 'Unique Accounts'})"
   ]
  },
  {
   "cell_type": "code",
   "execution_count": 11,
   "metadata": {},
   "outputs": [
    {
     "data": {
      "text/plain": [
       "2051076.59"
      ]
     },
     "execution_count": 11,
     "metadata": {},
     "output_type": "execute_result"
    }
   ],
   "source": [
    "df['Gross Revenue'].sum()"
   ]
  },
  {
   "cell_type": "code",
   "execution_count": 4,
   "metadata": {},
   "outputs": [],
   "source": [
    "df2 = plans.groupby(by = ['Plan Type', 'PC2', 'Ticket Type', 'Recency'])[['Gross Revenue','Net Revenue','Tickets']].sum()\n",
    "df2.reset_index(inplace = True)\n",
    "df2 = df2[df2['Plan Type'].apply(lambda x: len(str(x))>1)]\n",
    "df2['Paid Seats'] = [x*y for x,y in zip([42, 42, 42, 42, 42, 42, 42, 42, 25, 25, 25, 25, 42, 42, 42, 42, 25, 25, 42, 42, 42], df2['Tickets'])]\n",
    "df2 = df2.groupby(by = ['Plan Type', 'Ticket Type', 'Recency'])[['Gross Revenue','Net Revenue','Tickets', 'Paid Seats']].sum()\n",
    "df2.reset_index(inplace = True)\n",
    "df3 = plans.groupby(by = ['Plan Type', 'Ticket Type', 'Recency'])['Customer ID'].nunique()\n",
    "df3 = df3.to_frame()\n",
    "df3.reset_index(inplace = True)\n",
    "df2 = df2.merge(right = df3, how = 'left', on = ['Plan Type', 'Ticket Type', 'Recency'])\n",
    "df2['Gross Paid ATP'] = [x/y for x,y in zip(df2['Gross Revenue'],df2['Paid Seats'])]\n",
    "df2['Net Paid ATP'] = [x/y for x,y in zip(df2['Net Revenue'],df2['Paid Seats'])]\n",
    "df2 = df2.rename(columns = {'Tickets' : 'FSE', 'Customer ID' : 'Unique Accounts'})"
   ]
  },
  {
   "cell_type": "code",
   "execution_count": 10,
   "metadata": {},
   "outputs": [
    {
     "data": {
      "text/plain": [
       "35956592.88999999"
      ]
     },
     "execution_count": 10,
     "metadata": {},
     "output_type": "execute_result"
    }
   ],
   "source": [
    "df2['Gross Revenue'].sum()"
   ]
  },
  {
   "cell_type": "code",
   "execution_count": 5,
   "metadata": {},
   "outputs": [],
   "source": [
    "logitix = pd.read_excel(\"C:\\\\Users\\\\riffere\\\\OneDrive - Florida Panthers\\\\Documents\\\\logitix_2324.xlsx\")"
   ]
  },
  {
   "cell_type": "code",
   "execution_count": 6,
   "metadata": {},
   "outputs": [],
   "source": [
    "dffinal = pd.concat([df,df2,logitix])\n",
    "dffinal = dffinal[dffinal['Plan Type'].apply(lambda x: len(str(x))>1)]\n",
    "dffinal = dffinal.reset_index()\n",
    "goal_list = [1100000,3250000,2250000,4250000,5800000,5800000,22650000,22650000,22650000,22650000,22650000,22650000,\n",
    "             6600000,6600000,6600000,6600000,1350000,1350000,1350000,1350000,500000,500000,500000,5250000]\n",
    "dffinal['bugdet_goal'] = goal_list"
   ]
  },
  {
   "cell_type": "code",
   "execution_count": 7,
   "metadata": {},
   "outputs": [
    {
     "name": "stdout",
     "output_type": "stream",
     "text": [
      "/sites/SP-BS/Shared Documents/Data Science/Resources/2023-24 Temporary Report Data/union_2324.csv\n"
     ]
    }
   ],
   "source": [
    "def get_pi_credentials():\n",
    "\n",
    "    credentials = {\n",
    "        \"username\": \"panthersinsights@floridapanthers.com\",\n",
    "        \"password\": Secret.load(\"panthersinsights-email-password\").get()\n",
    "    }\n",
    "\n",
    "    return credentials\n",
    "\n",
    "def load(pi_creds, df: pd.DataFrame) -> None:\n",
    "\n",
    "    FLA_Sharepoint(**pi_creds).upload_dataframe(\n",
    "        df = dffinal,\n",
    "        folder_path = \"Resources/2023-24 Temporary Report Data\",\n",
    "        file_name = \"union_2324\",\n",
    "        as_csv = True,\n",
    "        add_log_date = False\n",
    "    )\n",
    "\n",
    "    return None \n",
    "\n",
    "with ThreadPoolExecutor(1) as pool:\n",
    "    pi_creds = pool.submit(lambda: get_pi_credentials()).result()\n",
    "    load(pi_creds, dffinal)"
   ]
  }
 ],
 "metadata": {
  "kernelspec": {
   "display_name": "venv",
   "language": "python",
   "name": "python3"
  },
  "language_info": {
   "codemirror_mode": {
    "name": "ipython",
    "version": 3
   },
   "file_extension": ".py",
   "mimetype": "text/x-python",
   "name": "python",
   "nbconvert_exporter": "python",
   "pygments_lexer": "ipython3",
   "version": "3.11.4"
  },
  "orig_nbformat": 4
 },
 "nbformat": 4,
 "nbformat_minor": 2
}
