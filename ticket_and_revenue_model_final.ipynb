{
 "cells": [
  {
   "cell_type": "code",
   "execution_count": 3,
   "metadata": {},
   "outputs": [],
   "source": [
    "import pandas as pd\n",
    "import numpy as np\n",
    "from datetime import datetime, date\n",
    "from prefect.blocks.system import Secret\n",
    "from catnip.fla_redshift import FLA_Redshift\n",
    "from typing import Dict\n",
    "from concurrent.futures import ThreadPoolExecutor\n",
    "from datetime import date\n",
    "\n",
    "from sklearn.model_selection import train_test_split\n",
    "from sklearn.preprocessing import StandardScaler\n",
    "from sklearn.ensemble import RandomForestClassifier\n",
    "from sklearn.neighbors import KNeighborsClassifier\n",
    "from sklearn.discriminant_analysis import LinearDiscriminantAnalysis\n",
    "from sklearn.naive_bayes import GaussianNB\n",
    "from collections import Counter\n",
    "\n",
    "from sklearn.metrics import confusion_matrix, accuracy_score, ConfusionMatrixDisplay\n",
    "import matplotlib.pyplot as plt"
   ]
  },
  {
   "cell_type": "code",
   "execution_count": 2,
   "metadata": {},
   "outputs": [],
   "source": [
    "def get_redshift_credentials() -> Dict:\n",
    "\n",
    "    cred_dict = {\n",
    "        \"dbname\": Secret.load(\"stellar-redshift-db-name\").get(),\n",
    "        \"host\": Secret.load(\"stellar-redshift-host\").get(),\n",
    "        \"port\": 5439,\n",
    "        \"user\": Secret.load(\"stellar-redshift-user-name\").get(),\n",
    "        \"password\": Secret.load(\"stellar-redshift-password\").get(),\n",
    "\n",
    "        \"aws_access_key_id\": Secret.load(\"fla-s3-aws-access-key-id-east-1\").get(),\n",
    "        \"aws_secret_access_key\": Secret.load(\"fla-s3-aws-secret-access-key-east-1\").get(),\n",
    "        \"bucket\": Secret.load(\"fla-s3-bucket-name-east-1\").get(),\n",
    "        \"subdirectory\": \"us-east-1\",\n",
    "\n",
    "        \"verbose\": False,\n",
    "    }\n",
    "\n",
    "    return cred_dict\n",
    "\n",
    "with ThreadPoolExecutor(1) as pool:\n",
    "    rs_creds = pool.submit(lambda: get_redshift_credentials()).result()"
   ]
  },
  {
   "cell_type": "code",
   "execution_count": 3,
   "metadata": {},
   "outputs": [],
   "source": [
    "# q = \"\"\"\n",
    "# with seats as\n",
    "#     (select\n",
    "#         distinct seat_id, pc_one\n",
    "#     from\n",
    "#         custom.cth_manifest_2223),\n",
    "# event_dates as\n",
    "#     (select\n",
    "#         event_date, tier, is_premier, original_six_plus_extra, abbreviation\n",
    "#     from\n",
    "#         custom.cth_game_descriptionsv  \n",
    "#     where\n",
    "#         season = '2023-24' and game_type = 1 and event_date = '2023-10-19'),\n",
    "# transaction_dates as\n",
    "#     (select\n",
    "#          transaction_date\n",
    "#      from\n",
    "#          custom.cth_v_ticket_2324\n",
    "#      where\n",
    "#         date(event_datetime) >= date(transaction_date)),\n",
    "# other as\n",
    "#     (select\n",
    "#         event_datetime, section, row, seat, transaction_date,\n",
    "#         cast(section as varchar)+'-'+cast(row as varchar)+'-'+cast(seat as varchar) as seat_id, gross_revenue, ticket_type\n",
    "#     from\n",
    "#         custom.cth_v_ticket_2324),\n",
    "# base as\n",
    "#     (select\n",
    "#         *\n",
    "#     from\n",
    "#         event_dates\n",
    "#     cross join\n",
    "#         seats\n",
    "#     cross join\n",
    "#         transaction_dates)\n",
    "# select\n",
    "#     base.event_date, base.transaction_date, tier, is_premier::int, datediff(day, date(other.transaction_date), date(base.event_date)) as days_out,\n",
    "#     original_six_plus_extra, base.seat_id, abbreviation, pc_one,\n",
    "#         CASE\n",
    "#             WHEN pc_one in ('A', 'B', 'C', 'D', 'E', 'F', 'G', 'H', 'I', 'J', '1', '2', '3', '4', '5', '6', '7', '8')\n",
    "#             THEN 'Lowers'\n",
    "#             WHEN pc_one in ('K', 'L', 'M') THEN 'Clubs'\n",
    "#             WHEN pc_one in ('N', 'O', 'P', 'Q', 'R', 'S', 'T') THEN 'Uppers'\n",
    "#             WHEN pc_one in ('U', 'V', 'W') THEN 'Suites'\n",
    "#             WHEN pc_one in ('X') THEN 'Amerant'\n",
    "#             WHEN pc_one in ('Y') THEN 'Loft'\n",
    "#             WHEN pc_one in ('Z') THEN 'Corona'\n",
    "#             ELSE 'unknown'\n",
    "#             END AS location,\n",
    "#     CASE\n",
    "#         when gross_revenue > 0 then gross_revenue\n",
    "#         else 0\n",
    "#     end as block_purchase_price,\n",
    "#     CASE\n",
    "#         when ticket_type IS NOT NULL then ticket_type\n",
    "#         else 'Not Sold'\n",
    "#     end as ticket_type_final,\n",
    "#     CASE\n",
    "#         when ticket_type_final in ('Full', 'Annual Suites', 'Premier', 'Flex', 'Quarter', 'Sponsor', 'Trade') then 'Plans'\n",
    "#         when ticket_type_final in ('Not Sold') then 'Not Sold'\n",
    "#         else 'Nightly'\n",
    "#     end as ticket_type_group\n",
    "# from\n",
    "#     base\n",
    "# left join\n",
    "#     other on date(base.event_date) = date(other.event_datetime) and base.seat_id = other.seat_id\n",
    "# order by\n",
    "#     base.event_date, base.seat_id\n",
    "# \"\"\"\n",
    "# df_2324 = FLA_Redshift(**rs_creds).query_warehouse(sql_string=q)"
   ]
  },
  {
   "cell_type": "code",
   "execution_count": 27,
   "metadata": {},
   "outputs": [],
   "source": [
    "q = \"\"\"\n",
    "select \n",
    "    event_date, tier, is_premier, original_six_plus_extra\n",
    "from \n",
    "    custom.cth_game_descriptions\n",
    "where \n",
    "    season = '2023-24'\n",
    "\"\"\"\n",
    "tier_df = FLA_Redshift(**rs_creds).query_warehouse(sql_string=q)"
   ]
  },
  {
   "cell_type": "code",
   "execution_count": 28,
   "metadata": {},
   "outputs": [],
   "source": [
    "df_2324 = pd.read_csv(\"C:\\\\Users\\\\riffere\\\\Desktop\\\\emily_ticket_sales_model_data_final.csv\")"
   ]
  },
  {
   "cell_type": "code",
   "execution_count": 29,
   "metadata": {},
   "outputs": [],
   "source": [
    "#df_2324 = df_2324.sample(n = 15000)"
   ]
  },
  {
   "cell_type": "code",
   "execution_count": 30,
   "metadata": {},
   "outputs": [],
   "source": [
    "df_2324 = df_2324.merge(tier_df, on = 'event_date', how = 'left')"
   ]
  },
  {
   "cell_type": "code",
   "execution_count": 31,
   "metadata": {},
   "outputs": [],
   "source": [
    "df_2324['dow'] = [datetime.weekday(datetime.strptime(x, \"%Y-%m-%d\")) for x in df_2324['event_date']]\n",
    "df_2324['tier_num'] = [5 if tier == 'A' else (4 if tier == 'B' else (3 if tier == 'C' else (2 if tier == 'D' else 1))) for tier in df_2324['tier']]\n",
    "#df_2324['random'] = [x for x in (np.random.rand(len(df_2324),1)/2)]\n",
    "\n",
    "pcs = sorted(df_2324['pc_one'].unique())\n",
    "pc_dict = dict((value,count) for count, value in enumerate(pcs))\n",
    "df_2324['pc_num'] = df_2324.apply(lambda row: pc_dict[row['pc_one']], axis = 1)\n",
    "df_2324 = df_2324.sample(n=len(df_2324), random_state=1993)\n",
    "df_2324 = df_2324.reset_index()"
   ]
  },
  {
   "cell_type": "code",
   "execution_count": 32,
   "metadata": {},
   "outputs": [],
   "source": [
    "def run_model(df_test, df_train):\n",
    "\n",
    "    #df_test_subset = df_test[(df_test['days_out'] == days_out) & (df_test['ticket_type_final'] == 'Not Sold')]\n",
    "\n",
    "    X_test = df_test[['dow', 'tier_num', 'pc_num', 'is_premier', 'original_six_plus_extra','days_out']]\n",
    "    y_test = df_test[['is_sold']]\n",
    "\n",
    "    #df_train_subset = df_train[df_train['date_diff'] == days_out]\n",
    "\n",
    "    X_train = df_train[['dow', 'tier_num', 'pc_num', 'is_premier', 'original_six_plus_extra','days_out']]\n",
    "    y_train = df_train[['is_sold']]\n",
    "\n",
    "    if len(X_test) > 0:\n",
    "        ss = StandardScaler()\n",
    "        x_train_scaled = ss.fit_transform(X_train)\n",
    "        x_test_scaled = ss.fit_transform(X_test)\n",
    "\n",
    "        clf = RandomForestClassifier(random_state = 1993)\n",
    "        clf.fit(x_train_scaled, y_train)\n",
    "\n",
    "        predicted_df = pd.DataFrame(data = clf.predict(x_test_scaled), columns = ['is_sold_predicted'])\n",
    "        final_df = pd.concat([df_test, predicted_df], axis = 1)\n",
    "\n",
    "        return final_df"
   ]
  },
  {
   "cell_type": "code",
   "execution_count": 9,
   "metadata": {},
   "outputs": [],
   "source": [
    "# def run_model(df_test, df_train):\n",
    "\n",
    "#     #df_test_subset = df_test[(df_test['days_out'] == days_out) & (df_test['ticket_type_final'] == 'Not Sold')]\n",
    "\n",
    "#     X_test = df_test[['dow', 'tier_num', 'pc_num', 'is_premier', 'original_six_plus_extra','days_out']]\n",
    "#     y_test = df_test[['ticket_type_group']]\n",
    "\n",
    "#     #df_train_subset = df_train[df_train['date_diff'] == days_out]\n",
    "\n",
    "#     X_train = df_train[['dow', 'tier_num', 'pc_num', 'is_premier', 'original_six_plus_extra','days_out']]\n",
    "#     y_train = df_train[['ticket_type_group']]\n",
    "\n",
    "#     if len(X_test) > 0:\n",
    "#         ss = StandardScaler()\n",
    "#         x_train_scaled = ss.fit_transform(X_train)\n",
    "#         x_test_scaled = ss.fit_transform(X_test)\n",
    "\n",
    "#         clf = RandomForestClassifier(random_state = 1993)\n",
    "#         clf.fit(x_train_scaled, y_train)\n",
    "\n",
    "#         predicted_df = pd.DataFrame(data = clf.predict_proba(x_test_scaled), columns = ['Nightly', 'Not Sold', 'Plans'])\n",
    "#         final_df = pd.concat([df_test.reset_index(), predicted_df], axis = 1)\n",
    "\n",
    "#         return df_test"
   ]
  },
  {
   "cell_type": "code",
   "execution_count": 35,
   "metadata": {},
   "outputs": [
    {
     "name": "stderr",
     "output_type": "stream",
     "text": [
      "c:\\Users\\riffere\\Documents\\pandas_party\\venv\\Lib\\site-packages\\sklearn\\base.py:1151: DataConversionWarning: A column-vector y was passed when a 1d array was expected. Please change the shape of y to (n_samples,), for example using ravel().\n",
      "  return fit_method(estimator, *args, **kwargs)\n"
     ]
    },
    {
     "name": "stdout",
     "output_type": "stream",
     "text": [
      "0.9708\n"
     ]
    },
    {
     "data": {
      "image/png": "[encoded data removed]",
      "text/plain": [
       "<Figure size 640x480 with 2 Axes>"
      ]
     },
     "metadata": {},
     "output_type": "display_data"
    }
   ],
   "source": [
    "final_df = run_model(df_2324, df_2324)\n",
    "\n",
    "cm = confusion_matrix(final_df['is_sold'], final_df['is_sold_predicted'])\n",
    "print(accuracy_score(final_df['is_sold'],final_df['is_sold_predicted']))\n",
    "disp = ConfusionMatrixDisplay(confusion_matrix=cm, display_labels=['Sold','Not Sold'])\n",
    "disp.plot()\n",
    "plt.show()"
   ]
  },
  {
   "cell_type": "code",
   "execution_count": 19,
   "metadata": {},
   "outputs": [],
   "source": [
    "# unique_dates = df_2324['event_date'].unique()\n",
    "# today = str(date.today())\n",
    "# final_df = pd.DataFrame()\n",
    "# for event_date in unique_dates:\n",
    "#     days_out = (datetime.strptime(today, '%Y-%m-%d') - datetime.strptime(event_date, '%Y-%m-%d')).days\n",
    "#     #for i in range(1,days_out):\n",
    "#     #    df = run_model(df_2324, df_2324, i)\n",
    "#     #    final_df = pd.concat([final_df,df])\n",
    "#     df = run_model(df_2324, df_2324, 42)\n",
    "#     final_df = pd.concat([final_df,df])\n",
    "# final_df"
   ]
  },
  {
   "cell_type": "code",
   "execution_count": 8,
   "metadata": {},
   "outputs": [
    {
     "data": {
      "text/plain": [
       "predicted\n",
       "Nightly    465\n",
       "Plans      354\n",
       "Name: count, dtype: int64"
      ]
     },
     "execution_count": 8,
     "metadata": {},
     "output_type": "execute_result"
    }
   ],
   "source": [
    "final_df['predicted'].value_counts()"
   ]
  }
 ],
 "metadata": {
  "kernelspec": {
   "display_name": "venv",
   "language": "python",
   "name": "python3"
  },
  "language_info": {
   "codemirror_mode": {
    "name": "ipython",
    "version": 3
   },
   "file_extension": ".py",
   "mimetype": "text/x-python",
   "name": "python",
   "nbconvert_exporter": "python",
   "pygments_lexer": "ipython3",
   "version": "3.11.4"
  }
 },
 "nbformat": 4,
 "nbformat_minor": 2
}
