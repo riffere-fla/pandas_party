{
 "cells": [
  {
   "cell_type": "code",
   "execution_count": 11,
   "metadata": {},
   "outputs": [],
   "source": [
    "import pandas as pd\n",
    "import numpy as np\n",
    "from catnip.fla_redshift import FLA_Redshift\n",
    "from sqlalchemy import null\n",
    "from datetime import datetime\n",
    "\n",
    "from prefect.blocks.system import Secret\n",
    "from typing import Dict\n",
    "from concurrent.futures import ThreadPoolExecutor"
   ]
  },
  {
   "cell_type": "code",
   "execution_count": 12,
   "metadata": {},
   "outputs": [],
   "source": [
    "def get_redshift_credentials() -> Dict:\n",
    "\n",
    "    cred_dict = {\n",
    "        \"dbname\": Secret.load(\"stellar-redshift-db-name\").get(),\n",
    "        \"host\": Secret.load(\"stellar-redshift-host\").get(),\n",
    "        \"port\": 5439,\n",
    "        \"user\": Secret.load(\"stellar-redshift-user-name\").get(),\n",
    "        \"password\": Secret.load(\"stellar-redshift-password\").get(),\n",
    "\n",
    "        \"aws_access_key_id\": Secret.load(\"fla-s3-aws-access-key-id-east-1\").get(),\n",
    "        \"aws_secret_access_key\": Secret.load(\"fla-s3-aws-secret-access-key-east-1\").get(),\n",
    "        \"bucket\": Secret.load(\"fla-s3-bucket-name-east-1\").get(),\n",
    "        \"subdirectory\": \"us-east-1\",\n",
    "\n",
    "        \"verbose\": False,\n",
    "    }\n",
    "\n",
    "    return cred_dict\n",
    "\n",
    "with ThreadPoolExecutor(1) as pool:\n",
    "    rs_creds = pool.submit(lambda: get_redshift_credentials()).result()"
   ]
  },
  {
   "cell_type": "code",
   "execution_count": 13,
   "metadata": {},
   "outputs": [],
   "source": [
    "df = pd.read_csv(\"C:\\\\Users\\\\riffere\\\\OneDrive - Florida Panthers\\\\Documents\\\\LTP\\\\LTP_Combined.csv\")\n",
    "FLA_Redshift(**rs_creds).write_to_warehouse(df = df, table_name= \"community_ltp_data\")"
   ]
  },
  {
   "cell_type": "code",
   "execution_count": 14,
   "metadata": {},
   "outputs": [],
   "source": [
    "q = \"\"\"\n",
    "WITH initial AS (\n",
    "    SELECT\n",
    "        LOWER(parent_email) AS parent_email,\n",
    "        MIN(season) AS season,\n",
    "        MIN(date(transaction_date)) AS transaction_date\n",
    "    FROM\n",
    "        custom.community_ltp_data\n",
    "    GROUP BY\n",
    "        parent_email\n",
    "),\n",
    "acct_rev_info AS (\n",
    "    SELECT\n",
    "        contacts.email,\n",
    "        createdon AS add_date,\n",
    "        CASE\n",
    "            WHEN ticket.season LIKE '2021-22' THEN gross_revenue\n",
    "            ELSE 0\n",
    "        END AS \"gross_rev_2122\",\n",
    "        CASE\n",
    "            WHEN ticket.season LIKE '2022-23' THEN gross_revenue\n",
    "            ELSE 0\n",
    "        END AS \"gross_rev_2223\",\n",
    "        CASE\n",
    "            WHEN ticket.season LIKE '2023-24' THEN gross_revenue\n",
    "            ELSE 0\n",
    "        END AS \"gross_rev_2324\",\n",
    "        CASE\n",
    "            WHEN ticket.season LIKE '2024-25' THEN gross_revenue\n",
    "            ELSE 0\n",
    "        END AS \"gross_rev_2425\",\n",
    "        CASE\n",
    "            WHEN ticket.season LIKE '2021-22' AND \"ticket_type\" IN ('Annual Suites', 'Full', 'Half', 'Premier') THEN 1\n",
    "            ELSE 0\n",
    "        END AS \"is_stm_2122\",\n",
    "        CASE\n",
    "            WHEN ticket.season LIKE '2022-23' AND \"ticket_type\" IN ('Annual Suites', 'Full', 'Half', 'Premier') THEN 1\n",
    "            ELSE 0\n",
    "        END AS \"is_stm_2223\",\n",
    "        CASE\n",
    "            WHEN ticket.season LIKE '2023-24' AND \"ticket_type\" IN ('Annual Suites', 'Full', 'Half', 'Premier') THEN 1\n",
    "            ELSE 0\n",
    "        END AS \"is_stm_2324\",\n",
    "        CASE\n",
    "            WHEN ticket.season LIKE '2024-25' AND \"ticket_type\" IN ('Annual Suites', 'Full', 'Half', 'Premier') THEN 1\n",
    "            ELSE 0\n",
    "        END AS \"is_stm_2425\"\n",
    "    FROM\n",
    "        custom.cth_v_historical_ticket ticket\n",
    "    JOIN\n",
    "        custom.korepss_externalsystemtocontact ext ON ticket.purchaser_ticketing_id = ext.externalcontactid\n",
    "    JOIN\n",
    "        custom.korepss_contacts contacts ON ext.crmcontactid = contacts.contactid\n",
    "),\n",
    "acct_rev_agg AS (\n",
    "    SELECT\n",
    "        email,\n",
    "        MIN(add_date) AS add_date,\n",
    "        SUM(gross_rev_2122) AS gross_rev_2122,\n",
    "        SUM(gross_rev_2223) AS gross_rev_2223,\n",
    "        SUM(gross_rev_2324) AS gross_rev_2324,\n",
    "        SUM(gross_rev_2425) AS gross_rev_2425,\n",
    "        MAX(is_stm_2122) AS is_stm_2122,\n",
    "        MAX(is_stm_2223) AS is_stm_2223,\n",
    "        MAX(is_stm_2324) AS is_stm_2324,\n",
    "        MAX(is_stm_2425) AS is_stm_2425\n",
    "    FROM\n",
    "        acct_rev_info\n",
    "    GROUP BY\n",
    "        email\n",
    ")\n",
    "SELECT\n",
    "    parent_email,\n",
    "    transaction_date,\n",
    "    initial.season,\n",
    "    add_date,\n",
    "    COALESCE(gross_rev_2122, 0) AS gross_rev_2122,\n",
    "    COALESCE(gross_rev_2223, 0) AS gross_rev_2223,\n",
    "    COALESCE(gross_rev_2324, 0) AS gross_rev_2324,\n",
    "    COALESCE(gross_rev_2425, 0) AS gross_rev_2425,\n",
    "    COALESCE(is_stm_2122, 0) AS is_stm_2122,\n",
    "    COALESCE(is_stm_2223, 0) AS is_stm_2223,\n",
    "    COALESCE(is_stm_2324, 0) AS is_stm_2324,\n",
    "    COALESCE(is_stm_2425, 0) AS is_stm_2425\n",
    "FROM\n",
    "    initial\n",
    "LEFT JOIN\n",
    "    acct_rev_agg ON initial.parent_email = acct_rev_agg.email\n",
    "WHERE\n",
    "    initial.parent_email IS NOT NULL \n",
    "    AND initial.parent_email <> ''\n",
    "    AND initial.season IN ('2021-22', '2022-23', '2023-24', '2024-25')\n",
    "\"\"\""
   ]
  },
  {
   "cell_type": "code",
   "execution_count": 15,
   "metadata": {},
   "outputs": [],
   "source": [
    "df = FLA_Redshift(**rs_creds).query_warehouse(sql_string = q)"
   ]
  },
  {
   "cell_type": "code",
   "execution_count": 16,
   "metadata": {},
   "outputs": [
    {
     "name": "stderr",
     "output_type": "stream",
     "text": [
      "C:\\Users\\riffere\\AppData\\Local\\Temp\\ipykernel_19528\\4015671550.py:1: FutureWarning: A value is trying to be set on a copy of a DataFrame or Series through chained assignment using an inplace method.\n",
      "The behavior will change in pandas 3.0. This inplace method will never work because the intermediate object on which we are setting values always behaves as a copy.\n",
      "\n",
      "For example, when doing 'df[col].method(value, inplace=True)', try using 'df.method({col: value}, inplace=True)' or df[col] = df[col].method(value) instead, to perform the operation inplace on the original object.\n",
      "\n",
      "\n",
      "  df['add_date'].fillna(datetime.strptime('2030-01-01', \"%Y-%m-%d\"), inplace = True)\n"
     ]
    }
   ],
   "source": [
    "df['add_date'].fillna(datetime.strptime('2030-01-01', \"%Y-%m-%d\"), inplace = True)\n",
    "df['add_date'] = pd.to_datetime(df['add_date']).dt.date\n",
    "df['transaction_date'] = pd.to_datetime(df['transaction_date']).dt.date"
   ]
  },
  {
   "cell_type": "code",
   "execution_count": 17,
   "metadata": {},
   "outputs": [],
   "source": [
    "df['pre_altp_email'] = df.apply(lambda row: 0 if row['transaction_date'] == '' else (1 if row['add_date'] < row['transaction_date'] else 0), axis = 1)\n",
    "df['post_altp_email'] = df.apply(lambda row: 0 if row['transaction_date'] == '' else (1 if row['add_date'] >= row['transaction_date'] else 0), axis = 1)"
   ]
  },
  {
   "cell_type": "code",
   "execution_count": 18,
   "metadata": {},
   "outputs": [],
   "source": [
    "season_dict = {\n",
    "    \"2021-22\" : 1,\n",
    "    \"2022-23\" : 2,\n",
    "    \"2023-24\" : 3,\n",
    "    \"2024-25\" : 4\n",
    "}\n",
    "\n",
    "# sum season tickets before/after\n",
    "for key, value in season_dict.items():\n",
    "    col_list = list(df.columns[4:(4+value)])\n",
    "    # print(col_list)\n",
    "    df.loc[(df['season'] == key), 'pre_ltp_revenue'] =  df[col_list].sum(axis = 1)\n",
    "\n",
    "for key, value in season_dict.items():\n",
    "    col_list = list(df.columns[(4 + value):8])\n",
    "    # print(col_list)\n",
    "    df.loc[(df['season'] == key), 'post_ltp_revenue'] =  df[col_list].sum(axis = 1)\n",
    "\n",
    "# sum revenue before/after\n",
    "for key, value in season_dict.items():\n",
    "    col_list = list(df.columns[8:(8+value)])\n",
    "    # print(col_list)\n",
    "    df.loc[(df['season'] == key), 'pre_ltp_tickets'] =  df[col_list].sum(axis = 1)\n",
    "\n",
    "\n",
    "for key, value in season_dict.items():\n",
    "    col_list = list(df.columns[(8 + value):12])\n",
    "    # print(col_list)\n",
    "    df.loc[(df['season'] == key), 'post_ltp_tickets'] =  df[col_list].sum(axis = 1)"
   ]
  },
  {
   "cell_type": "code",
   "execution_count": 19,
   "metadata": {},
   "outputs": [
    {
     "data": {
      "text/html": [
       "<div>\n",
       "<style scoped>\n",
       "    .dataframe tbody tr th:only-of-type {\n",
       "        vertical-align: middle;\n",
       "    }\n",
       "\n",
       "    .dataframe tbody tr th {\n",
       "        vertical-align: top;\n",
       "    }\n",
       "\n",
       "    .dataframe thead th {\n",
       "        text-align: right;\n",
       "    }\n",
       "</style>\n",
       "<table border=\"1\" class=\"dataframe\">\n",
       "  <thead>\n",
       "    <tr style=\"text-align: right;\">\n",
       "      <th></th>\n",
       "      <th>parent_email</th>\n",
       "      <th>transaction_date</th>\n",
       "      <th>season</th>\n",
       "      <th>add_date</th>\n",
       "      <th>gross_rev_2122</th>\n",
       "      <th>gross_rev_2223</th>\n",
       "      <th>gross_rev_2324</th>\n",
       "      <th>gross_rev_2425</th>\n",
       "      <th>is_stm_2122</th>\n",
       "      <th>is_stm_2223</th>\n",
       "      <th>is_stm_2324</th>\n",
       "      <th>is_stm_2425</th>\n",
       "      <th>pre_altp_email</th>\n",
       "      <th>post_altp_email</th>\n",
       "      <th>pre_ltp_revenue</th>\n",
       "      <th>post_ltp_revenue</th>\n",
       "      <th>pre_ltp_tickets</th>\n",
       "      <th>post_ltp_tickets</th>\n",
       "    </tr>\n",
       "  </thead>\n",
       "  <tbody>\n",
       "  </tbody>\n",
       "</table>\n",
       "</div>"
      ],
      "text/plain": [
       "Empty DataFrame\n",
       "Columns: [parent_email, transaction_date, season, add_date, gross_rev_2122, gross_rev_2223, gross_rev_2324, gross_rev_2425, is_stm_2122, is_stm_2223, is_stm_2324, is_stm_2425, pre_altp_email, post_altp_email, pre_ltp_revenue, post_ltp_revenue, pre_ltp_tickets, post_ltp_tickets]\n",
       "Index: []"
      ]
     },
     "execution_count": 19,
     "metadata": {},
     "output_type": "execute_result"
    }
   ],
   "source": [
    "df[df['season'] == '2024=25']"
   ]
  },
  {
   "cell_type": "code",
   "execution_count": 20,
   "metadata": {},
   "outputs": [],
   "source": [
    "FLA_Redshift(**rs_creds).write_to_warehouse(df = df, table_name= \"community_v_ltp\")"
   ]
  }
 ],
 "metadata": {
  "kernelspec": {
   "display_name": "venv",
   "language": "python",
   "name": "python3"
  },
  "language_info": {
   "codemirror_mode": {
    "name": "ipython",
    "version": 3
   },
   "file_extension": ".py",
   "mimetype": "text/x-python",
   "name": "python",
   "nbconvert_exporter": "python",
   "pygments_lexer": "ipython3",
   "version": "3.11.9"
  }
 },
 "nbformat": 4,
 "nbformat_minor": 2
}
